{
 "cells": [
  {
   "cell_type": "markdown",
   "metadata": {},
   "source": [
    "# Sentiment Analysis Web App\n",
    "\n",
    "_Deep Learning Nanodegree Program | Deployment_\n",
    "\n",
    "---\n",
    "\n",
    "In this notebook we will use Amazon's SageMaker service to construct a random tree model to predict the sentiment of a movie review. In addition, we will deploy this model to an endpoint and construct a very simple web app which will interact with our model's deployed endpoint.\n",
    "\n",
    "## General Outline\n",
    "\n",
    "Typically, when using a notebook instance with SageMaker, you will proceed through the following steps. Of course, not every step will need to be done with each project. Also, there is quite a lot of room for variation in many of the steps, as you will see throughout these lessons.\n",
    "\n",
    "1. Download or otherwise retrieve the data.\n",
    "2. Process / Prepare the data.\n",
    "3. Upload the processed data to S3.\n",
    "4. Train a chosen model.\n",
    "5. Test the trained model (typically using a batch transform job).\n",
    "6. Deploy the trained model.\n",
    "7. Use the deployed model.\n",
    "\n",
    "In this notebook we will progress through each of the steps above. We will also see that the final step, using the deployed model, can be quite challenging."
   ]
  },
  {
   "cell_type": "markdown",
   "metadata": {},
   "source": [
    "## Step 1: Downloading the data\n",
    "\n",
    "The dataset we are going to use is very popular among researchers in Natural Language Processing, usually referred to as the [IMDb dataset](http://ai.stanford.edu/~amaas/data/sentiment/). It consists of movie reviews from the website [imdb.com](http://www.imdb.com/), each labeled as either '**pos**itive', if the reviewer enjoyed the film, or '**neg**ative' otherwise.\n",
    "\n",
    "> Maas, Andrew L., et al. [Learning Word Vectors for Sentiment Analysis](http://ai.stanford.edu/~amaas/data/sentiment/). In _Proceedings of the 49th Annual Meeting of the Association for Computational Linguistics: Human Language Technologies_. Association for Computational Linguistics, 2011.\n",
    "\n",
    "We begin by using some Jupyter Notebook magic to download and extract the dataset."
   ]
  },
  {
   "cell_type": "code",
   "execution_count": 1,
   "metadata": {},
   "outputs": [
    {
     "name": "stdout",
     "output_type": "stream",
     "text": [
      "mkdir: cannot create directory ‘../data’: File exists\n",
      "--2020-07-12 21:41:32--  http://ai.stanford.edu/~amaas/data/sentiment/aclImdb_v1.tar.gz\n",
      "Resolving ai.stanford.edu (ai.stanford.edu)... 171.64.68.10\n",
      "Connecting to ai.stanford.edu (ai.stanford.edu)|171.64.68.10|:80... connected.\n",
      "HTTP request sent, awaiting response... 200 OK\n",
      "Length: 84125825 (80M) [application/x-gzip]\n",
      "Saving to: ‘../data/aclImdb_v1.tar.gz’\n",
      "\n",
      "../data/aclImdb_v1. 100%[===================>]  80.23M  25.1MB/s    in 3.5s    \n",
      "\n",
      "2020-07-12 21:41:36 (22.8 MB/s) - ‘../data/aclImdb_v1.tar.gz’ saved [84125825/84125825]\n",
      "\n"
     ]
    }
   ],
   "source": [
    "%mkdir ../data\n",
    "!wget -O ../data/aclImdb_v1.tar.gz http://ai.stanford.edu/~amaas/data/sentiment/aclImdb_v1.tar.gz\n",
    "!tar -zxf ../data/aclImdb_v1.tar.gz -C ../data"
   ]
  },
  {
   "cell_type": "markdown",
   "metadata": {},
   "source": [
    "## Step 2: Preparing and Processing the data\n",
    "\n",
    "The data we have downloaded is split into various files, each of which contains a single review. It will be much easier going forward if we combine these individual files into two large files, one for training and one for testing."
   ]
  },
  {
   "cell_type": "code",
   "execution_count": 2,
   "metadata": {},
   "outputs": [],
   "source": [
    "import os\n",
    "import glob\n",
    "\n",
    "def read_imdb_data(data_dir='../data/aclImdb'):\n",
    "    data = {}\n",
    "    labels = {}\n",
    "    \n",
    "    for data_type in ['train', 'test']:\n",
    "        data[data_type] = {}\n",
    "        labels[data_type] = {}\n",
    "        \n",
    "        for sentiment in ['pos', 'neg']:\n",
    "            data[data_type][sentiment] = []\n",
    "            labels[data_type][sentiment] = []\n",
    "            \n",
    "            path = os.path.join(data_dir, data_type, sentiment, '*.txt')\n",
    "            files = glob.glob(path)\n",
    "            \n",
    "            for f in files:\n",
    "                with open(f) as review:\n",
    "                    data[data_type][sentiment].append(review.read())\n",
    "                    # Here we represent a positive review by '1' and a negative review by '0'\n",
    "                    labels[data_type][sentiment].append(1 if sentiment == 'pos' else 0)\n",
    "                    \n",
    "            assert len(data[data_type][sentiment]) == len(labels[data_type][sentiment]), \\\n",
    "                    \"{}/{} data size does not match labels size\".format(data_type, sentiment)\n",
    "                \n",
    "    return data, labels"
   ]
  },
  {
   "cell_type": "code",
   "execution_count": 3,
   "metadata": {},
   "outputs": [
    {
     "name": "stdout",
     "output_type": "stream",
     "text": [
      "IMDB reviews: train = 12500 pos / 12500 neg, test = 12500 pos / 12500 neg\n"
     ]
    }
   ],
   "source": [
    "data, labels = read_imdb_data()\n",
    "print(\"IMDB reviews: train = {} pos / {} neg, test = {} pos / {} neg\".format(\n",
    "            len(data['train']['pos']), len(data['train']['neg']),\n",
    "            len(data['test']['pos']), len(data['test']['neg'])))"
   ]
  },
  {
   "cell_type": "code",
   "execution_count": 4,
   "metadata": {},
   "outputs": [],
   "source": [
    "from sklearn.utils import shuffle\n",
    "\n",
    "def prepare_imdb_data(data, labels):\n",
    "    \"\"\"Prepare training and test sets from IMDb movie reviews.\"\"\"\n",
    "    \n",
    "    #Combine positive and negative reviews and labels\n",
    "    data_train = data['train']['pos'] + data['train']['neg']\n",
    "    data_test = data['test']['pos'] + data['test']['neg']\n",
    "    labels_train = labels['train']['pos'] + labels['train']['neg']\n",
    "    labels_test = labels['test']['pos'] + labels['test']['neg']\n",
    "    \n",
    "    #Shuffle reviews and corresponding labels within training and test sets\n",
    "    data_train, labels_train = shuffle(data_train, labels_train)\n",
    "    data_test, labels_test = shuffle(data_test, labels_test)\n",
    "    \n",
    "    # Return a unified training data, test data, training labels, test labets\n",
    "    return data_train, data_test, labels_train, labels_test"
   ]
  },
  {
   "cell_type": "code",
   "execution_count": 5,
   "metadata": {},
   "outputs": [
    {
     "name": "stdout",
     "output_type": "stream",
     "text": [
      "IMDb reviews (combined): train = 25000, test = 25000\n"
     ]
    }
   ],
   "source": [
    "train_X, test_X, train_y, test_y = prepare_imdb_data(data, labels)\n",
    "print(\"IMDb reviews (combined): train = {}, test = {}\".format(len(train_X), len(test_X)))"
   ]
  },
  {
   "cell_type": "code",
   "execution_count": 6,
   "metadata": {},
   "outputs": [
    {
     "data": {
      "text/plain": [
       "'This is definatley one of the best stand-up shows evre. EVER. Eddie is so off the wall that I\\'ve been watching this damn show for nearly five years now, and it still rocks every single time. Just everything from his big broad physical comedy down to the little off the top of the head side remarks, it\\'s a masterpeice. You need look no further than this line \"The word herb. You say erb, and we say herb, cuz ther\\'s a f###ing h in it\". Brilliant.'"
      ]
     },
     "execution_count": 6,
     "metadata": {},
     "output_type": "execute_result"
    }
   ],
   "source": [
    "train_X[100]"
   ]
  },
  {
   "cell_type": "markdown",
   "metadata": {},
   "source": [
    "## Processing the data\n",
    "\n",
    "Now that we have our training and testing datasets merged and ready to use, we need to start processing the raw data into something that will be useable by our machine learning algorithm. To begin with, we remove any html formatting and any non-alpha numeric characters that may appear in the reviews. We will do this in a very simplistic way using Python's regular expression module. We will discuss the reason for this rather simplistic pre-processing later on."
   ]
  },
  {
   "cell_type": "code",
   "execution_count": 7,
   "metadata": {},
   "outputs": [],
   "source": [
    "import re\n",
    "\n",
    "REPLACE_NO_SPACE = re.compile(\"(\\.)|(\\;)|(\\:)|(\\!)|(\\')|(\\?)|(\\,)|(\\\")|(\\()|(\\))|(\\[)|(\\])\")\n",
    "REPLACE_WITH_SPACE = re.compile(\"(<br\\s*/><br\\s*/>)|(\\-)|(\\/)\")\n",
    "\n",
    "def review_to_words(review):\n",
    "    words = REPLACE_NO_SPACE.sub(\"\", review.lower())\n",
    "    words = REPLACE_WITH_SPACE.sub(\" \", words)\n",
    "    return words"
   ]
  },
  {
   "cell_type": "code",
   "execution_count": 8,
   "metadata": {},
   "outputs": [
    {
     "data": {
      "text/plain": [
       "'this is definatley one of the best stand up shows evre ever eddie is so off the wall that ive been watching this damn show for nearly five years now and it still rocks every single time just everything from his big broad physical comedy down to the little off the top of the head side remarks its a masterpeice you need look no further than this line the word herb you say erb and we say herb cuz thers a f###ing h in it brilliant'"
      ]
     },
     "execution_count": 8,
     "metadata": {},
     "output_type": "execute_result"
    }
   ],
   "source": [
    "review_to_words(train_X[100])"
   ]
  },
  {
   "cell_type": "code",
   "execution_count": 9,
   "metadata": {},
   "outputs": [],
   "source": [
    "import pickle\n",
    "\n",
    "cache_dir = os.path.join(\"../cache\", \"sentiment_web_app\")  # where to store cache files\n",
    "os.makedirs(cache_dir, exist_ok=True)  # ensure cache directory exists\n",
    "\n",
    "def preprocess_data(data_train, data_test, labels_train, labels_test,\n",
    "                    cache_dir=cache_dir, cache_file=\"preprocessed_data.pkl\"):\n",
    "    \"\"\"Convert each review to words; read from cache if available.\"\"\"\n",
    "\n",
    "    # If cache_file is not None, try to read from it first\n",
    "    cache_data = None\n",
    "    if cache_file is not None:\n",
    "        try:\n",
    "            with open(os.path.join(cache_dir, cache_file), \"rb\") as f:\n",
    "                cache_data = pickle.load(f)\n",
    "            print(\"Read preprocessed data from cache file:\", cache_file)\n",
    "        except:\n",
    "            pass  # unable to read from cache, but that's okay\n",
    "    \n",
    "    # If cache is missing, then do the heavy lifting\n",
    "    if cache_data is None:\n",
    "        # Preprocess training and test data to obtain words for each review\n",
    "        #words_train = list(map(review_to_words, data_train))\n",
    "        #words_test = list(map(review_to_words, data_test))\n",
    "        words_train = [review_to_words(review) for review in data_train]\n",
    "        words_test = [review_to_words(review) for review in data_test]\n",
    "        \n",
    "        # Write to cache file for future runs\n",
    "        if cache_file is not None:\n",
    "            cache_data = dict(words_train=words_train, words_test=words_test,\n",
    "                              labels_train=labels_train, labels_test=labels_test)\n",
    "            with open(os.path.join(cache_dir, cache_file), \"wb\") as f:\n",
    "                pickle.dump(cache_data, f)\n",
    "            print(\"Wrote preprocessed data to cache file:\", cache_file)\n",
    "    else:\n",
    "        # Unpack data loaded from cache file\n",
    "        words_train, words_test, labels_train, labels_test = (cache_data['words_train'],\n",
    "                cache_data['words_test'], cache_data['labels_train'], cache_data['labels_test'])\n",
    "    \n",
    "    return words_train, words_test, labels_train, labels_test"
   ]
  },
  {
   "cell_type": "code",
   "execution_count": 10,
   "metadata": {},
   "outputs": [
    {
     "name": "stdout",
     "output_type": "stream",
     "text": [
      "Wrote preprocessed data to cache file: preprocessed_data.pkl\n"
     ]
    }
   ],
   "source": [
    "# Preprocess data\n",
    "train_X, test_X, train_y, test_y = preprocess_data(train_X, test_X, train_y, test_y)"
   ]
  },
  {
   "cell_type": "markdown",
   "metadata": {},
   "source": [
    "### Extract Bag-of-Words features\n",
    "\n",
    "For the model we will be implementing, rather than using the reviews directly, we are going to transform each review into a Bag-of-Words feature representation. Keep in mind that 'in the wild' we will only have access to the training set so our transformer can only use the training set to construct a representation."
   ]
  },
  {
   "cell_type": "code",
   "execution_count": 11,
   "metadata": {},
   "outputs": [
    {
     "name": "stderr",
     "output_type": "stream",
     "text": [
      "/home/ec2-user/anaconda3/envs/python3/lib/python3.6/site-packages/sklearn/externals/joblib/__init__.py:15: FutureWarning: sklearn.externals.joblib is deprecated in 0.21 and will be removed in 0.23. Please import this functionality directly from joblib, which can be installed with: pip install joblib. If this warning is raised when loading pickled models, you may need to re-serialize those models with scikit-learn 0.21+.\n",
      "  warnings.warn(msg, category=FutureWarning)\n"
     ]
    }
   ],
   "source": [
    "import numpy as np\n",
    "from sklearn.feature_extraction.text import CountVectorizer\n",
    "from sklearn.externals import joblib\n",
    "# joblib is an enhanced version of pickle that is more efficient for storing NumPy arrays\n",
    "\n",
    "def extract_BoW_features(words_train, words_test, vocabulary_size=5000,\n",
    "                         cache_dir=cache_dir, cache_file=\"bow_features.pkl\"):\n",
    "    \"\"\"Extract Bag-of-Words for a given set of documents, already preprocessed into words.\"\"\"\n",
    "    \n",
    "    # If cache_file is not None, try to read from it first\n",
    "    cache_data = None\n",
    "    if cache_file is not None:\n",
    "        try:\n",
    "            with open(os.path.join(cache_dir, cache_file), \"rb\") as f:\n",
    "                cache_data = joblib.load(f)\n",
    "            print(\"Read features from cache file:\", cache_file)\n",
    "        except:\n",
    "            pass  # unable to read from cache, but that's okay\n",
    "    \n",
    "    # If cache is missing, then do the heavy lifting\n",
    "    if cache_data is None:\n",
    "        # Fit a vectorizer to training documents and use it to transform them\n",
    "        # NOTE: Training documents have already been preprocessed and tokenized into words;\n",
    "        #       pass in dummy functions to skip those steps, e.g. preprocessor=lambda x: x\n",
    "        vectorizer = CountVectorizer(max_features=vocabulary_size)\n",
    "        features_train = vectorizer.fit_transform(words_train).toarray()\n",
    "\n",
    "        # Apply the same vectorizer to transform the test documents (ignore unknown words)\n",
    "        features_test = vectorizer.transform(words_test).toarray()\n",
    "        \n",
    "        # NOTE: Remember to convert the features using .toarray() for a compact representation\n",
    "        \n",
    "        # Write to cache file for future runs (store vocabulary as well)\n",
    "        if cache_file is not None:\n",
    "            vocabulary = vectorizer.vocabulary_\n",
    "            cache_data = dict(features_train=features_train, features_test=features_test,\n",
    "                             vocabulary=vocabulary)\n",
    "            with open(os.path.join(cache_dir, cache_file), \"wb\") as f:\n",
    "                joblib.dump(cache_data, f)\n",
    "            print(\"Wrote features to cache file:\", cache_file)\n",
    "    else:\n",
    "        # Unpack data loaded from cache file\n",
    "        features_train, features_test, vocabulary = (cache_data['features_train'],\n",
    "                cache_data['features_test'], cache_data['vocabulary'])\n",
    "    \n",
    "    # Return both the extracted features as well as the vocabulary\n",
    "    return features_train, features_test, vocabulary"
   ]
  },
  {
   "cell_type": "code",
   "execution_count": 12,
   "metadata": {},
   "outputs": [
    {
     "name": "stdout",
     "output_type": "stream",
     "text": [
      "Wrote features to cache file: bow_features.pkl\n"
     ]
    }
   ],
   "source": [
    "# Extract Bag of Words features for both training and test datasets\n",
    "train_X, test_X, vocabulary = extract_BoW_features(train_X, test_X)"
   ]
  },
  {
   "cell_type": "code",
   "execution_count": 13,
   "metadata": {},
   "outputs": [
    {
     "data": {
      "text/plain": [
       "5000"
      ]
     },
     "execution_count": 13,
     "metadata": {},
     "output_type": "execute_result"
    }
   ],
   "source": [
    "len(train_X[100])"
   ]
  },
  {
   "cell_type": "markdown",
   "metadata": {},
   "source": [
    "## Step 3: Upload data to S3\n",
    "\n",
    "Now that we have created the feature representation of our training (and testing) data, it is time to start setting up and using the XGBoost classifier provided by SageMaker.\n",
    "\n",
    "### Writing the datasets\n",
    "\n",
    "The XGBoost classifier that we will be using requires the dataset to be written to a file and stored using Amazon S3. To do this, we will start by splitting the training dataset into two parts, the data we will train the model with and a validation set. Then, we will write those datasets to a file locally and then upload the files to S3. In addition, we will write the test set to a file and upload that file to S3. This is so that we can use SageMakers Batch Transform functionality to test our model once we've fit it."
   ]
  },
  {
   "cell_type": "code",
   "execution_count": 14,
   "metadata": {},
   "outputs": [],
   "source": [
    "import pandas as pd\n",
    "\n",
    "# Earlier we shuffled the training dataset so to make things simple we can just assign\n",
    "# the first 10 000 reviews to the validation set and use the remaining reviews for training.\n",
    "val_X = pd.DataFrame(train_X[:10000])\n",
    "train_X = pd.DataFrame(train_X[10000:])\n",
    "\n",
    "val_y = pd.DataFrame(train_y[:10000])\n",
    "train_y = pd.DataFrame(train_y[10000:])"
   ]
  },
  {
   "cell_type": "markdown",
   "metadata": {},
   "source": [
    "The documentation for the XGBoost algorithm in SageMaker requires that the training and validation datasets should contain no headers or index and that the label should occur first for each sample.\n",
    "\n",
    "For more information about this and other algorithms, the SageMaker developer documentation can be found on __[Amazon's website.](https://docs.aws.amazon.com/sagemaker/latest/dg/)__"
   ]
  },
  {
   "cell_type": "code",
   "execution_count": 15,
   "metadata": {},
   "outputs": [],
   "source": [
    "# First we make sure that the local directory in which we'd like to store the training and validation csv files exists.\n",
    "data_dir = '../data/sentiment_web_app'\n",
    "if not os.path.exists(data_dir):\n",
    "    os.makedirs(data_dir)"
   ]
  },
  {
   "cell_type": "code",
   "execution_count": 16,
   "metadata": {},
   "outputs": [],
   "source": [
    "pd.DataFrame(test_X).to_csv(os.path.join(data_dir, 'test.csv'), header=False, index=False)\n",
    "\n",
    "pd.concat([val_y, val_X], axis=1).to_csv(os.path.join(data_dir, 'validation.csv'), header=False, index=False)\n",
    "pd.concat([train_y, train_X], axis=1).to_csv(os.path.join(data_dir, 'train.csv'), header=False, index=False)"
   ]
  },
  {
   "cell_type": "code",
   "execution_count": 17,
   "metadata": {},
   "outputs": [],
   "source": [
    "# To save a bit of memory we can set text_X, train_X, val_X, train_y and val_y to None.\n",
    "\n",
    "test_X = train_X = val_X = train_y = val_y = None"
   ]
  },
  {
   "cell_type": "markdown",
   "metadata": {},
   "source": [
    "### Uploading Training / Validation files to S3\n",
    "\n",
    "Amazon's S3 service allows us to store files that can be accessed by both the built-in training models such as the XGBoost model we will be using as well as custom models such as the one we will see a little later.\n",
    "\n",
    "For this and most other tasks we will be doing using SageMaker, there are two methods we could use. The first is to use the low level functionality of SageMaker which requires knowing each of the objects involved in the SageMaker environment. The second is to use the high level functionality in which certain choices have been made on the user's behalf. The low level approach benefits from allowing the user a great deal of flexibility while the high level approach makes development much quicker. For our purposes we will opt to use the high level approach although using the low-level approach is certainly an option.\n",
    "\n",
    "Recall the method `upload_data()` which is a member of the object representing our current SageMaker session. What this method does is upload the data to the default bucket (which is created if it does not exist) into the path described by the key_prefix variable. To see this for yourself, once you have uploaded the data files, go to the S3 console and look to see where the files have been uploaded.\n",
    "\n",
    "For additional resources, see the __[SageMaker API documentation](http://sagemaker.readthedocs.io/en/latest/)__ and in addition the __[SageMaker Developer Guide.](https://docs.aws.amazon.com/sagemaker/latest/dg/)__"
   ]
  },
  {
   "cell_type": "code",
   "execution_count": 18,
   "metadata": {},
   "outputs": [],
   "source": [
    "import sagemaker\n",
    "\n",
    "session = sagemaker.Session() # Store the current SageMaker session\n",
    "\n",
    "# S3 prefix (which folder will we use)\n",
    "prefix = 'sentiment-web-app'\n",
    "\n",
    "test_location = session.upload_data(os.path.join(data_dir, 'test.csv'), key_prefix=prefix)\n",
    "val_location = session.upload_data(os.path.join(data_dir, 'validation.csv'), key_prefix=prefix)\n",
    "train_location = session.upload_data(os.path.join(data_dir, 'train.csv'), key_prefix=prefix)"
   ]
  },
  {
   "cell_type": "markdown",
   "metadata": {},
   "source": [
    "## Step 4: Creating the XGBoost model\n",
    "\n",
    "Now that the data has been uploaded it is time to create the XGBoost model. To begin with, we need to do some setup. At this point it is worth discussing what a model is in SageMaker. It is easiest to think of a model of comprising three different objects in the SageMaker ecosystem, which interact with one another.\n",
    "\n",
    "- Model Artifacts\n",
    "- Training Code (Container)\n",
    "- Inference Code (Container)\n",
    "\n",
    "The Model Artifacts are what you might think of as the actual model itself. For example, if you were building a neural network, the model artifacts would be the weights of the various layers. In our case, for an XGBoost model, the artifacts are the actual trees that are created during training.\n",
    "\n",
    "The other two objects, the training code and the inference code are then used to manipulate the training artifacts. More precisely, the training code uses the training data that is provided and creates the model artifacts, while the inference code uses the model artifacts to make predictions on new data.\n",
    "\n",
    "The way that SageMaker runs the training and inference code is by making use of Docker containers. For now, think of a container as being a way of packaging code up so that dependencies aren't an issue."
   ]
  },
  {
   "cell_type": "code",
   "execution_count": 19,
   "metadata": {},
   "outputs": [],
   "source": [
    "from sagemaker import get_execution_role\n",
    "\n",
    "# Our current execution role is required when creating the model as the training\n",
    "# and inference code will need to access the model artifacts.\n",
    "role = get_execution_role()"
   ]
  },
  {
   "cell_type": "code",
   "execution_count": 20,
   "metadata": {},
   "outputs": [
    {
     "name": "stderr",
     "output_type": "stream",
     "text": [
      "'get_image_uri' method will be deprecated in favor of 'ImageURIProvider' class in SageMaker Python SDK v2.\n",
      "WARNING:root:There is a more up to date SageMaker XGBoost image. To use the newer image, please set 'repo_version'='1.0-1'. For example:\n",
      "\tget_image_uri(region, 'xgboost', '1.0-1').\n"
     ]
    }
   ],
   "source": [
    "# We need to retrieve the location of the container which is provided by Amazon for using XGBoost.\n",
    "# As a matter of convenience, the training and inference code both use the same container.\n",
    "from sagemaker.amazon.amazon_estimator import get_image_uri\n",
    "\n",
    "container = get_image_uri(session.boto_region_name, 'xgboost')"
   ]
  },
  {
   "cell_type": "code",
   "execution_count": 21,
   "metadata": {},
   "outputs": [
    {
     "name": "stderr",
     "output_type": "stream",
     "text": [
      "WARNING:root:Parameter image_name will be renamed to image_uri in SageMaker Python SDK v2.\n"
     ]
    }
   ],
   "source": [
    "# First we create a SageMaker estimator object for our model.\n",
    "xgb = sagemaker.estimator.Estimator(container, # The location of the container we wish to use\n",
    "                                    role,                                    # What is our current IAM Role\n",
    "                                    train_instance_count=1,                  # How many compute instances\n",
    "                                    train_instance_type='ml.m4.xlarge',      # What kind of compute instances\n",
    "                                    output_path='s3://{}/{}/output'.format(session.default_bucket(), prefix),\n",
    "                                    sagemaker_session=session)\n",
    "\n",
    "# And then set the algorithm specific parameters.\n",
    "xgb.set_hyperparameters(max_depth=5,\n",
    "                        eta=0.2,\n",
    "                        gamma=4,\n",
    "                        min_child_weight=6,\n",
    "                        subsample=0.8,\n",
    "                        silent=0,\n",
    "                        objective='binary:logistic',\n",
    "                        early_stopping_rounds=10,\n",
    "                        num_round=500)"
   ]
  },
  {
   "cell_type": "markdown",
   "metadata": {},
   "source": [
    "### Fit the XGBoost model\n",
    "\n",
    "Now that our model has been set up we simply need to attach the training and validation datasets and then ask SageMaker to set up the computation."
   ]
  },
  {
   "cell_type": "code",
   "execution_count": 22,
   "metadata": {},
   "outputs": [
    {
     "name": "stderr",
     "output_type": "stream",
     "text": [
      "WARNING:sagemaker:'s3_input' class will be renamed to 'TrainingInput' in SageMaker Python SDK v2.\n",
      "WARNING:sagemaker:'s3_input' class will be renamed to 'TrainingInput' in SageMaker Python SDK v2.\n"
     ]
    }
   ],
   "source": [
    "s3_input_train = sagemaker.s3_input(s3_data=train_location, content_type='csv')\n",
    "s3_input_validation = sagemaker.s3_input(s3_data=val_location, content_type='csv')"
   ]
  },
  {
   "cell_type": "code",
   "execution_count": 23,
   "metadata": {},
   "outputs": [
    {
     "name": "stdout",
     "output_type": "stream",
     "text": [
      "2020-07-12 21:46:16 Starting - Starting the training job...\n",
      "2020-07-12 21:46:18 Starting - Launching requested ML instances......\n",
      "2020-07-12 21:47:20 Starting - Preparing the instances for training...\n",
      "2020-07-12 21:48:07 Downloading - Downloading input data...\n",
      "2020-07-12 21:48:42 Training - Training image download completed. Training in progress..\u001b[34mArguments: train\u001b[0m\n",
      "\u001b[34m[2020-07-12:21:48:43:INFO] Running standalone xgboost training.\u001b[0m\n",
      "\u001b[34m[2020-07-12:21:48:43:INFO] File size need to be processed in the node: 238.5mb. Available memory size in the node: 8481.84mb\u001b[0m\n",
      "\u001b[34m[2020-07-12:21:48:43:INFO] Determined delimiter of CSV input is ','\u001b[0m\n",
      "\u001b[34m[21:48:43] S3DistributionType set as FullyReplicated\u001b[0m\n",
      "\u001b[34m[21:48:45] 15000x5000 matrix with 75000000 entries loaded from /opt/ml/input/data/train?format=csv&label_column=0&delimiter=,\u001b[0m\n",
      "\u001b[34m[2020-07-12:21:48:45:INFO] Determined delimiter of CSV input is ','\u001b[0m\n",
      "\u001b[34m[21:48:45] S3DistributionType set as FullyReplicated\u001b[0m\n",
      "\u001b[34m[21:48:46] 10000x5000 matrix with 50000000 entries loaded from /opt/ml/input/data/validation?format=csv&label_column=0&delimiter=,\u001b[0m\n",
      "\u001b[34m[21:48:49] src/tree/updater_prune.cc:74: tree pruning end, 1 roots, 40 extra nodes, 14 pruned nodes, max_depth=5\u001b[0m\n",
      "\u001b[34m[0]#011train-error:0.313#011validation-error:0.3079\u001b[0m\n",
      "\u001b[34mMultiple eval metrics have been passed: 'validation-error' will be used for early stopping.\n",
      "\u001b[0m\n",
      "\u001b[34mWill train until validation-error hasn't improved in 10 rounds.\u001b[0m\n",
      "\u001b[34m[21:48:51] src/tree/updater_prune.cc:74: tree pruning end, 1 roots, 34 extra nodes, 10 pruned nodes, max_depth=5\u001b[0m\n",
      "\u001b[34m[1]#011train-error:0.3016#011validation-error:0.3004\u001b[0m\n",
      "\u001b[34m[21:48:52] src/tree/updater_prune.cc:74: tree pruning end, 1 roots, 42 extra nodes, 2 pruned nodes, max_depth=5\u001b[0m\n",
      "\u001b[34m[2]#011train-error:0.287667#011validation-error:0.286\u001b[0m\n",
      "\u001b[34m[21:48:53] src/tree/updater_prune.cc:74: tree pruning end, 1 roots, 46 extra nodes, 2 pruned nodes, max_depth=5\u001b[0m\n",
      "\u001b[34m[3]#011train-error:0.278733#011validation-error:0.2791\u001b[0m\n",
      "\u001b[34m[21:48:55] src/tree/updater_prune.cc:74: tree pruning end, 1 roots, 36 extra nodes, 8 pruned nodes, max_depth=5\u001b[0m\n",
      "\u001b[34m[4]#011train-error:0.272133#011validation-error:0.2693\u001b[0m\n",
      "\u001b[34m[21:48:56] src/tree/updater_prune.cc:74: tree pruning end, 1 roots, 32 extra nodes, 8 pruned nodes, max_depth=5\u001b[0m\n",
      "\u001b[34m[5]#011train-error:0.264133#011validation-error:0.2634\u001b[0m\n",
      "\u001b[34m[21:48:57] src/tree/updater_prune.cc:74: tree pruning end, 1 roots, 40 extra nodes, 8 pruned nodes, max_depth=5\u001b[0m\n",
      "\u001b[34m[6]#011train-error:0.250467#011validation-error:0.259\u001b[0m\n",
      "\u001b[34m[21:48:59] src/tree/updater_prune.cc:74: tree pruning end, 1 roots, 26 extra nodes, 4 pruned nodes, max_depth=5\u001b[0m\n",
      "\u001b[34m[7]#011train-error:0.242933#011validation-error:0.2507\u001b[0m\n",
      "\u001b[34m[21:49:00] src/tree/updater_prune.cc:74: tree pruning end, 1 roots, 30 extra nodes, 18 pruned nodes, max_depth=5\u001b[0m\n",
      "\u001b[34m[8]#011train-error:0.236267#011validation-error:0.247\u001b[0m\n",
      "\u001b[34m[21:49:01] src/tree/updater_prune.cc:74: tree pruning end, 1 roots, 28 extra nodes, 6 pruned nodes, max_depth=5\u001b[0m\n",
      "\u001b[34m[9]#011train-error:0.227733#011validation-error:0.2397\u001b[0m\n",
      "\u001b[34m[21:49:03] src/tree/updater_prune.cc:74: tree pruning end, 1 roots, 46 extra nodes, 4 pruned nodes, max_depth=5\u001b[0m\n",
      "\u001b[34m[10]#011train-error:0.2224#011validation-error:0.2328\u001b[0m\n",
      "\u001b[34m[21:49:04] src/tree/updater_prune.cc:74: tree pruning end, 1 roots, 36 extra nodes, 6 pruned nodes, max_depth=5\u001b[0m\n",
      "\u001b[34m[11]#011train-error:0.217267#011validation-error:0.2292\u001b[0m\n",
      "\u001b[34m[21:49:05] src/tree/updater_prune.cc:74: tree pruning end, 1 roots, 28 extra nodes, 4 pruned nodes, max_depth=5\u001b[0m\n",
      "\u001b[34m[12]#011train-error:0.213133#011validation-error:0.2239\u001b[0m\n",
      "\u001b[34m[21:49:06] src/tree/updater_prune.cc:74: tree pruning end, 1 roots, 30 extra nodes, 8 pruned nodes, max_depth=5\u001b[0m\n",
      "\u001b[34m[13]#011train-error:0.2088#011validation-error:0.2213\u001b[0m\n",
      "\u001b[34m[21:49:08] src/tree/updater_prune.cc:74: tree pruning end, 1 roots, 38 extra nodes, 4 pruned nodes, max_depth=5\u001b[0m\n",
      "\u001b[34m[14]#011train-error:0.200867#011validation-error:0.216\u001b[0m\n",
      "\u001b[34m[21:49:09] src/tree/updater_prune.cc:74: tree pruning end, 1 roots, 26 extra nodes, 6 pruned nodes, max_depth=5\u001b[0m\n",
      "\u001b[34m[15]#011train-error:0.198867#011validation-error:0.2176\u001b[0m\n",
      "\u001b[34m[21:49:10] src/tree/updater_prune.cc:74: tree pruning end, 1 roots, 22 extra nodes, 14 pruned nodes, max_depth=5\u001b[0m\n",
      "\u001b[34m[16]#011train-error:0.193267#011validation-error:0.2139\u001b[0m\n",
      "\u001b[34m[21:49:12] src/tree/updater_prune.cc:74: tree pruning end, 1 roots, 30 extra nodes, 6 pruned nodes, max_depth=5\u001b[0m\n",
      "\u001b[34m[17]#011train-error:0.1904#011validation-error:0.2139\u001b[0m\n",
      "\u001b[34m[21:49:13] src/tree/updater_prune.cc:74: tree pruning end, 1 roots, 20 extra nodes, 12 pruned nodes, max_depth=5\u001b[0m\n",
      "\u001b[34m[18]#011train-error:0.1882#011validation-error:0.2118\u001b[0m\n",
      "\u001b[34m[21:49:14] src/tree/updater_prune.cc:74: tree pruning end, 1 roots, 36 extra nodes, 4 pruned nodes, max_depth=5\u001b[0m\n",
      "\u001b[34m[19]#011train-error:0.185733#011validation-error:0.2071\u001b[0m\n",
      "\u001b[34m[21:49:15] src/tree/updater_prune.cc:74: tree pruning end, 1 roots, 28 extra nodes, 12 pruned nodes, max_depth=5\u001b[0m\n",
      "\u001b[34m[20]#011train-error:0.1824#011validation-error:0.2055\u001b[0m\n",
      "\u001b[34m[21:49:17] src/tree/updater_prune.cc:74: tree pruning end, 1 roots, 22 extra nodes, 4 pruned nodes, max_depth=5\u001b[0m\n",
      "\u001b[34m[21]#011train-error:0.1802#011validation-error:0.2052\u001b[0m\n",
      "\u001b[34m[21:49:18] src/tree/updater_prune.cc:74: tree pruning end, 1 roots, 34 extra nodes, 10 pruned nodes, max_depth=5\u001b[0m\n",
      "\u001b[34m[22]#011train-error:0.178267#011validation-error:0.2022\u001b[0m\n",
      "\u001b[34m[21:49:19] src/tree/updater_prune.cc:74: tree pruning end, 1 roots, 28 extra nodes, 6 pruned nodes, max_depth=5\u001b[0m\n",
      "\u001b[34m[23]#011train-error:0.175133#011validation-error:0.1969\u001b[0m\n",
      "\u001b[34m[21:49:20] src/tree/updater_prune.cc:74: tree pruning end, 1 roots, 20 extra nodes, 8 pruned nodes, max_depth=5\u001b[0m\n",
      "\u001b[34m[24]#011train-error:0.173467#011validation-error:0.1976\u001b[0m\n",
      "\u001b[34m[21:49:22] src/tree/updater_prune.cc:74: tree pruning end, 1 roots, 30 extra nodes, 4 pruned nodes, max_depth=5\u001b[0m\n",
      "\u001b[34m[25]#011train-error:0.172533#011validation-error:0.1951\u001b[0m\n",
      "\u001b[34m[21:49:23] src/tree/updater_prune.cc:74: tree pruning end, 1 roots, 28 extra nodes, 10 pruned nodes, max_depth=5\u001b[0m\n",
      "\u001b[34m[26]#011train-error:0.169#011validation-error:0.1952\u001b[0m\n",
      "\u001b[34m[21:49:24] src/tree/updater_prune.cc:74: tree pruning end, 1 roots, 20 extra nodes, 10 pruned nodes, max_depth=5\u001b[0m\n",
      "\u001b[34m[27]#011train-error:0.167733#011validation-error:0.1936\u001b[0m\n",
      "\u001b[34m[21:49:26] src/tree/updater_prune.cc:74: tree pruning end, 1 roots, 42 extra nodes, 4 pruned nodes, max_depth=5\u001b[0m\n",
      "\u001b[34m[28]#011train-error:0.166133#011validation-error:0.1922\u001b[0m\n",
      "\u001b[34m[21:49:27] src/tree/updater_prune.cc:74: tree pruning end, 1 roots, 26 extra nodes, 10 pruned nodes, max_depth=5\u001b[0m\n",
      "\u001b[34m[29]#011train-error:0.163867#011validation-error:0.1907\u001b[0m\n",
      "\u001b[34m[21:49:28] src/tree/updater_prune.cc:74: tree pruning end, 1 roots, 30 extra nodes, 8 pruned nodes, max_depth=5\u001b[0m\n",
      "\u001b[34m[30]#011train-error:0.162333#011validation-error:0.19\u001b[0m\n",
      "\u001b[34m[21:49:29] src/tree/updater_prune.cc:74: tree pruning end, 1 roots, 40 extra nodes, 10 pruned nodes, max_depth=5\u001b[0m\n",
      "\u001b[34m[31]#011train-error:0.159733#011validation-error:0.1887\u001b[0m\n",
      "\u001b[34m[21:49:31] src/tree/updater_prune.cc:74: tree pruning end, 1 roots, 32 extra nodes, 6 pruned nodes, max_depth=5\u001b[0m\n",
      "\u001b[34m[32]#011train-error:0.158467#011validation-error:0.1887\u001b[0m\n",
      "\u001b[34m[21:49:32] src/tree/updater_prune.cc:74: tree pruning end, 1 roots, 24 extra nodes, 10 pruned nodes, max_depth=5\u001b[0m\n",
      "\u001b[34m[33]#011train-error:0.157533#011validation-error:0.1883\u001b[0m\n",
      "\u001b[34m[21:49:33] src/tree/updater_prune.cc:74: tree pruning end, 1 roots, 38 extra nodes, 8 pruned nodes, max_depth=5\u001b[0m\n",
      "\u001b[34m[34]#011train-error:0.156467#011validation-error:0.1878\u001b[0m\n",
      "\u001b[34m[21:49:34] src/tree/updater_prune.cc:74: tree pruning end, 1 roots, 24 extra nodes, 10 pruned nodes, max_depth=5\u001b[0m\n",
      "\u001b[34m[35]#011train-error:0.1548#011validation-error:0.1848\u001b[0m\n",
      "\u001b[34m[21:49:36] src/tree/updater_prune.cc:74: tree pruning end, 1 roots, 16 extra nodes, 8 pruned nodes, max_depth=5\u001b[0m\n",
      "\u001b[34m[36]#011train-error:0.1536#011validation-error:0.1834\u001b[0m\n",
      "\u001b[34m[21:49:37] src/tree/updater_prune.cc:74: tree pruning end, 1 roots, 24 extra nodes, 4 pruned nodes, max_depth=5\u001b[0m\n",
      "\u001b[34m[37]#011train-error:0.152133#011validation-error:0.1828\u001b[0m\n",
      "\u001b[34m[21:49:38] src/tree/updater_prune.cc:74: tree pruning end, 1 roots, 34 extra nodes, 6 pruned nodes, max_depth=5\u001b[0m\n",
      "\u001b[34m[38]#011train-error:0.150267#011validation-error:0.1806\u001b[0m\n",
      "\u001b[34m[21:49:39] src/tree/updater_prune.cc:74: tree pruning end, 1 roots, 20 extra nodes, 10 pruned nodes, max_depth=5\u001b[0m\n",
      "\u001b[34m[39]#011train-error:0.148333#011validation-error:0.1791\u001b[0m\n",
      "\u001b[34m[21:49:41] src/tree/updater_prune.cc:74: tree pruning end, 1 roots, 18 extra nodes, 12 pruned nodes, max_depth=5\u001b[0m\n",
      "\u001b[34m[40]#011train-error:0.148067#011validation-error:0.1785\u001b[0m\n"
     ]
    },
    {
     "name": "stdout",
     "output_type": "stream",
     "text": [
      "\u001b[34m[21:49:42] src/tree/updater_prune.cc:74: tree pruning end, 1 roots, 20 extra nodes, 14 pruned nodes, max_depth=5\u001b[0m\n",
      "\u001b[34m[41]#011train-error:0.147533#011validation-error:0.1776\u001b[0m\n",
      "\u001b[34m[21:49:43] src/tree/updater_prune.cc:74: tree pruning end, 1 roots, 32 extra nodes, 0 pruned nodes, max_depth=5\u001b[0m\n",
      "\u001b[34m[42]#011train-error:0.145733#011validation-error:0.1783\u001b[0m\n",
      "\u001b[34m[21:49:44] src/tree/updater_prune.cc:74: tree pruning end, 1 roots, 22 extra nodes, 12 pruned nodes, max_depth=5\u001b[0m\n",
      "\u001b[34m[43]#011train-error:0.144933#011validation-error:0.1771\u001b[0m\n",
      "\u001b[34m[21:49:46] src/tree/updater_prune.cc:74: tree pruning end, 1 roots, 26 extra nodes, 4 pruned nodes, max_depth=5\u001b[0m\n",
      "\u001b[34m[44]#011train-error:0.141933#011validation-error:0.1775\u001b[0m\n",
      "\u001b[34m[21:49:47] src/tree/updater_prune.cc:74: tree pruning end, 1 roots, 14 extra nodes, 12 pruned nodes, max_depth=5\u001b[0m\n",
      "\u001b[34m[45]#011train-error:0.141267#011validation-error:0.1753\u001b[0m\n",
      "\u001b[34m[21:49:48] src/tree/updater_prune.cc:74: tree pruning end, 1 roots, 26 extra nodes, 10 pruned nodes, max_depth=5\u001b[0m\n",
      "\u001b[34m[46]#011train-error:0.140067#011validation-error:0.1736\u001b[0m\n",
      "\u001b[34m[21:49:50] src/tree/updater_prune.cc:74: tree pruning end, 1 roots, 20 extra nodes, 6 pruned nodes, max_depth=5\u001b[0m\n",
      "\u001b[34m[47]#011train-error:0.139067#011validation-error:0.1738\u001b[0m\n",
      "\u001b[34m[21:49:51] src/tree/updater_prune.cc:74: tree pruning end, 1 roots, 32 extra nodes, 12 pruned nodes, max_depth=5\u001b[0m\n",
      "\u001b[34m[48]#011train-error:0.136467#011validation-error:0.1724\u001b[0m\n",
      "\u001b[34m[21:49:52] src/tree/updater_prune.cc:74: tree pruning end, 1 roots, 28 extra nodes, 2 pruned nodes, max_depth=5\u001b[0m\n",
      "\u001b[34m[49]#011train-error:0.135067#011validation-error:0.1731\u001b[0m\n",
      "\u001b[34m[21:49:53] src/tree/updater_prune.cc:74: tree pruning end, 1 roots, 18 extra nodes, 4 pruned nodes, max_depth=5\u001b[0m\n",
      "\u001b[34m[50]#011train-error:0.134333#011validation-error:0.1721\u001b[0m\n",
      "\u001b[34m[21:49:55] src/tree/updater_prune.cc:74: tree pruning end, 1 roots, 14 extra nodes, 18 pruned nodes, max_depth=5\u001b[0m\n",
      "\u001b[34m[51]#011train-error:0.134067#011validation-error:0.1724\u001b[0m\n",
      "\u001b[34m[21:49:56] src/tree/updater_prune.cc:74: tree pruning end, 1 roots, 16 extra nodes, 6 pruned nodes, max_depth=5\u001b[0m\n",
      "\u001b[34m[52]#011train-error:0.133067#011validation-error:0.1717\u001b[0m\n",
      "\u001b[34m[21:49:57] src/tree/updater_prune.cc:74: tree pruning end, 1 roots, 24 extra nodes, 6 pruned nodes, max_depth=5\u001b[0m\n",
      "\u001b[34m[53]#011train-error:0.1304#011validation-error:0.1728\u001b[0m\n",
      "\u001b[34m[21:49:58] src/tree/updater_prune.cc:74: tree pruning end, 1 roots, 16 extra nodes, 12 pruned nodes, max_depth=5\u001b[0m\n",
      "\u001b[34m[54]#011train-error:0.130933#011validation-error:0.1716\u001b[0m\n",
      "\u001b[34m[21:50:00] src/tree/updater_prune.cc:74: tree pruning end, 1 roots, 18 extra nodes, 10 pruned nodes, max_depth=5\u001b[0m\n",
      "\u001b[34m[55]#011train-error:0.130333#011validation-error:0.1703\u001b[0m\n",
      "\u001b[34m[21:50:01] src/tree/updater_prune.cc:74: tree pruning end, 1 roots, 16 extra nodes, 10 pruned nodes, max_depth=5\u001b[0m\n",
      "\u001b[34m[56]#011train-error:0.129#011validation-error:0.1692\u001b[0m\n",
      "\u001b[34m[21:50:02] src/tree/updater_prune.cc:74: tree pruning end, 1 roots, 22 extra nodes, 2 pruned nodes, max_depth=5\u001b[0m\n",
      "\u001b[34m[57]#011train-error:0.1288#011validation-error:0.1677\u001b[0m\n",
      "\u001b[34m[21:50:03] src/tree/updater_prune.cc:74: tree pruning end, 1 roots, 30 extra nodes, 10 pruned nodes, max_depth=5\u001b[0m\n",
      "\u001b[34m[58]#011train-error:0.127133#011validation-error:0.1675\u001b[0m\n",
      "\u001b[34m[21:50:05] src/tree/updater_prune.cc:74: tree pruning end, 1 roots, 22 extra nodes, 14 pruned nodes, max_depth=5\u001b[0m\n",
      "\u001b[34m[59]#011train-error:0.127267#011validation-error:0.1673\u001b[0m\n",
      "\u001b[34m[21:50:06] src/tree/updater_prune.cc:74: tree pruning end, 1 roots, 24 extra nodes, 4 pruned nodes, max_depth=5\u001b[0m\n",
      "\u001b[34m[60]#011train-error:0.126533#011validation-error:0.1662\u001b[0m\n",
      "\u001b[34m[21:50:07] src/tree/updater_prune.cc:74: tree pruning end, 1 roots, 26 extra nodes, 4 pruned nodes, max_depth=5\u001b[0m\n",
      "\u001b[34m[61]#011train-error:0.124867#011validation-error:0.1667\u001b[0m\n",
      "\u001b[34m[21:50:09] src/tree/updater_prune.cc:74: tree pruning end, 1 roots, 20 extra nodes, 8 pruned nodes, max_depth=5\u001b[0m\n",
      "\u001b[34m[62]#011train-error:0.124733#011validation-error:0.1661\u001b[0m\n",
      "\u001b[34m[21:50:10] src/tree/updater_prune.cc:74: tree pruning end, 1 roots, 16 extra nodes, 8 pruned nodes, max_depth=5\u001b[0m\n",
      "\u001b[34m[63]#011train-error:0.1242#011validation-error:0.1656\u001b[0m\n",
      "\u001b[34m[21:50:11] src/tree/updater_prune.cc:74: tree pruning end, 1 roots, 34 extra nodes, 4 pruned nodes, max_depth=5\u001b[0m\n",
      "\u001b[34m[64]#011train-error:0.122133#011validation-error:0.1646\u001b[0m\n",
      "\u001b[34m[21:50:12] src/tree/updater_prune.cc:74: tree pruning end, 1 roots, 22 extra nodes, 12 pruned nodes, max_depth=5\u001b[0m\n",
      "\u001b[34m[65]#011train-error:0.121867#011validation-error:0.1642\u001b[0m\n",
      "\u001b[34m[21:50:14] src/tree/updater_prune.cc:74: tree pruning end, 1 roots, 26 extra nodes, 10 pruned nodes, max_depth=5\u001b[0m\n",
      "\u001b[34m[66]#011train-error:0.121333#011validation-error:0.1631\u001b[0m\n",
      "\u001b[34m[21:50:15] src/tree/updater_prune.cc:74: tree pruning end, 1 roots, 16 extra nodes, 8 pruned nodes, max_depth=5\u001b[0m\n",
      "\u001b[34m[67]#011train-error:0.120667#011validation-error:0.1618\u001b[0m\n",
      "\u001b[34m[21:50:16] src/tree/updater_prune.cc:74: tree pruning end, 1 roots, 12 extra nodes, 12 pruned nodes, max_depth=5\u001b[0m\n",
      "\u001b[34m[68]#011train-error:0.119467#011validation-error:0.1621\u001b[0m\n",
      "\u001b[34m[21:50:17] src/tree/updater_prune.cc:74: tree pruning end, 1 roots, 14 extra nodes, 10 pruned nodes, max_depth=5\u001b[0m\n",
      "\u001b[34m[69]#011train-error:0.118933#011validation-error:0.1617\u001b[0m\n",
      "\u001b[34m[21:50:19] src/tree/updater_prune.cc:74: tree pruning end, 1 roots, 22 extra nodes, 2 pruned nodes, max_depth=5\u001b[0m\n",
      "\u001b[34m[70]#011train-error:0.118467#011validation-error:0.1618\u001b[0m\n",
      "\u001b[34m[21:50:20] src/tree/updater_prune.cc:74: tree pruning end, 1 roots, 22 extra nodes, 2 pruned nodes, max_depth=5\u001b[0m\n",
      "\u001b[34m[71]#011train-error:0.117#011validation-error:0.1606\u001b[0m\n",
      "\u001b[34m[21:50:21] src/tree/updater_prune.cc:74: tree pruning end, 1 roots, 18 extra nodes, 10 pruned nodes, max_depth=5\u001b[0m\n",
      "\u001b[34m[72]#011train-error:0.115467#011validation-error:0.1603\u001b[0m\n",
      "\u001b[34m[21:50:22] src/tree/updater_prune.cc:74: tree pruning end, 1 roots, 14 extra nodes, 2 pruned nodes, max_depth=5\u001b[0m\n",
      "\u001b[34m[73]#011train-error:0.1154#011validation-error:0.1588\u001b[0m\n",
      "\u001b[34m[21:50:24] src/tree/updater_prune.cc:74: tree pruning end, 1 roots, 18 extra nodes, 10 pruned nodes, max_depth=5\u001b[0m\n",
      "\u001b[34m[74]#011train-error:0.114867#011validation-error:0.1592\u001b[0m\n",
      "\u001b[34m[21:50:25] src/tree/updater_prune.cc:74: tree pruning end, 1 roots, 14 extra nodes, 4 pruned nodes, max_depth=5\u001b[0m\n",
      "\u001b[34m[75]#011train-error:0.1154#011validation-error:0.1589\u001b[0m\n",
      "\u001b[34m[21:50:26] src/tree/updater_prune.cc:74: tree pruning end, 1 roots, 14 extra nodes, 8 pruned nodes, max_depth=5\u001b[0m\n",
      "\u001b[34m[76]#011train-error:0.114067#011validation-error:0.1591\u001b[0m\n",
      "\u001b[34m[21:50:28] src/tree/updater_prune.cc:74: tree pruning end, 1 roots, 20 extra nodes, 2 pruned nodes, max_depth=5\u001b[0m\n",
      "\u001b[34m[77]#011train-error:0.112733#011validation-error:0.1576\u001b[0m\n",
      "\u001b[34m[21:50:29] src/tree/updater_prune.cc:74: tree pruning end, 1 roots, 32 extra nodes, 8 pruned nodes, max_depth=5\u001b[0m\n",
      "\u001b[34m[78]#011train-error:0.1124#011validation-error:0.1587\u001b[0m\n",
      "\u001b[34m[21:50:30] src/tree/updater_prune.cc:74: tree pruning end, 1 roots, 16 extra nodes, 8 pruned nodes, max_depth=5\u001b[0m\n",
      "\u001b[34m[79]#011train-error:0.112667#011validation-error:0.1592\u001b[0m\n",
      "\u001b[34m[21:50:31] src/tree/updater_prune.cc:74: tree pruning end, 1 roots, 30 extra nodes, 10 pruned nodes, max_depth=5\u001b[0m\n",
      "\u001b[34m[80]#011train-error:0.110933#011validation-error:0.1584\u001b[0m\n",
      "\u001b[34m[21:50:33] src/tree/updater_prune.cc:74: tree pruning end, 1 roots, 12 extra nodes, 6 pruned nodes, max_depth=5\u001b[0m\n",
      "\u001b[34m[81]#011train-error:0.110133#011validation-error:0.1585\u001b[0m\n",
      "\u001b[34m[21:50:34] src/tree/updater_prune.cc:74: tree pruning end, 1 roots, 32 extra nodes, 8 pruned nodes, max_depth=5\u001b[0m\n",
      "\u001b[34m[82]#011train-error:0.1082#011validation-error:0.1566\u001b[0m\n",
      "\u001b[34m[21:50:35] src/tree/updater_prune.cc:74: tree pruning end, 1 roots, 16 extra nodes, 8 pruned nodes, max_depth=5\u001b[0m\n",
      "\u001b[34m[83]#011train-error:0.108#011validation-error:0.1563\u001b[0m\n",
      "\u001b[34m[21:50:36] src/tree/updater_prune.cc:74: tree pruning end, 1 roots, 22 extra nodes, 4 pruned nodes, max_depth=5\u001b[0m\n",
      "\u001b[34m[84]#011train-error:0.1072#011validation-error:0.1564\u001b[0m\n",
      "\u001b[34m[21:50:38] src/tree/updater_prune.cc:74: tree pruning end, 1 roots, 14 extra nodes, 14 pruned nodes, max_depth=5\u001b[0m\n",
      "\u001b[34m[85]#011train-error:0.106933#011validation-error:0.1565\u001b[0m\n",
      "\u001b[34m[21:50:39] src/tree/updater_prune.cc:74: tree pruning end, 1 roots, 10 extra nodes, 4 pruned nodes, max_depth=5\u001b[0m\n",
      "\u001b[34m[86]#011train-error:0.106867#011validation-error:0.1554\u001b[0m\n",
      "\u001b[34m[21:50:40] src/tree/updater_prune.cc:74: tree pruning end, 1 roots, 12 extra nodes, 10 pruned nodes, max_depth=5\u001b[0m\n",
      "\u001b[34m[87]#011train-error:0.107#011validation-error:0.1551\u001b[0m\n",
      "\u001b[34m[21:50:41] src/tree/updater_prune.cc:74: tree pruning end, 1 roots, 14 extra nodes, 10 pruned nodes, max_depth=5\u001b[0m\n",
      "\u001b[34m[88]#011train-error:0.106867#011validation-error:0.1546\u001b[0m\n"
     ]
    },
    {
     "name": "stdout",
     "output_type": "stream",
     "text": [
      "\u001b[34m[21:50:43] src/tree/updater_prune.cc:74: tree pruning end, 1 roots, 16 extra nodes, 16 pruned nodes, max_depth=5\u001b[0m\n",
      "\u001b[34m[89]#011train-error:0.105933#011validation-error:0.1552\u001b[0m\n",
      "\u001b[34m[21:50:44] src/tree/updater_prune.cc:74: tree pruning end, 1 roots, 22 extra nodes, 4 pruned nodes, max_depth=5\u001b[0m\n",
      "\u001b[34m[90]#011train-error:0.104667#011validation-error:0.1539\u001b[0m\n",
      "\u001b[34m[21:50:45] src/tree/updater_prune.cc:74: tree pruning end, 1 roots, 14 extra nodes, 8 pruned nodes, max_depth=5\u001b[0m\n",
      "\u001b[34m[91]#011train-error:0.104067#011validation-error:0.1535\u001b[0m\n",
      "\u001b[34m[21:50:46] src/tree/updater_prune.cc:74: tree pruning end, 1 roots, 20 extra nodes, 12 pruned nodes, max_depth=5\u001b[0m\n",
      "\u001b[34m[92]#011train-error:0.1034#011validation-error:0.1528\u001b[0m\n",
      "\u001b[34m[21:50:48] src/tree/updater_prune.cc:74: tree pruning end, 1 roots, 14 extra nodes, 10 pruned nodes, max_depth=5\u001b[0m\n",
      "\u001b[34m[93]#011train-error:0.1028#011validation-error:0.1527\u001b[0m\n",
      "\u001b[34m[21:50:49] src/tree/updater_prune.cc:74: tree pruning end, 1 roots, 12 extra nodes, 8 pruned nodes, max_depth=5\u001b[0m\n",
      "\u001b[34m[94]#011train-error:0.102667#011validation-error:0.1528\u001b[0m\n",
      "\u001b[34m[21:50:50] src/tree/updater_prune.cc:74: tree pruning end, 1 roots, 20 extra nodes, 10 pruned nodes, max_depth=5\u001b[0m\n",
      "\u001b[34m[95]#011train-error:0.103133#011validation-error:0.1524\u001b[0m\n",
      "\u001b[34m[21:50:52] src/tree/updater_prune.cc:74: tree pruning end, 1 roots, 14 extra nodes, 12 pruned nodes, max_depth=5\u001b[0m\n",
      "\u001b[34m[96]#011train-error:0.102333#011validation-error:0.1513\u001b[0m\n",
      "\u001b[34m[21:50:53] src/tree/updater_prune.cc:74: tree pruning end, 1 roots, 28 extra nodes, 4 pruned nodes, max_depth=5\u001b[0m\n",
      "\u001b[34m[97]#011train-error:0.1022#011validation-error:0.1506\u001b[0m\n",
      "\u001b[34m[21:50:54] src/tree/updater_prune.cc:74: tree pruning end, 1 roots, 10 extra nodes, 8 pruned nodes, max_depth=5\u001b[0m\n",
      "\u001b[34m[98]#011train-error:0.102#011validation-error:0.1505\u001b[0m\n",
      "\u001b[34m[21:50:55] src/tree/updater_prune.cc:74: tree pruning end, 1 roots, 30 extra nodes, 12 pruned nodes, max_depth=5\u001b[0m\n",
      "\u001b[34m[99]#011train-error:0.102067#011validation-error:0.1489\u001b[0m\n",
      "\u001b[34m[21:50:57] src/tree/updater_prune.cc:74: tree pruning end, 1 roots, 18 extra nodes, 4 pruned nodes, max_depth=5\u001b[0m\n",
      "\u001b[34m[100]#011train-error:0.1012#011validation-error:0.1488\u001b[0m\n",
      "\u001b[34m[21:50:58] src/tree/updater_prune.cc:74: tree pruning end, 1 roots, 14 extra nodes, 10 pruned nodes, max_depth=5\u001b[0m\n",
      "\u001b[34m[101]#011train-error:0.100867#011validation-error:0.149\u001b[0m\n",
      "\u001b[34m[21:50:59] src/tree/updater_prune.cc:74: tree pruning end, 1 roots, 18 extra nodes, 10 pruned nodes, max_depth=5\u001b[0m\n",
      "\u001b[34m[102]#011train-error:0.101333#011validation-error:0.1486\u001b[0m\n",
      "\u001b[34m[21:51:00] src/tree/updater_prune.cc:74: tree pruning end, 1 roots, 20 extra nodes, 12 pruned nodes, max_depth=5\u001b[0m\n",
      "\u001b[34m[103]#011train-error:0.101067#011validation-error:0.148\u001b[0m\n",
      "\u001b[34m[21:51:02] src/tree/updater_prune.cc:74: tree pruning end, 1 roots, 10 extra nodes, 12 pruned nodes, max_depth=5\u001b[0m\n",
      "\u001b[34m[104]#011train-error:0.1006#011validation-error:0.1482\u001b[0m\n",
      "\u001b[34m[21:51:03] src/tree/updater_prune.cc:74: tree pruning end, 1 roots, 14 extra nodes, 2 pruned nodes, max_depth=5\u001b[0m\n",
      "\u001b[34m[105]#011train-error:0.100267#011validation-error:0.1487\u001b[0m\n",
      "\u001b[34m[21:51:04] src/tree/updater_prune.cc:74: tree pruning end, 1 roots, 22 extra nodes, 4 pruned nodes, max_depth=5\u001b[0m\n",
      "\u001b[34m[106]#011train-error:0.099133#011validation-error:0.1477\u001b[0m\n",
      "\u001b[34m[21:51:05] src/tree/updater_prune.cc:74: tree pruning end, 1 roots, 16 extra nodes, 16 pruned nodes, max_depth=5\u001b[0m\n",
      "\u001b[34m[107]#011train-error:0.098667#011validation-error:0.1485\u001b[0m\n",
      "\u001b[34m[21:51:07] src/tree/updater_prune.cc:74: tree pruning end, 1 roots, 16 extra nodes, 0 pruned nodes, max_depth=5\u001b[0m\n",
      "\u001b[34m[108]#011train-error:0.0986#011validation-error:0.1474\u001b[0m\n",
      "\u001b[34m[21:51:08] src/tree/updater_prune.cc:74: tree pruning end, 1 roots, 32 extra nodes, 8 pruned nodes, max_depth=5\u001b[0m\n",
      "\u001b[34m[109]#011train-error:0.097667#011validation-error:0.1474\u001b[0m\n",
      "\u001b[34m[21:51:09] src/tree/updater_prune.cc:74: tree pruning end, 1 roots, 18 extra nodes, 2 pruned nodes, max_depth=5\u001b[0m\n",
      "\u001b[34m[110]#011train-error:0.096667#011validation-error:0.1467\u001b[0m\n",
      "\u001b[34m[21:51:10] src/tree/updater_prune.cc:74: tree pruning end, 1 roots, 10 extra nodes, 8 pruned nodes, max_depth=5\u001b[0m\n",
      "\u001b[34m[111]#011train-error:0.0968#011validation-error:0.1464\u001b[0m\n",
      "\u001b[34m[21:51:12] src/tree/updater_prune.cc:74: tree pruning end, 1 roots, 16 extra nodes, 2 pruned nodes, max_depth=5\u001b[0m\n",
      "\u001b[34m[112]#011train-error:0.096533#011validation-error:0.1464\u001b[0m\n",
      "\u001b[34m[21:51:13] src/tree/updater_prune.cc:74: tree pruning end, 1 roots, 14 extra nodes, 12 pruned nodes, max_depth=5\u001b[0m\n",
      "\u001b[34m[113]#011train-error:0.095933#011validation-error:0.1455\u001b[0m\n",
      "\u001b[34m[21:51:14] src/tree/updater_prune.cc:74: tree pruning end, 1 roots, 22 extra nodes, 14 pruned nodes, max_depth=5\u001b[0m\n",
      "\u001b[34m[114]#011train-error:0.095533#011validation-error:0.147\u001b[0m\n",
      "\u001b[34m[21:51:16] src/tree/updater_prune.cc:74: tree pruning end, 1 roots, 20 extra nodes, 10 pruned nodes, max_depth=5\u001b[0m\n",
      "\u001b[34m[115]#011train-error:0.095133#011validation-error:0.1462\u001b[0m\n",
      "\u001b[34m[21:51:17] src/tree/updater_prune.cc:74: tree pruning end, 1 roots, 32 extra nodes, 6 pruned nodes, max_depth=5\u001b[0m\n",
      "\u001b[34m[116]#011train-error:0.093933#011validation-error:0.1462\u001b[0m\n",
      "\u001b[34m[21:51:18] src/tree/updater_prune.cc:74: tree pruning end, 1 roots, 12 extra nodes, 8 pruned nodes, max_depth=5\u001b[0m\n",
      "\u001b[34m[117]#011train-error:0.093467#011validation-error:0.1455\u001b[0m\n",
      "\u001b[34m[21:51:19] src/tree/updater_prune.cc:74: tree pruning end, 1 roots, 12 extra nodes, 8 pruned nodes, max_depth=5\u001b[0m\n",
      "\u001b[34m[118]#011train-error:0.093133#011validation-error:0.1454\u001b[0m\n",
      "\u001b[34m[21:51:21] src/tree/updater_prune.cc:74: tree pruning end, 1 roots, 10 extra nodes, 10 pruned nodes, max_depth=5\u001b[0m\n",
      "\u001b[34m[119]#011train-error:0.092333#011validation-error:0.1452\u001b[0m\n",
      "\u001b[34m[21:51:22] src/tree/updater_prune.cc:74: tree pruning end, 1 roots, 16 extra nodes, 4 pruned nodes, max_depth=5\u001b[0m\n",
      "\u001b[34m[120]#011train-error:0.092067#011validation-error:0.1456\u001b[0m\n",
      "\u001b[34m[21:51:23] src/tree/updater_prune.cc:74: tree pruning end, 1 roots, 10 extra nodes, 4 pruned nodes, max_depth=5\u001b[0m\n",
      "\u001b[34m[121]#011train-error:0.091933#011validation-error:0.1456\u001b[0m\n",
      "\u001b[34m[21:51:24] src/tree/updater_prune.cc:74: tree pruning end, 1 roots, 20 extra nodes, 6 pruned nodes, max_depth=5\u001b[0m\n",
      "\u001b[34m[122]#011train-error:0.091067#011validation-error:0.1456\u001b[0m\n",
      "\u001b[34m[21:51:26] src/tree/updater_prune.cc:74: tree pruning end, 1 roots, 24 extra nodes, 6 pruned nodes, max_depth=5\u001b[0m\n",
      "\u001b[34m[123]#011train-error:0.091133#011validation-error:0.1452\u001b[0m\n",
      "\u001b[34m[21:51:27] src/tree/updater_prune.cc:74: tree pruning end, 1 roots, 16 extra nodes, 8 pruned nodes, max_depth=5\u001b[0m\n",
      "\u001b[34m[124]#011train-error:0.089467#011validation-error:0.1442\u001b[0m\n",
      "\u001b[34m[21:51:28] src/tree/updater_prune.cc:74: tree pruning end, 1 roots, 18 extra nodes, 8 pruned nodes, max_depth=5\u001b[0m\n",
      "\u001b[34m[125]#011train-error:0.088733#011validation-error:0.1438\u001b[0m\n",
      "\u001b[34m[21:51:29] src/tree/updater_prune.cc:74: tree pruning end, 1 roots, 32 extra nodes, 8 pruned nodes, max_depth=5\u001b[0m\n",
      "\u001b[34m[126]#011train-error:0.088667#011validation-error:0.1434\u001b[0m\n",
      "\u001b[34m[21:51:31] src/tree/updater_prune.cc:74: tree pruning end, 1 roots, 16 extra nodes, 12 pruned nodes, max_depth=5\u001b[0m\n",
      "\u001b[34m[127]#011train-error:0.0878#011validation-error:0.1433\u001b[0m\n",
      "\u001b[34m[21:51:32] src/tree/updater_prune.cc:74: tree pruning end, 1 roots, 20 extra nodes, 16 pruned nodes, max_depth=5\u001b[0m\n",
      "\u001b[34m[128]#011train-error:0.0874#011validation-error:0.1429\u001b[0m\n",
      "\u001b[34m[21:51:33] src/tree/updater_prune.cc:74: tree pruning end, 1 roots, 24 extra nodes, 16 pruned nodes, max_depth=5\u001b[0m\n",
      "\u001b[34m[129]#011train-error:0.086467#011validation-error:0.1432\u001b[0m\n",
      "\u001b[34m[21:51:35] src/tree/updater_prune.cc:74: tree pruning end, 1 roots, 16 extra nodes, 6 pruned nodes, max_depth=5\u001b[0m\n",
      "\u001b[34m[130]#011train-error:0.085933#011validation-error:0.1434\u001b[0m\n",
      "\u001b[34m[21:51:36] src/tree/updater_prune.cc:74: tree pruning end, 1 roots, 12 extra nodes, 10 pruned nodes, max_depth=5\u001b[0m\n",
      "\u001b[34m[131]#011train-error:0.086067#011validation-error:0.1435\u001b[0m\n",
      "\u001b[34m[21:51:37] src/tree/updater_prune.cc:74: tree pruning end, 1 roots, 12 extra nodes, 4 pruned nodes, max_depth=5\u001b[0m\n",
      "\u001b[34m[132]#011train-error:0.085667#011validation-error:0.143\u001b[0m\n",
      "\u001b[34m[21:51:38] src/tree/updater_prune.cc:74: tree pruning end, 1 roots, 16 extra nodes, 18 pruned nodes, max_depth=5\u001b[0m\n",
      "\u001b[34m[133]#011train-error:0.085267#011validation-error:0.1427\u001b[0m\n",
      "\u001b[34m[21:51:40] src/tree/updater_prune.cc:74: tree pruning end, 1 roots, 12 extra nodes, 12 pruned nodes, max_depth=5\u001b[0m\n",
      "\u001b[34m[134]#011train-error:0.0852#011validation-error:0.1433\u001b[0m\n",
      "\u001b[34m[21:51:41] src/tree/updater_prune.cc:74: tree pruning end, 1 roots, 14 extra nodes, 4 pruned nodes, max_depth=5\u001b[0m\n",
      "\u001b[34m[135]#011train-error:0.084867#011validation-error:0.1431\u001b[0m\n",
      "\u001b[34m[21:51:42] src/tree/updater_prune.cc:74: tree pruning end, 1 roots, 16 extra nodes, 14 pruned nodes, max_depth=5\u001b[0m\n",
      "\u001b[34m[136]#011train-error:0.0846#011validation-error:0.1428\u001b[0m\n"
     ]
    },
    {
     "name": "stdout",
     "output_type": "stream",
     "text": [
      "\u001b[34m[21:51:43] src/tree/updater_prune.cc:74: tree pruning end, 1 roots, 24 extra nodes, 12 pruned nodes, max_depth=5\u001b[0m\n",
      "\u001b[34m[137]#011train-error:0.0842#011validation-error:0.1422\u001b[0m\n",
      "\u001b[34m[21:51:45] src/tree/updater_prune.cc:74: tree pruning end, 1 roots, 14 extra nodes, 6 pruned nodes, max_depth=5\u001b[0m\n",
      "\u001b[34m[138]#011train-error:0.083733#011validation-error:0.1421\u001b[0m\n",
      "\u001b[34m[21:51:46] src/tree/updater_prune.cc:74: tree pruning end, 1 roots, 14 extra nodes, 2 pruned nodes, max_depth=5\u001b[0m\n",
      "\u001b[34m[139]#011train-error:0.0834#011validation-error:0.1414\u001b[0m\n",
      "\u001b[34m[21:51:47] src/tree/updater_prune.cc:74: tree pruning end, 1 roots, 10 extra nodes, 6 pruned nodes, max_depth=5\u001b[0m\n",
      "\u001b[34m[140]#011train-error:0.0832#011validation-error:0.1411\u001b[0m\n",
      "\u001b[34m[21:51:49] src/tree/updater_prune.cc:74: tree pruning end, 1 roots, 12 extra nodes, 10 pruned nodes, max_depth=5\u001b[0m\n",
      "\u001b[34m[141]#011train-error:0.082733#011validation-error:0.1407\u001b[0m\n",
      "\u001b[34m[21:51:50] src/tree/updater_prune.cc:74: tree pruning end, 1 roots, 14 extra nodes, 12 pruned nodes, max_depth=5\u001b[0m\n",
      "\u001b[34m[142]#011train-error:0.0824#011validation-error:0.1408\u001b[0m\n",
      "\u001b[34m[21:51:51] src/tree/updater_prune.cc:74: tree pruning end, 1 roots, 22 extra nodes, 10 pruned nodes, max_depth=5\u001b[0m\n",
      "\u001b[34m[143]#011train-error:0.0822#011validation-error:0.1405\u001b[0m\n",
      "\u001b[34m[21:51:52] src/tree/updater_prune.cc:74: tree pruning end, 1 roots, 16 extra nodes, 2 pruned nodes, max_depth=5\u001b[0m\n",
      "\u001b[34m[144]#011train-error:0.081867#011validation-error:0.1394\u001b[0m\n",
      "\u001b[34m[21:51:54] src/tree/updater_prune.cc:74: tree pruning end, 1 roots, 10 extra nodes, 6 pruned nodes, max_depth=5\u001b[0m\n",
      "\u001b[34m[145]#011train-error:0.081533#011validation-error:0.1396\u001b[0m\n",
      "\u001b[34m[21:51:55] src/tree/updater_prune.cc:74: tree pruning end, 1 roots, 16 extra nodes, 2 pruned nodes, max_depth=5\u001b[0m\n",
      "\u001b[34m[146]#011train-error:0.081267#011validation-error:0.1388\u001b[0m\n",
      "\u001b[34m[21:51:56] src/tree/updater_prune.cc:74: tree pruning end, 1 roots, 14 extra nodes, 10 pruned nodes, max_depth=5\u001b[0m\n",
      "\u001b[34m[147]#011train-error:0.080867#011validation-error:0.1377\u001b[0m\n",
      "\u001b[34m[21:51:58] src/tree/updater_prune.cc:74: tree pruning end, 1 roots, 18 extra nodes, 2 pruned nodes, max_depth=5\u001b[0m\n",
      "\u001b[34m[148]#011train-error:0.080467#011validation-error:0.1379\u001b[0m\n",
      "\u001b[34m[21:51:59] src/tree/updater_prune.cc:74: tree pruning end, 1 roots, 16 extra nodes, 16 pruned nodes, max_depth=5\u001b[0m\n",
      "\u001b[34m[149]#011train-error:0.080467#011validation-error:0.1377\u001b[0m\n",
      "\u001b[34m[21:52:00] src/tree/updater_prune.cc:74: tree pruning end, 1 roots, 18 extra nodes, 10 pruned nodes, max_depth=5\u001b[0m\n",
      "\u001b[34m[150]#011train-error:0.079733#011validation-error:0.137\u001b[0m\n",
      "\u001b[34m[21:52:01] src/tree/updater_prune.cc:74: tree pruning end, 1 roots, 14 extra nodes, 6 pruned nodes, max_depth=5\u001b[0m\n",
      "\u001b[34m[151]#011train-error:0.0794#011validation-error:0.1367\u001b[0m\n",
      "\u001b[34m[21:52:03] src/tree/updater_prune.cc:74: tree pruning end, 1 roots, 12 extra nodes, 12 pruned nodes, max_depth=5\u001b[0m\n",
      "\u001b[34m[152]#011train-error:0.079333#011validation-error:0.1365\u001b[0m\n",
      "\u001b[34m[21:52:04] src/tree/updater_prune.cc:74: tree pruning end, 1 roots, 14 extra nodes, 0 pruned nodes, max_depth=5\u001b[0m\n",
      "\u001b[34m[153]#011train-error:0.079133#011validation-error:0.1376\u001b[0m\n",
      "\u001b[34m[21:52:05] src/tree/updater_prune.cc:74: tree pruning end, 1 roots, 12 extra nodes, 4 pruned nodes, max_depth=5\u001b[0m\n",
      "\u001b[34m[154]#011train-error:0.078867#011validation-error:0.1378\u001b[0m\n",
      "\u001b[34m[21:52:06] src/tree/updater_prune.cc:74: tree pruning end, 1 roots, 22 extra nodes, 6 pruned nodes, max_depth=5\u001b[0m\n",
      "\u001b[34m[155]#011train-error:0.0792#011validation-error:0.1376\u001b[0m\n",
      "\u001b[34m[21:52:08] src/tree/updater_prune.cc:74: tree pruning end, 1 roots, 16 extra nodes, 6 pruned nodes, max_depth=5\u001b[0m\n",
      "\u001b[34m[156]#011train-error:0.0788#011validation-error:0.1381\u001b[0m\n",
      "\u001b[34m[21:52:09] src/tree/updater_prune.cc:74: tree pruning end, 1 roots, 18 extra nodes, 6 pruned nodes, max_depth=5\u001b[0m\n",
      "\u001b[34m[157]#011train-error:0.078333#011validation-error:0.1382\u001b[0m\n",
      "\u001b[34m[21:52:10] src/tree/updater_prune.cc:74: tree pruning end, 1 roots, 18 extra nodes, 12 pruned nodes, max_depth=5\u001b[0m\n",
      "\u001b[34m[158]#011train-error:0.077933#011validation-error:0.1377\u001b[0m\n",
      "\u001b[34m[21:52:12] src/tree/updater_prune.cc:74: tree pruning end, 1 roots, 20 extra nodes, 8 pruned nodes, max_depth=5\u001b[0m\n",
      "\u001b[34m[159]#011train-error:0.077267#011validation-error:0.1381\u001b[0m\n",
      "\u001b[34m[21:52:13] src/tree/updater_prune.cc:74: tree pruning end, 1 roots, 12 extra nodes, 8 pruned nodes, max_depth=5\u001b[0m\n",
      "\u001b[34m[160]#011train-error:0.0774#011validation-error:0.1378\u001b[0m\n",
      "\u001b[34m[21:52:14] src/tree/updater_prune.cc:74: tree pruning end, 1 roots, 10 extra nodes, 8 pruned nodes, max_depth=5\u001b[0m\n",
      "\u001b[34m[161]#011train-error:0.076533#011validation-error:0.1381\u001b[0m\n",
      "\u001b[34m[21:52:15] src/tree/updater_prune.cc:74: tree pruning end, 1 roots, 10 extra nodes, 6 pruned nodes, max_depth=5\u001b[0m\n",
      "\u001b[34m[162]#011train-error:0.076867#011validation-error:0.1368\u001b[0m\n",
      "\u001b[34mStopping. Best iteration:\u001b[0m\n",
      "\u001b[34m[152]#011train-error:0.079333#011validation-error:0.1365\n",
      "\u001b[0m\n",
      "\n",
      "2020-07-12 21:52:27 Uploading - Uploading generated training model\n",
      "2020-07-12 21:52:27 Completed - Training job completed\n",
      "Training seconds: 260\n",
      "Billable seconds: 260\n"
     ]
    }
   ],
   "source": [
    "xgb.fit({'train': s3_input_train, 'validation': s3_input_validation})"
   ]
  },
  {
   "cell_type": "markdown",
   "metadata": {},
   "source": [
    "## Step 5: Testing the model\n",
    "\n",
    "Now that we've fit our XGBoost model, it's time to see how well it performs. To do this we will use SageMakers Batch Transform functionality. Batch Transform is a convenient way to perform inference on a large dataset in a way that is not realtime. That is, we don't necessarily need to use our model's results immediately and instead we can perform inference on a large number of samples. An example of this in industry might be performing an end of month report. This method of inference can also be useful to us as it means that we can perform inference on our entire test set. \n",
    "\n",
    "To perform a Batch Transformation we need to first create a transformer objects from our trained estimator object."
   ]
  },
  {
   "cell_type": "code",
   "execution_count": 24,
   "metadata": {},
   "outputs": [
    {
     "name": "stderr",
     "output_type": "stream",
     "text": [
      "WARNING:sagemaker:Parameter image will be renamed to image_uri in SageMaker Python SDK v2.\n"
     ]
    }
   ],
   "source": [
    "xgb_transformer = xgb.transformer(instance_count = 1, instance_type = 'ml.m4.xlarge')"
   ]
  },
  {
   "cell_type": "markdown",
   "metadata": {},
   "source": [
    "Next we actually perform the transform job. When doing so we need to make sure to specify the type of data we are sending so that it is serialized correctly in the background. In our case we are providing our model with csv data so we specify `text/csv`. Also, if the test data that we have provided is too large to process all at once then we need to specify how the data file should be split up. Since each line is a single entry in our data set we tell SageMaker that it can split the input on each line."
   ]
  },
  {
   "cell_type": "code",
   "execution_count": 25,
   "metadata": {},
   "outputs": [],
   "source": [
    "xgb_transformer.transform(test_location, content_type='text/csv', split_type='Line')"
   ]
  },
  {
   "cell_type": "markdown",
   "metadata": {},
   "source": [
    "Currently the transform job is running but it is doing so in the background. Since we wish to wait until the transform job is done and we would like a bit of feedback we can run the `wait()` method."
   ]
  },
  {
   "cell_type": "code",
   "execution_count": 26,
   "metadata": {},
   "outputs": [
    {
     "name": "stdout",
     "output_type": "stream",
     "text": [
      ".......................\u001b[34mArguments: serve\u001b[0m\n",
      "\u001b[34m[2020-07-12 21:57:59 +0000] [1] [INFO] Starting gunicorn 19.7.1\u001b[0m\n",
      "\u001b[34m[2020-07-12 21:57:59 +0000] [1] [INFO] Listening at: http://0.0.0.0:8080 (1)\u001b[0m\n",
      "\u001b[34m[2020-07-12 21:57:59 +0000] [1] [INFO] Using worker: gevent\u001b[0m\n",
      "\u001b[34m[2020-07-12 21:57:59 +0000] [36] [INFO] Booting worker with pid: 36\u001b[0m\n",
      "\u001b[34m[2020-07-12 21:57:59 +0000] [37] [INFO] Booting worker with pid: 37\u001b[0m\n",
      "\u001b[34m[2020-07-12 21:58:00 +0000] [38] [INFO] Booting worker with pid: 38\u001b[0m\n",
      "\u001b[34m[2020-07-12 21:58:00 +0000] [39] [INFO] Booting worker with pid: 39\u001b[0m\n",
      "\u001b[34m[2020-07-12:21:58:00:INFO] Model loaded successfully for worker : 39\u001b[0m\n",
      "\u001b[34m[2020-07-12:21:58:00:INFO] Model loaded successfully for worker : 36\u001b[0m\n",
      "\u001b[34m[2020-07-12:21:58:00:INFO] Model loaded successfully for worker : 38\u001b[0m\n",
      "\u001b[34m[2020-07-12:21:58:00:INFO] Model loaded successfully for worker : 37\u001b[0m\n",
      "\u001b[32m2020-07-12T21:58:15.006:[sagemaker logs]: MaxConcurrentTransforms=4, MaxPayloadInMB=6, BatchStrategy=MULTI_RECORD\u001b[0m\n",
      "\u001b[34m[2020-07-12:21:58:17:INFO] Sniff delimiter as ','\u001b[0m\n",
      "\u001b[34m[2020-07-12:21:58:17:INFO] Determined delimiter of CSV input is ','\u001b[0m\n",
      "\u001b[34m[2020-07-12:21:58:17:INFO] Sniff delimiter as ','\u001b[0m\n",
      "\u001b[34m[2020-07-12:21:58:17:INFO] Determined delimiter of CSV input is ','\u001b[0m\n",
      "\u001b[34m[2020-07-12:21:58:18:INFO] Sniff delimiter as ','\u001b[0m\n",
      "\u001b[34m[2020-07-12:21:58:18:INFO] Determined delimiter of CSV input is ','\u001b[0m\n",
      "\u001b[35m[2020-07-12:21:58:17:INFO] Sniff delimiter as ','\u001b[0m\n",
      "\u001b[35m[2020-07-12:21:58:17:INFO] Determined delimiter of CSV input is ','\u001b[0m\n",
      "\u001b[35m[2020-07-12:21:58:17:INFO] Sniff delimiter as ','\u001b[0m\n",
      "\u001b[35m[2020-07-12:21:58:17:INFO] Determined delimiter of CSV input is ','\u001b[0m\n",
      "\u001b[35m[2020-07-12:21:58:18:INFO] Sniff delimiter as ','\u001b[0m\n",
      "\u001b[35m[2020-07-12:21:58:18:INFO] Determined delimiter of CSV input is ','\u001b[0m\n",
      "\u001b[34m[2020-07-12:21:58:19:INFO] Sniff delimiter as ','\u001b[0m\n",
      "\u001b[34m[2020-07-12:21:58:19:INFO] Determined delimiter of CSV input is ','\u001b[0m\n",
      "\u001b[35m[2020-07-12:21:58:19:INFO] Sniff delimiter as ','\u001b[0m\n",
      "\u001b[35m[2020-07-12:21:58:19:INFO] Determined delimiter of CSV input is ','\u001b[0m\n",
      "\u001b[34m[2020-07-12:21:58:20:INFO] Sniff delimiter as ','\u001b[0m\n",
      "\u001b[34m[2020-07-12:21:58:20:INFO] Determined delimiter of CSV input is ','\u001b[0m\n",
      "\u001b[35m[2020-07-12:21:58:20:INFO] Sniff delimiter as ','\u001b[0m\n",
      "\u001b[35m[2020-07-12:21:58:20:INFO] Determined delimiter of CSV input is ','\u001b[0m\n",
      "\u001b[34m[2020-07-12:21:58:20:INFO] Sniff delimiter as ','\u001b[0m\n",
      "\u001b[34m[2020-07-12:21:58:20:INFO] Determined delimiter of CSV input is ','\u001b[0m\n",
      "\u001b[34m[2020-07-12:21:58:20:INFO] Sniff delimiter as ','\u001b[0m\n",
      "\u001b[34m[2020-07-12:21:58:20:INFO] Determined delimiter of CSV input is ','\u001b[0m\n",
      "\u001b[35m[2020-07-12:21:58:20:INFO] Sniff delimiter as ','\u001b[0m\n",
      "\u001b[35m[2020-07-12:21:58:20:INFO] Determined delimiter of CSV input is ','\u001b[0m\n",
      "\u001b[35m[2020-07-12:21:58:20:INFO] Sniff delimiter as ','\u001b[0m\n",
      "\u001b[35m[2020-07-12:21:58:20:INFO] Determined delimiter of CSV input is ','\u001b[0m\n",
      "\u001b[34m[2020-07-12:21:58:21:INFO] Sniff delimiter as ','\u001b[0m\n",
      "\u001b[34m[2020-07-12:21:58:21:INFO] Determined delimiter of CSV input is ','\u001b[0m\n",
      "\u001b[35m[2020-07-12:21:58:21:INFO] Sniff delimiter as ','\u001b[0m\n",
      "\u001b[35m[2020-07-12:21:58:21:INFO] Determined delimiter of CSV input is ','\u001b[0m\n",
      "\u001b[34m[2020-07-12:21:58:23:INFO] Sniff delimiter as ','\u001b[0m\n",
      "\u001b[34m[2020-07-12:21:58:23:INFO] Determined delimiter of CSV input is ','\u001b[0m\n",
      "\u001b[34m[2020-07-12:21:58:23:INFO] Sniff delimiter as ','\u001b[0m\n",
      "\u001b[34m[2020-07-12:21:58:23:INFO] Determined delimiter of CSV input is ','\u001b[0m\n",
      "\u001b[35m[2020-07-12:21:58:23:INFO] Sniff delimiter as ','\u001b[0m\n",
      "\u001b[35m[2020-07-12:21:58:23:INFO] Determined delimiter of CSV input is ','\u001b[0m\n",
      "\u001b[35m[2020-07-12:21:58:23:INFO] Sniff delimiter as ','\u001b[0m\n",
      "\u001b[35m[2020-07-12:21:58:23:INFO] Determined delimiter of CSV input is ','\u001b[0m\n",
      "\u001b[34m[2020-07-12:21:58:24:INFO] Sniff delimiter as ','\u001b[0m\n",
      "\u001b[34m[2020-07-12:21:58:24:INFO] Determined delimiter of CSV input is ','\u001b[0m\n",
      "\u001b[35m[2020-07-12:21:58:24:INFO] Sniff delimiter as ','\u001b[0m\n",
      "\u001b[35m[2020-07-12:21:58:24:INFO] Determined delimiter of CSV input is ','\u001b[0m\n",
      "\u001b[34m[2020-07-12:21:58:24:INFO] Sniff delimiter as ','\u001b[0m\n",
      "\u001b[34m[2020-07-12:21:58:24:INFO] Determined delimiter of CSV input is ','\u001b[0m\n",
      "\u001b[35m[2020-07-12:21:58:24:INFO] Sniff delimiter as ','\u001b[0m\n",
      "\u001b[35m[2020-07-12:21:58:24:INFO] Determined delimiter of CSV input is ','\u001b[0m\n",
      "\u001b[34m[2020-07-12:21:58:25:INFO] Sniff delimiter as ','\u001b[0m\n",
      "\u001b[34m[2020-07-12:21:58:25:INFO] Determined delimiter of CSV input is ','\u001b[0m\n",
      "\u001b[34m[2020-07-12:21:58:25:INFO] Sniff delimiter as ','\u001b[0m\n",
      "\u001b[34m[2020-07-12:21:58:25:INFO] Determined delimiter of CSV input is ','\u001b[0m\n",
      "\u001b[35m[2020-07-12:21:58:25:INFO] Sniff delimiter as ','\u001b[0m\n",
      "\u001b[35m[2020-07-12:21:58:25:INFO] Determined delimiter of CSV input is ','\u001b[0m\n",
      "\u001b[35m[2020-07-12:21:58:25:INFO] Sniff delimiter as ','\u001b[0m\n",
      "\u001b[35m[2020-07-12:21:58:25:INFO] Determined delimiter of CSV input is ','\u001b[0m\n",
      "\u001b[34m[2020-07-12:21:58:26:INFO] Sniff delimiter as ','\u001b[0m\n",
      "\u001b[34m[2020-07-12:21:58:26:INFO] Determined delimiter of CSV input is ','\u001b[0m\n",
      "\u001b[34m[2020-07-12:21:58:27:INFO] Sniff delimiter as ','\u001b[0m\n",
      "\u001b[35m[2020-07-12:21:58:26:INFO] Sniff delimiter as ','\u001b[0m\n",
      "\u001b[35m[2020-07-12:21:58:26:INFO] Determined delimiter of CSV input is ','\u001b[0m\n",
      "\u001b[35m[2020-07-12:21:58:27:INFO] Sniff delimiter as ','\u001b[0m\n",
      "\u001b[34m[2020-07-12:21:58:27:INFO] Determined delimiter of CSV input is ','\u001b[0m\n",
      "\u001b[35m[2020-07-12:21:58:27:INFO] Determined delimiter of CSV input is ','\u001b[0m\n",
      "\u001b[34m[2020-07-12:21:58:27:INFO] Sniff delimiter as ','\u001b[0m\n",
      "\u001b[34m[2020-07-12:21:58:27:INFO] Determined delimiter of CSV input is ','\u001b[0m\n",
      "\u001b[34m[2020-07-12:21:58:28:INFO] Sniff delimiter as ','\u001b[0m\n",
      "\u001b[34m[2020-07-12:21:58:28:INFO] Determined delimiter of CSV input is ','\u001b[0m\n",
      "\u001b[35m[2020-07-12:21:58:27:INFO] Sniff delimiter as ','\u001b[0m\n",
      "\u001b[35m[2020-07-12:21:58:27:INFO] Determined delimiter of CSV input is ','\u001b[0m\n",
      "\u001b[35m[2020-07-12:21:58:28:INFO] Sniff delimiter as ','\u001b[0m\n",
      "\u001b[35m[2020-07-12:21:58:28:INFO] Determined delimiter of CSV input is ','\u001b[0m\n",
      "\u001b[34m[2020-07-12:21:58:28:INFO] Sniff delimiter as ','\u001b[0m\n",
      "\u001b[34m[2020-07-12:21:58:28:INFO] Determined delimiter of CSV input is ','\u001b[0m\n",
      "\u001b[35m[2020-07-12:21:58:28:INFO] Sniff delimiter as ','\u001b[0m\n",
      "\u001b[35m[2020-07-12:21:58:28:INFO] Determined delimiter of CSV input is ','\u001b[0m\n",
      "\u001b[34m[2020-07-12:21:58:29:INFO] Sniff delimiter as ','\u001b[0m\n",
      "\u001b[34m[2020-07-12:21:58:29:INFO] Determined delimiter of CSV input is ','\u001b[0m\n",
      "\u001b[35m[2020-07-12:21:58:29:INFO] Sniff delimiter as ','\u001b[0m\n",
      "\u001b[35m[2020-07-12:21:58:29:INFO] Determined delimiter of CSV input is ','\u001b[0m\n",
      "\u001b[34m[2020-07-12:21:58:31:INFO] Sniff delimiter as ','\u001b[0m\n",
      "\u001b[34m[2020-07-12:21:58:31:INFO] Determined delimiter of CSV input is ','\u001b[0m\n",
      "\u001b[34m[2020-07-12:21:58:31:INFO] Sniff delimiter as ','\u001b[0m\n",
      "\u001b[35m[2020-07-12:21:58:31:INFO] Sniff delimiter as ','\u001b[0m\n",
      "\u001b[35m[2020-07-12:21:58:31:INFO] Determined delimiter of CSV input is ','\u001b[0m\n",
      "\u001b[35m[2020-07-12:21:58:31:INFO] Sniff delimiter as ','\u001b[0m\n",
      "\u001b[34m[2020-07-12:21:58:31:INFO] Determined delimiter of CSV input is ','\u001b[0m\n",
      "\u001b[34m[2020-07-12:21:58:31:INFO] Sniff delimiter as ','\u001b[0m\n",
      "\u001b[35m[2020-07-12:21:58:31:INFO] Determined delimiter of CSV input is ','\u001b[0m\n",
      "\u001b[35m[2020-07-12:21:58:31:INFO] Sniff delimiter as ','\u001b[0m\n",
      "\u001b[34m[2020-07-12:21:58:31:INFO] Determined delimiter of CSV input is ','\u001b[0m\n",
      "\u001b[35m[2020-07-12:21:58:31:INFO] Determined delimiter of CSV input is ','\u001b[0m\n",
      "\u001b[34m[2020-07-12:21:58:31:INFO] Sniff delimiter as ','\u001b[0m\n",
      "\u001b[34m[2020-07-12:21:58:31:INFO] Determined delimiter of CSV input is ','\u001b[0m\n",
      "\u001b[35m[2020-07-12:21:58:31:INFO] Sniff delimiter as ','\u001b[0m\n",
      "\u001b[35m[2020-07-12:21:58:31:INFO] Determined delimiter of CSV input is ','\u001b[0m\n",
      "\u001b[34m[2020-07-12:21:58:33:INFO] Sniff delimiter as ','\u001b[0m\n",
      "\u001b[34m[2020-07-12:21:58:33:INFO] Determined delimiter of CSV input is ','\u001b[0m\n",
      "\u001b[34m[2020-07-12:21:58:33:INFO] Sniff delimiter as ','\u001b[0m\n",
      "\u001b[34m[2020-07-12:21:58:33:INFO] Determined delimiter of CSV input is ','\u001b[0m\n",
      "\u001b[34m[2020-07-12:21:58:33:INFO] Sniff delimiter as ','\u001b[0m\n",
      "\u001b[34m[2020-07-12:21:58:33:INFO] Determined delimiter of CSV input is ','\u001b[0m\n",
      "\u001b[35m[2020-07-12:21:58:33:INFO] Sniff delimiter as ','\u001b[0m\n",
      "\u001b[35m[2020-07-12:21:58:33:INFO] Determined delimiter of CSV input is ','\u001b[0m\n",
      "\u001b[35m[2020-07-12:21:58:33:INFO] Sniff delimiter as ','\u001b[0m\n",
      "\u001b[35m[2020-07-12:21:58:33:INFO] Determined delimiter of CSV input is ','\u001b[0m\n",
      "\u001b[35m[2020-07-12:21:58:33:INFO] Sniff delimiter as ','\u001b[0m\n",
      "\u001b[35m[2020-07-12:21:58:33:INFO] Determined delimiter of CSV input is ','\u001b[0m\n",
      "\u001b[34m[2020-07-12:21:58:35:INFO] Sniff delimiter as ','\u001b[0m\n",
      "\u001b[34m[2020-07-12:21:58:35:INFO] Determined delimiter of CSV input is ','\u001b[0m\n",
      "\u001b[34m[2020-07-12:21:58:36:INFO] Sniff delimiter as ','\u001b[0m\n",
      "\u001b[34m[2020-07-12:21:58:36:INFO] Determined delimiter of CSV input is ','\u001b[0m\n",
      "\u001b[34m[2020-07-12:21:58:36:INFO] Sniff delimiter as ','\u001b[0m\n",
      "\u001b[34m[2020-07-12:21:58:36:INFO] Determined delimiter of CSV input is ','\u001b[0m\n",
      "\u001b[34m[2020-07-12:21:58:36:INFO] Sniff delimiter as ','\u001b[0m\n",
      "\u001b[34m[2020-07-12:21:58:36:INFO] Determined delimiter of CSV input is ','\u001b[0m\n",
      "\u001b[35m[2020-07-12:21:58:35:INFO] Sniff delimiter as ','\u001b[0m\n",
      "\u001b[35m[2020-07-12:21:58:35:INFO] Determined delimiter of CSV input is ','\u001b[0m\n",
      "\u001b[35m[2020-07-12:21:58:36:INFO] Sniff delimiter as ','\u001b[0m\n",
      "\u001b[35m[2020-07-12:21:58:36:INFO] Determined delimiter of CSV input is ','\u001b[0m\n",
      "\u001b[35m[2020-07-12:21:58:36:INFO] Sniff delimiter as ','\u001b[0m\n",
      "\u001b[35m[2020-07-12:21:58:36:INFO] Determined delimiter of CSV input is ','\u001b[0m\n",
      "\u001b[35m[2020-07-12:21:58:36:INFO] Sniff delimiter as ','\u001b[0m\n",
      "\u001b[35m[2020-07-12:21:58:36:INFO] Determined delimiter of CSV input is ','\u001b[0m\n",
      "\u001b[34m[2020-07-12:21:58:38:INFO] Sniff delimiter as ','\u001b[0m\n",
      "\u001b[34m[2020-07-12:21:58:38:INFO] Determined delimiter of CSV input is ','\u001b[0m\n",
      "\u001b[34m[2020-07-12:21:58:38:INFO] Sniff delimiter as ','\u001b[0m\n",
      "\u001b[34m[2020-07-12:21:58:38:INFO] Determined delimiter of CSV input is ','\u001b[0m\n",
      "\u001b[35m[2020-07-12:21:58:38:INFO] Sniff delimiter as ','\u001b[0m\n",
      "\u001b[35m[2020-07-12:21:58:38:INFO] Determined delimiter of CSV input is ','\u001b[0m\n",
      "\u001b[35m[2020-07-12:21:58:38:INFO] Sniff delimiter as ','\u001b[0m\n",
      "\u001b[35m[2020-07-12:21:58:38:INFO] Determined delimiter of CSV input is ','\u001b[0m\n",
      "\u001b[34m[2020-07-12:21:58:38:INFO] Sniff delimiter as ','\u001b[0m\n",
      "\u001b[34m[2020-07-12:21:58:38:INFO] Determined delimiter of CSV input is ','\u001b[0m\n",
      "\u001b[34m[2020-07-12:21:58:38:INFO] Sniff delimiter as ','\u001b[0m\n",
      "\u001b[34m[2020-07-12:21:58:38:INFO] Determined delimiter of CSV input is ','\u001b[0m\n",
      "\u001b[35m[2020-07-12:21:58:38:INFO] Sniff delimiter as ','\u001b[0m\n",
      "\u001b[35m[2020-07-12:21:58:38:INFO] Determined delimiter of CSV input is ','\u001b[0m\n",
      "\u001b[35m[2020-07-12:21:58:38:INFO] Sniff delimiter as ','\u001b[0m\n",
      "\u001b[35m[2020-07-12:21:58:38:INFO] Determined delimiter of CSV input is ','\u001b[0m\n",
      "\u001b[34m[2020-07-12:21:58:40:INFO] Sniff delimiter as ','\u001b[0m\n",
      "\u001b[34m[2020-07-12:21:58:40:INFO] Determined delimiter of CSV input is ','\u001b[0m\n",
      "\u001b[34m[2020-07-12:21:58:40:INFO] Sniff delimiter as ','\u001b[0m\n",
      "\u001b[34m[2020-07-12:21:58:40:INFO] Determined delimiter of CSV input is ','\u001b[0m\n",
      "\u001b[35m[2020-07-12:21:58:40:INFO] Sniff delimiter as ','\u001b[0m\n",
      "\u001b[35m[2020-07-12:21:58:40:INFO] Determined delimiter of CSV input is ','\u001b[0m\n",
      "\u001b[35m[2020-07-12:21:58:40:INFO] Sniff delimiter as ','\u001b[0m\n",
      "\u001b[35m[2020-07-12:21:58:40:INFO] Determined delimiter of CSV input is ','\u001b[0m\n",
      "\u001b[34m[2020-07-12:21:58:41:INFO] Sniff delimiter as ','\u001b[0m\n",
      "\u001b[34m[2020-07-12:21:58:41:INFO] Determined delimiter of CSV input is ','\u001b[0m\n",
      "\u001b[35m[2020-07-12:21:58:41:INFO] Sniff delimiter as ','\u001b[0m\n",
      "\u001b[35m[2020-07-12:21:58:41:INFO] Determined delimiter of CSV input is ','\u001b[0m\n"
     ]
    },
    {
     "name": "stdout",
     "output_type": "stream",
     "text": [
      "\n"
     ]
    }
   ],
   "source": [
    "xgb_transformer.wait()"
   ]
  },
  {
   "cell_type": "markdown",
   "metadata": {},
   "source": [
    "Now the transform job has executed and the result, the estimated sentiment of each review, has been saved on S3. Since we would rather work on this file locally we can perform a bit of notebook magic to copy the file to the `data_dir`."
   ]
  },
  {
   "cell_type": "code",
   "execution_count": 27,
   "metadata": {},
   "outputs": [
    {
     "name": "stdout",
     "output_type": "stream",
     "text": [
      "Completed 256.0 KiB/369.6 KiB (2.9 MiB/s) with 1 file(s) remaining\r",
      "Completed 369.6 KiB/369.6 KiB (4.2 MiB/s) with 1 file(s) remaining\r",
      "download: s3://sagemaker-us-east-2-840691022453/xgboost-2020-07-12-21-54-14-689/test.csv.out to ../data/sentiment_web_app/test.csv.out\r\n"
     ]
    }
   ],
   "source": [
    "!aws s3 cp --recursive $xgb_transformer.output_path $data_dir"
   ]
  },
  {
   "cell_type": "markdown",
   "metadata": {},
   "source": [
    "The last step is now to read in the output from our model, convert the output to something a little more usable, in this case we want the sentiment to be either `1` (positive) or `0` (negative), and then compare to the ground truth labels."
   ]
  },
  {
   "cell_type": "code",
   "execution_count": 28,
   "metadata": {},
   "outputs": [],
   "source": [
    "predictions = pd.read_csv(os.path.join(data_dir, 'test.csv.out'), header=None)\n",
    "predictions = [round(num) for num in predictions.squeeze().values]"
   ]
  },
  {
   "cell_type": "code",
   "execution_count": 29,
   "metadata": {},
   "outputs": [
    {
     "data": {
      "text/plain": [
       "0.85752"
      ]
     },
     "execution_count": 29,
     "metadata": {},
     "output_type": "execute_result"
    }
   ],
   "source": [
    "from sklearn.metrics import accuracy_score\n",
    "accuracy_score(test_y, predictions)"
   ]
  },
  {
   "cell_type": "markdown",
   "metadata": {},
   "source": [
    "## Step 6: Deploying the model\n",
    "\n",
    "Once we construct and fit our model, SageMaker stores the resulting model artifacts and we can use those to deploy an endpoint (inference code). To see this, look in the SageMaker console and you should see that a model has been created along with a link to the S3 location where the model artifacts have been stored.\n",
    "\n",
    "Deploying an endpoint is a lot like training the model with a few important differences. The first is that a deployed model doesn't change the model artifacts, so as you send it various testing instances the model won't change. Another difference is that since we aren't performing a fixed computation, as we were in the training step or while performing a batch transform, the compute instance that gets started stays running until we tell it to stop. This is important to note as if we forget and leave it running we will be charged the entire time.\n",
    "\n",
    "In other words **If you are no longer using a deployed endpoint, shut it down!**"
   ]
  },
  {
   "cell_type": "code",
   "execution_count": 30,
   "metadata": {},
   "outputs": [
    {
     "name": "stderr",
     "output_type": "stream",
     "text": [
      "WARNING:sagemaker:Parameter image will be renamed to image_uri in SageMaker Python SDK v2.\n",
      "WARNING:sagemaker:Using already existing model: xgboost-2020-07-12-21-46-16-334\n"
     ]
    },
    {
     "name": "stdout",
     "output_type": "stream",
     "text": [
      "-------------!"
     ]
    }
   ],
   "source": [
    "xgb_predictor = xgb.deploy(initial_instance_count = 1, instance_type = 'ml.m4.xlarge')"
   ]
  },
  {
   "cell_type": "markdown",
   "metadata": {},
   "source": [
    "### Testing the model (again)\n",
    "\n",
    "Now that we have deployed our endpoint, we can send the testing data to it and get back the inference results. We already did this earlier using the batch transform functionality of SageMaker, however, we will test our model again using the newly deployed endpoint so that we can make sure that it works properly and to get a bit of a feel for how the endpoint works.\n",
    "\n",
    "When using the created endpoint it is important to know that we are limited in the amount of information we can send in each call so we need to break the testing data up into chunks and then send each chunk. Also, we need to serialize our data before we send it to the endpoint to ensure that our data is transmitted properly. Fortunately, SageMaker can do the serialization part for us provided we tell it the format of our data."
   ]
  },
  {
   "cell_type": "code",
   "execution_count": 31,
   "metadata": {},
   "outputs": [],
   "source": [
    "from sagemaker.predictor import csv_serializer\n",
    "\n",
    "# We need to tell the endpoint what format the data we are sending is in so that SageMaker can perform the serialization.\n",
    "xgb_predictor.content_type = 'text/csv'\n",
    "xgb_predictor.serializer = csv_serializer"
   ]
  },
  {
   "cell_type": "code",
   "execution_count": 32,
   "metadata": {},
   "outputs": [],
   "source": [
    "# We split the data into chunks and send each chunk seperately, accumulating the results.\n",
    "\n",
    "def predict(data, rows=512):\n",
    "    split_array = np.array_split(data, int(data.shape[0] / float(rows) + 1))\n",
    "    predictions = ''\n",
    "    for array in split_array:\n",
    "        predictions = ','.join([predictions, xgb_predictor.predict(array).decode('utf-8')])\n",
    "    \n",
    "    return np.fromstring(predictions[1:], sep=',')"
   ]
  },
  {
   "cell_type": "code",
   "execution_count": 33,
   "metadata": {},
   "outputs": [],
   "source": [
    "test_X = pd.read_csv(os.path.join(data_dir, 'test.csv'), header=None).values\n",
    "\n",
    "predictions = predict(test_X)\n",
    "predictions = [round(num) for num in predictions]"
   ]
  },
  {
   "cell_type": "markdown",
   "metadata": {},
   "source": [
    "Lastly, we check to see what the accuracy of our model is."
   ]
  },
  {
   "cell_type": "code",
   "execution_count": 34,
   "metadata": {},
   "outputs": [
    {
     "data": {
      "text/plain": [
       "0.85752"
      ]
     },
     "execution_count": 34,
     "metadata": {},
     "output_type": "execute_result"
    }
   ],
   "source": [
    "from sklearn.metrics import accuracy_score\n",
    "accuracy_score(test_y, predictions)"
   ]
  },
  {
   "cell_type": "markdown",
   "metadata": {},
   "source": [
    "And the results here should agree with the model testing that we did earlier using the batch transform job.\n",
    "\n",
    "### Cleaning up\n",
    "\n",
    "Now that we've determined that deploying our model works as expected, we are going to shut it down. Remember that the longer the endpoint is left running, the greater the cost and since we have a bit more work to do before we are able to use our endpoint with our simple web app, we should shut everything down."
   ]
  },
  {
   "cell_type": "code",
   "execution_count": 35,
   "metadata": {},
   "outputs": [],
   "source": [
    "xgb_predictor.delete_endpoint()"
   ]
  },
  {
   "cell_type": "markdown",
   "metadata": {},
   "source": [
    "## Step 7: Putting our model to work\n",
    "\n",
    "As we've mentioned a few times now, our goal is to have our model deployed and then access it using a very simple web app. The intent is for this web app to take some user submitted data (a review), send it off to our endpoint (the model) and then display the result.\n",
    "\n",
    "However, there is a small catch. Currently the only way we can access the endpoint to send it data is using the SageMaker API. We can, if we wish, expose the actual URL that our model's endpoint is receiving data from, however, if we just send it data ourselves we will not get anything in return. This is because the endpoint created by SageMaker requires the entity accessing it have the correct permissions. So, we would need to somehow authenticate our web app with AWS.\n",
    "\n",
    "Having a website that authenticates to AWS seems a bit beyond the scope of this lesson so we will opt for an alternative approach. Namely, we will create a new endpoint which does not require authentication and which acts as a proxy for the SageMaker endpoint.\n",
    "\n",
    "As an additional constraint, we will try to avoid doing any data processing in the web app itself. Remember that when we constructed and tested our model we started with a movie review, then we simplified it by removing any html formatting and punctuation, then we constructed a bag of words embedding and the resulting vector is what we sent to our model. All of this needs to be done to our user input as well.\n",
    "\n",
    "Fortunately we can do all of this data processing in the backend, using Amazon's Lambda service.\n",
    "\n",
    "<img src=\"Web App Diagram.svg\">\n",
    "\n",
    "The diagram above gives an overview of how the various services will work together. On the far right is the model which we trained above and which will be deployed using SageMaker. On the far left is our web app that collects a user's movie review, sends it off and expects a positive or negative sentiment in return.\n",
    "\n",
    "In the middle is where some of the magic happens. We will construct a Lambda function, which you can think of as a straightforward Python function that can be executed whenever a specified event occurs. This Python function will do the data processing we need to perform on a user submitted review. In addition, we will give this function permission to send and recieve data from a SageMaker endpoint.\n",
    "\n",
    "Lastly, the method we will use to execute the Lambda function is a new endpoint that we will create using API Gateway. This endpoint will be a url that listens for data to be sent to it. Once it gets some data it will pass that data on to the Lambda function and then return whatever the Lambda function returns. Essentially it will act as an interface that lets our web app communicate with the Lambda function.\n",
    "\n",
    "### Processing a single review\n",
    "\n",
    "For now, suppose we are given a movie review by our user in the form of a string, like so:"
   ]
  },
  {
   "cell_type": "code",
   "execution_count": 36,
   "metadata": {},
   "outputs": [],
   "source": [
    "test_review = \"Nothing but a disgusting materialistic pageant of glistening abed remote control greed zombies, totally devoid of any heart or heat. A romantic comedy that has zero romantic chemestry and zero laughs!\""
   ]
  },
  {
   "cell_type": "markdown",
   "metadata": {},
   "source": [
    "How do we go from this string to the bag of words feature vector that is expected by our model?\n",
    "\n",
    "If we recall at the beginning of this notebook, the first step is to remove any unnecessary characters using the `review_to_words` method. Remember that we intentionally did this in a very simplistic way. This is because we are going to have to copy this method to our (eventual) Lambda function (we will go into more detail later) and this means it needs to be rather simplistic."
   ]
  },
  {
   "cell_type": "code",
   "execution_count": 37,
   "metadata": {},
   "outputs": [
    {
     "name": "stdout",
     "output_type": "stream",
     "text": [
      "nothing but a disgusting materialistic pageant of glistening abed remote control greed zombies totally devoid of any heart or heat a romantic comedy that has zero romantic chemestry and zero laughs\n"
     ]
    }
   ],
   "source": [
    "test_words = review_to_words(test_review)\n",
    "print(test_words)"
   ]
  },
  {
   "cell_type": "markdown",
   "metadata": {},
   "source": [
    "Next, we need to construct a bag of words embedding of the `test_words` string. To do this, remember that a bag of words embedding uses a `vocabulary` consisting of the most frequently appearing words in a set of documents. Then, for each word in the vocabulary we record the number of times that word appears in `test_words`. We constructed the `vocabulary` earlier using the training set for our problem so encoding `test_words` is relatively straightforward."
   ]
  },
  {
   "cell_type": "code",
   "execution_count": 38,
   "metadata": {},
   "outputs": [],
   "source": [
    "def bow_encoding(words, vocabulary):\n",
    "    bow = [0] * len(vocabulary) # Start by setting the count for each word in the vocabulary to zero.\n",
    "    for word in words.split():  # For each word in the string\n",
    "        if word in vocabulary:  # If the word is one that occurs in the vocabulary, increase its count.\n",
    "            bow[vocabulary[word]] += 1\n",
    "    return bow"
   ]
  },
  {
   "cell_type": "code",
   "execution_count": 39,
   "metadata": {},
   "outputs": [
    {
     "name": "stdout",
     "output_type": "stream",
     "text": [
      "[0, 0, 0, 0, 0, 0, 0, 0, 0, 0, 0, 0, 0, 0, 0, 0, 0, 0, 0, 0, 0, 0, 0, 0, 0, 0, 0, 0, 0, 0, 0, 0, 0, 0, 0, 0, 0, 0, 0, 0, 0, 0, 0, 0, 0, 0, 0, 0, 0, 0, 0, 0, 0, 0, 0, 0, 0, 0, 0, 0, 0, 0, 0, 0, 0, 0, 0, 0, 0, 0, 0, 0, 0, 0, 0, 0, 0, 0, 0, 0, 0, 0, 0, 0, 0, 0, 0, 0, 0, 0, 0, 0, 0, 0, 0, 0, 0, 0, 0, 0, 0, 0, 0, 0, 0, 0, 0, 0, 0, 0, 0, 0, 0, 0, 0, 0, 0, 0, 0, 0, 0, 0, 0, 0, 0, 0, 0, 0, 0, 0, 0, 0, 0, 0, 0, 0, 0, 0, 0, 0, 0, 0, 0, 0, 0, 0, 0, 0, 0, 0, 0, 0, 0, 0, 0, 0, 0, 0, 0, 0, 0, 0, 0, 0, 0, 0, 0, 0, 0, 0, 0, 0, 0, 0, 0, 0, 0, 0, 0, 0, 0, 0, 0, 0, 0, 0, 0, 0, 0, 0, 0, 0, 0, 0, 0, 0, 0, 0, 0, 0, 0, 0, 0, 0, 0, 0, 0, 0, 0, 0, 0, 0, 0, 0, 0, 0, 0, 0, 0, 0, 0, 0, 0, 0, 0, 0, 1, 0, 0, 0, 0, 0, 0, 0, 0, 0, 0, 0, 0, 0, 0, 0, 0, 0, 0, 0, 0, 0, 0, 0, 0, 0, 0, 0, 0, 0, 1, 0, 0, 0, 0, 0, 0, 0, 0, 0, 0, 0, 0, 0, 0, 0, 0, 0, 0, 0, 0, 0, 0, 0, 0, 0, 0, 0, 0, 0, 0, 0, 0, 0, 0, 0, 0, 0, 0, 0, 0, 0, 0, 0, 0, 0, 0, 0, 0, 0, 0, 0, 0, 0, 0, 0, 0, 0, 0, 0, 0, 0, 0, 0, 0, 0, 0, 0, 0, 0, 0, 0, 0, 0, 0, 0, 0, 0, 0, 0, 0, 0, 0, 0, 0, 0, 0, 0, 0, 0, 0, 0, 0, 0, 0, 0, 0, 0, 0, 0, 0, 0, 0, 0, 0, 0, 0, 0, 0, 0, 0, 0, 0, 0, 0, 0, 0, 0, 0, 0, 0, 0, 0, 0, 0, 0, 0, 0, 0, 0, 0, 0, 0, 0, 0, 0, 0, 0, 0, 0, 0, 0, 0, 0, 0, 0, 0, 0, 0, 0, 0, 0, 0, 0, 0, 0, 0, 0, 0, 0, 0, 0, 0, 0, 0, 0, 0, 0, 0, 0, 0, 0, 0, 0, 0, 0, 0, 0, 0, 0, 0, 0, 0, 0, 0, 0, 0, 0, 0, 0, 0, 0, 0, 0, 0, 0, 0, 0, 0, 0, 0, 0, 0, 0, 0, 0, 0, 0, 0, 0, 0, 0, 0, 0, 0, 0, 0, 0, 0, 0, 0, 0, 0, 0, 0, 0, 0, 0, 0, 0, 0, 0, 0, 0, 0, 0, 0, 0, 0, 0, 0, 0, 0, 0, 0, 0, 0, 0, 0, 0, 0, 0, 0, 0, 0, 0, 0, 0, 0, 0, 0, 0, 0, 0, 0, 0, 0, 0, 0, 0, 0, 0, 0, 0, 0, 0, 0, 0, 0, 0, 0, 0, 0, 0, 0, 0, 0, 0, 0, 0, 0, 0, 0, 0, 0, 0, 0, 0, 0, 0, 0, 0, 0, 0, 0, 0, 0, 0, 0, 0, 0, 0, 0, 0, 0, 0, 0, 0, 0, 0, 0, 0, 0, 0, 0, 0, 0, 0, 0, 0, 0, 0, 0, 0, 0, 0, 0, 0, 0, 0, 0, 0, 0, 0, 0, 0, 0, 0, 0, 0, 0, 0, 0, 0, 0, 0, 0, 0, 0, 0, 0, 0, 0, 0, 0, 0, 0, 0, 0, 0, 0, 0, 0, 0, 0, 0, 0, 0, 0, 0, 1, 0, 0, 0, 0, 0, 0, 0, 0, 0, 0, 0, 0, 0, 0, 0, 0, 0, 0, 0, 0, 0, 0, 0, 0, 0, 0, 0, 0, 0, 0, 0, 0, 0, 0, 0, 0, 0, 0, 0, 0, 0, 0, 0, 0, 0, 0, 0, 0, 0, 0, 0, 0, 0, 0, 0, 0, 0, 0, 0, 0, 0, 0, 0, 0, 0, 0, 0, 0, 0, 0, 0, 0, 0, 0, 0, 0, 0, 0, 0, 0, 0, 0, 0, 0, 0, 0, 0, 0, 0, 0, 0, 0, 0, 0, 0, 0, 0, 0, 0, 0, 0, 0, 0, 0, 0, 0, 0, 0, 0, 0, 0, 0, 0, 0, 0, 0, 0, 0, 0, 0, 0, 0, 0, 0, 0, 0, 0, 0, 0, 0, 0, 0, 0, 0, 0, 0, 0, 0, 0, 0, 0, 0, 0, 0, 0, 0, 0, 0, 0, 0, 0, 0, 0, 0, 0, 0, 0, 0, 0, 0, 0, 0, 0, 0, 0, 0, 0, 0, 0, 0, 0, 0, 0, 0, 0, 0, 0, 0, 0, 0, 0, 0, 0, 0, 0, 0, 0, 0, 0, 0, 0, 0, 0, 0, 0, 0, 0, 0, 0, 0, 0, 0, 0, 0, 0, 0, 0, 0, 0, 0, 0, 0, 0, 0, 0, 0, 0, 0, 0, 0, 0, 0, 0, 0, 0, 0, 0, 0, 0, 0, 0, 0, 0, 0, 0, 0, 0, 0, 0, 0, 0, 0, 0, 0, 0, 0, 0, 0, 0, 0, 0, 0, 0, 1, 0, 0, 0, 0, 0, 0, 0, 0, 0, 0, 0, 0, 0, 0, 0, 0, 0, 0, 0, 0, 0, 0, 0, 0, 0, 0, 0, 0, 0, 0, 0, 0, 0, 0, 0, 0, 0, 0, 0, 0, 0, 0, 0, 0, 0, 0, 0, 0, 0, 0, 0, 0, 0, 0, 0, 0, 0, 0, 0, 0, 0, 0, 0, 0, 0, 0, 0, 0, 0, 0, 0, 0, 0, 0, 0, 0, 0, 0, 0, 0, 0, 0, 0, 0, 0, 0, 1, 0, 0, 0, 0, 0, 0, 0, 0, 0, 0, 0, 0, 0, 0, 0, 0, 0, 0, 0, 0, 0, 0, 0, 0, 0, 0, 0, 0, 0, 0, 0, 0, 0, 0, 0, 0, 0, 0, 0, 0, 0, 0, 0, 0, 0, 0, 0, 0, 0, 0, 0, 0, 0, 0, 0, 0, 0, 0, 0, 0, 0, 0, 0, 0, 0, 0, 0, 0, 0, 0, 0, 0, 0, 0, 0, 0, 0, 0, 0, 0, 0, 0, 0, 0, 0, 0, 0, 0, 0, 0, 0, 0, 0, 0, 0, 0, 0, 0, 0, 0, 0, 0, 0, 0, 0, 0, 0, 0, 0, 0, 0, 0, 0, 0, 0, 0, 0, 0, 0, 0, 0, 0, 0, 0, 0, 0, 0, 0, 0, 0, 0, 0, 0, 0, 0, 0, 0, 0, 0, 0, 0, 0, 0, 0, 0, 0, 0, 0, 0, 0, 0, 0, 0, 0, 0, 0, 0, 0, 0, 0, 0, 0, 0, 0, 0, 0, 0, 0, 0, 0, 0, 0, 0, 0, 0, 0, 0, 0, 0, 0, 0, 0, 0, 0, 0, 0, 0, 0, 0, 0, 0, 0, 0, 0, 0, 0, 0, 0, 0, 0, 0, 0, 0, 0, 0, 0, 0, 0, 0, 0, 0, 0, 0, 0, 0, 0, 0, 0, 0, 0, 0, 0, 0, 0, 0, 0, 0, 0, 0, 0, 0, 0, 0, 0, 0, 0, 0, 0, 0, 0, 0, 0, 0, 0, 0, 0, 0, 0, 0, 0, 0, 0, 1, 0, 0, 0, 0, 0, 0, 0, 0, 0, 0, 0, 0, 0, 0, 0, 0, 0, 0, 0, 0, 0, 0, 0, 0, 0, 0, 0, 0, 0, 0, 0, 0, 0, 0, 0, 0, 0, 0, 0, 0, 0, 0, 0, 0, 0, 0, 0, 0, 0, 0, 0, 0, 0, 0, 0, 1, 0, 0, 0, 0, 0, 0, 0, 0, 0, 0, 0, 0, 0, 0, 0, 0, 0, 0, 0, 0, 0, 0, 0, 0, 0, 0, 0, 0, 0, 0, 0, 0, 0, 0, 0, 0, 0, 0, 0, 0, 0, 0, 0, 0, 0, 0, 0, 0, 0, 0, 0, 0, 0, 0, 0, 0, 0, 0, 0, 0, 0, 0, 0, 0, 0, 0, 0, 0, 0, 0, 0, 0, 0, 0, 0, 0, 0, 0, 0, 0, 0, 0, 0, 0, 0, 0, 0, 0, 0, 0, 0, 0, 0, 0, 0, 0, 0, 0, 0, 0, 0, 0, 0, 0, 0, 0, 0, 0, 0, 0, 0, 0, 0, 0, 0, 0, 0, 0, 0, 0, 0, 0, 0, 0, 0, 0, 0, 0, 0, 0, 0, 0, 0, 0, 0, 0, 0, 0, 0, 0, 0, 0, 0, 0, 0, 0, 0, 0, 0, 0, 0, 0, 0, 0, 0, 0, 0, 0, 0, 0, 0, 0, 0, 0, 0, 0, 0, 0, 0, 0, 0, 0, 0, 0, 0, 0, 0, 0, 0, 0, 0, 0, 0, 0, 0, 0, 0, 0, 0, 0, 0, 0, 0, 0, 0, 0, 0, 0, 0, 0, 0, 0, 0, 0, 0, 0, 0, 0, 0, 0, 0, 0, 0, 0, 0, 0, 0, 0, 0, 0, 0, 0, 0, 0, 0, 0, 0, 0, 0, 0, 0, 0, 0, 0, 0, 0, 0, 0, 0, 0, 0, 0, 0, 0, 0, 0, 0, 0, 0, 0, 0, 0, 0, 0, 0, 0, 0, 0, 0, 0, 0, 0, 0, 0, 0, 0, 0, 0, 0, 0, 0, 0, 0, 0, 0, 0, 0, 0, 0, 0, 0, 0, 0, 0, 0, 0, 0, 0, 0, 0, 0, 0, 0, 0, 0, 0, 0, 0, 0, 0, 0, 0, 0, 0, 0, 0, 0, 0, 0, 0, 0, 0, 0, 0, 0, 0, 0, 0, 0, 0, 0, 0, 0, 0, 0, 0, 0, 0, 0, 0, 0, 0, 0, 0, 0, 0, 0, 0, 0, 0, 0, 0, 0, 0, 0, 0, 0, 0, 0, 0, 0, 0, 0, 0, 0, 0, 0, 0, 0, 0, 0, 0, 0, 0, 0, 0, 0, 0, 0, 0, 0, 0, 0, 0, 0, 0, 0, 0, 0, 0, 0, 0, 0, 0, 0, 0, 0, 0, 0, 0, 0, 0, 0, 0, 0, 0, 0, 0, 0, 0, 0, 0, 0, 0, 0, 0, 0, 0, 0, 0, 0, 0, 0, 0, 0, 0, 0, 0, 0, 0, 0, 0, 0, 0, 0, 0, 0, 0, 0, 0, 0, 0, 0, 0, 0, 0, 0, 0, 0, 0, 0, 0, 0, 0, 0, 0, 0, 0, 0, 0, 0, 0, 0, 0, 0, 0, 0, 0, 0, 0, 0, 0, 0, 0, 0, 0, 0, 0, 0, 0, 0, 0, 0, 0, 0, 0, 0, 0, 0, 0, 0, 0, 0, 0, 0, 0, 0, 0, 0, 0, 0, 0, 0, 0, 0, 0, 0, 0, 0, 0, 0, 0, 0, 0, 0, 0, 0, 0, 0, 0, 0, 0, 0, 0, 0, 0, 0, 0, 0, 0, 0, 0, 0, 0, 0, 0, 0, 0, 0, 0, 0, 0, 0, 0, 0, 0, 0, 0, 0, 0, 0, 0, 0, 0, 0, 0, 0, 0, 0, 0, 0, 0, 0, 0, 0, 0, 0, 0, 0, 0, 0, 0, 0, 0, 0, 0, 0, 0, 0, 0, 0, 0, 0, 0, 0, 0, 0, 0, 0, 0, 0, 0, 0, 0, 0, 0, 0, 0, 0, 0, 0, 0, 0, 0, 0, 0, 0, 0, 0, 0, 0, 0, 0, 0, 0, 0, 0, 0, 0, 0, 0, 0, 0, 0, 0, 0, 0, 0, 0, 0, 0, 0, 0, 0, 0, 0, 0, 0, 0, 0, 0, 0, 0, 0, 0, 0, 0, 0, 0, 0, 0, 0, 0, 0, 0, 0, 0, 0, 0, 0, 0, 0, 0, 0, 0, 0, 0, 0, 0, 0, 0, 0, 0, 0, 0, 0, 0, 0, 0, 0, 0, 0, 0, 0, 0, 0, 0, 0, 0, 0, 0, 1, 0, 0, 0, 0, 0, 0, 0, 0, 0, 0, 0, 0, 0, 0, 0, 0, 0, 0, 0, 0, 0, 0, 0, 0, 0, 0, 0, 0, 0, 0, 0, 0, 0, 0, 0, 0, 0, 0, 0, 0, 0, 0, 0, 0, 0, 0, 0, 0, 0, 0, 0, 0, 0, 0, 0, 0, 0, 0, 0, 0, 0, 0, 0, 0, 0, 0, 0, 0, 0, 0, 0, 0, 0, 0, 1, 0, 0, 0, 0, 0, 0, 0, 0, 0, 0, 0, 0, 0, 0, 0, 0, 0, 0, 0, 0, 1, 0, 0, 1, 0, 0, 0, 0, 0, 0, 0, 0, 0, 0, 0, 0, 0, 0, 0, 0, 0, 0, 0, 0, 0, 0, 0, 0, 0, 0, 0, 0, 0, 0, 0, 0, 0, 0, 0, 0, 0, 0, 0, 0, 0, 0, 0, 0, 0, 0, 0, 0, 0, 0, 0, 0, 0, 0, 0, 0, 0, 0, 0, 0, 0, 0, 0, 0, 0, 0, 0, 0, 0, 0, 0, 0, 0, 0, 0, 0, 0, 0, 0, 0, 0, 0, 0, 0, 0, 0, 0, 0, 0, 0, 0, 0, 0, 0, 0, 0, 0, 0, 0, 0, 0, 0, 0, 0, 0, 0, 0, 0, 0, 0, 0, 0, 0, 0, 0, 0, 0, 0, 0, 0, 0, 0, 0, 0, 0, 0, 0, 0, 0, 0, 0, 0, 0, 0, 0, 0, 0, 0, 0, 0, 0, 0, 0, 0, 0, 0, 0, 0, 0, 0, 0, 0, 0, 0, 0, 0, 0, 0, 0, 0, 0, 0, 0, 0, 0, 0, 0, 0, 0, 0, 0, 0, 0, 0, 0, 0, 0, 0, 0, 0, 0, 0, 0, 0, 0, 0, 0, 0, 0, 0, 0, 0, 0, 0, 0, 0, 0, 0, 0, 0, 0, 0, 0, 0, 0, 0, 0, 0, 0, 0, 0, 0, 0, 0, 0, 0, 0, 0, 0, 0, 0, 0, 0, 0, 0, 0, 0, 0, 0, 0, 0, 0, 0, 0, 0, 0, 0, 0, 0, 0, 0, 0, 0, 0, 0, 0, 0, 0, 0, 0, 0, 0, 0, 0, 0, 0, 0, 0, 0, 0, 0, 0, 0, 0, 0, 0, 0, 0, 0, 0, 0, 0, 0, 0, 0, 0, 0, 0, 0, 0, 0, 0, 0, 0, 0, 0, 0, 0, 0, 0, 0, 0, 0, 0, 0, 0, 0, 0, 0, 0, 0, 0, 0, 0, 0, 0, 0, 0, 0, 0, 0, 0, 0, 0, 0, 0, 0, 0, 0, 0, 0, 0, 0, 0, 0, 0, 0, 0, 0, 0, 0, 0, 0, 0, 0, 0, 0, 0, 0, 0, 0, 0, 0, 0, 0, 0, 0, 0, 0, 0, 0, 0, 0, 0, 0, 0, 0, 0, 0, 0, 0, 0, 0, 0, 0, 0, 0, 0, 0, 0, 0, 0, 0, 0, 0, 0, 0, 0, 0, 0, 0, 0, 0, 0, 0, 0, 0, 0, 0, 0, 0, 0, 0, 0, 0, 0, 0, 0, 0, 0, 0, 0, 0, 0, 0, 0, 0, 0, 0, 0, 0, 0, 0, 0, 0, 0, 0, 0, 0, 0, 0, 0, 0, 0, 0, 0, 0, 0, 0, 0, 0, 0, 0, 0, 0, 0, 0, 0, 0, 0, 0, 0, 0, 0, 0, 0, 0, 0, 0, 0, 0, 0, 0, 0, 0, 0, 0, 0, 0, 0, 0, 0, 0, 0, 0, 0, 1, 0, 0, 0, 0, 0, 0, 0, 0, 0, 0, 0, 0, 0, 0, 0, 0, 0, 0, 0, 0, 0, 0, 0, 0, 0, 0, 0, 0, 0, 0, 0, 0, 0, 0, 0, 0, 0, 0, 0, 0, 0, 0, 0, 0, 0, 0, 0, 0, 0, 0, 0, 0, 0, 0, 0, 0, 0, 0, 0, 0, 0, 0, 0, 0, 0, 0, 0, 0, 0, 0, 0, 0, 0, 0, 0, 0, 0, 0, 0, 0, 0, 0, 0, 0, 0, 0, 0, 0, 0, 0, 0, 0, 0, 0, 0, 0, 0, 0, 0, 0, 0, 0, 0, 0, 0, 0, 0, 0, 0, 0, 0, 0, 0, 0, 0, 0, 0, 0, 0, 0, 0, 0, 0, 0, 0, 0, 0, 0, 0, 0, 0, 0, 0, 0, 0, 0, 0, 0, 0, 0, 0, 0, 0, 0, 0, 0, 0, 0, 0, 0, 0, 0, 0, 0, 0, 0, 0, 0, 0, 0, 0, 0, 0, 0, 0, 0, 0, 0, 0, 0, 0, 0, 0, 0, 0, 0, 0, 0, 0, 0, 0, 0, 0, 0, 0, 0, 0, 0, 0, 0, 0, 0, 0, 0, 0, 0, 0, 0, 0, 0, 0, 0, 0, 0, 0, 0, 0, 0, 0, 0, 0, 0, 0, 0, 0, 0, 0, 0, 0, 0, 0, 0, 0, 0, 0, 0, 0, 0, 0, 0, 0, 0, 0, 0, 0, 0, 0, 0, 0, 0, 0, 0, 0, 0, 0, 0, 0, 0, 0, 0, 0, 0, 0, 0, 0, 0, 0, 0, 0, 0, 0, 0, 0, 0, 0, 0, 0, 0, 0, 0, 0, 0, 0, 0, 0, 0, 0, 0, 0, 0, 0, 0, 0, 0, 0, 0, 0, 0, 0, 0, 0, 0, 0, 0, 0, 0, 0, 0, 0, 0, 0, 0, 0, 0, 0, 0, 0, 0, 0, 0, 0, 0, 0, 0, 0, 0, 0, 0, 0, 0, 0, 0, 0, 0, 0, 0, 0, 0, 0, 0, 0, 0, 0, 0, 0, 0, 0, 0, 0, 0, 0, 0, 0, 0, 0, 0, 0, 0, 0, 0, 0, 0, 0, 0, 0, 0, 0, 0, 0, 0, 0, 0, 0, 0, 0, 0, 0, 0, 0, 0, 0, 0, 0, 0, 0, 0, 0, 0, 0, 0, 0, 0, 0, 0, 0, 0, 0, 0, 0, 0, 0, 0, 0, 0, 0, 0, 0, 0, 0, 0, 0, 0, 0, 0, 0, 0, 0, 0, 0, 0, 0, 0, 0, 0, 0, 0, 0, 0, 0, 0, 0, 0, 0, 0, 0, 0, 0, 0, 0, 0, 0, 0, 0, 0, 0, 0, 0, 0, 0, 0, 0, 0, 0, 0, 0, 0, 0, 0, 0, 0, 0, 0, 0, 0, 0, 0, 0, 0, 0, 0, 0, 0, 0, 0, 0, 0, 0, 0, 0, 0, 0, 0, 0, 0, 0, 0, 0, 0, 0, 0, 0, 0, 0, 0, 0, 0, 0, 0, 0, 0, 0, 0, 0, 0, 0, 0, 0, 0, 0, 0, 0, 0, 0, 0, 0, 0, 0, 0, 0, 0, 0, 0, 1, 0, 0, 0, 0, 0, 0, 0, 0, 0, 0, 0, 0, 0, 0, 0, 0, 0, 0, 0, 0, 0, 0, 0, 0, 0, 0, 0, 0, 0, 0, 0, 0, 0, 0, 0, 2, 0, 0, 0, 0, 0, 0, 0, 0, 0, 0, 0, 0, 0, 0, 0, 0, 0, 0, 0, 0, 0, 0, 0, 0, 0, 0, 0, 0, 0, 0, 0, 0, 0, 0, 0, 0, 0, 0, 0, 0, 1, 0, 0, 0, 0, 0, 0, 0, 0, 0, 0, 0, 0, 0, 0, 0, 0, 0, 0, 0, 0, 0, 0, 0, 0, 0, 0, 0, 0, 0, 0, 0, 0, 0, 0, 0, 0, 0, 0, 0, 0, 0, 0, 0, 0, 0, 0, 0, 0, 0, 0, 0, 0, 0, 0, 0, 0, 0, 0, 0, 0, 0, 0, 0, 0, 0, 0, 0, 0, 0, 0, 0, 0, 0, 0, 0, 0, 0, 0, 0, 0, 0, 0, 0, 0, 0, 0, 0, 0, 0, 0, 0, 0, 0, 0, 0, 0, 0, 0, 0, 0, 0, 0, 0, 0, 0, 0, 0, 0, 0, 0, 0, 0, 0, 0, 0, 0, 0, 0, 0, 0, 0, 0, 0, 0, 0, 0, 0, 0, 0, 0, 0, 0, 0, 0, 0, 0, 0, 0, 0, 0, 0, 0, 0, 0, 0, 0, 0, 0, 0, 0, 0, 0, 0, 0, 0, 0, 0, 0, 0, 0, 0, 0, 0, 0, 0, 0, 0, 0, 0, 0, 0, 0, 0, 0, 0, 0, 0, 0, 0, 0, 0, 0, 0, 0, 0, 0, 0, 0, 0, 0, 0, 0, 0, 0, 0, 0, 0, 0, 0, 0, 0, 0, 0, 0, 0, 0, 0, 0, 0, 0, 0, 0, 0, 0, 0, 0, 0, 0, 0, 0, 0, 0, 0, 0, 0, 0, 0, 0, 0, 0, 0, 0, 0, 0, 0, 0, 0, 0, 0, 0, 0, 0, 0, 0, 0, 0, 0, 0, 0, 0, 0, 0, 0, 0, 0, 0, 0, 0, 0, 0, 0, 0, 0, 0, 0, 0, 0, 0, 0, 0, 0, 0, 0, 0, 0, 0, 0, 0, 0, 0, 0, 0, 0, 0, 0, 0, 0, 0, 0, 0, 0, 0, 0, 0, 0, 0, 0, 0, 0, 0, 0, 0, 0, 0, 0, 0, 0, 0, 0, 0, 0, 0, 0, 0, 0, 0, 0, 0, 0, 0, 0, 0, 0, 0, 0, 0, 0, 0, 0, 0, 0, 0, 0, 0, 0, 0, 0, 0, 0, 0, 0, 0, 0, 0, 0, 0, 0, 0, 0, 0, 0, 0, 0, 0, 0, 0, 0, 0, 0, 0, 0, 0, 0, 0, 0, 0, 0, 0, 0, 0, 0, 0, 0, 0, 0, 0, 0, 0, 0, 0, 0, 0, 0, 0, 0, 0, 0, 0, 0, 0, 0, 0, 0, 0, 0, 0, 0, 0, 0, 0, 0, 0, 0, 0, 0, 0, 0, 0, 0, 0, 0, 0, 0, 0, 0, 0, 0, 0, 0, 0, 0, 0, 0, 0, 0, 0, 0, 0, 0, 0, 0, 0, 0, 0, 0, 0, 0, 0, 0, 0, 0, 0, 0, 0, 0, 0, 0, 0, 0, 0, 0, 0, 0, 0, 0, 0, 0, 0, 0, 0, 0, 0, 0, 0, 0, 0, 0, 0, 0, 0, 0, 0, 0, 0, 0, 0, 0, 0, 0, 0, 0, 0, 0, 0, 0, 0, 0, 0, 0, 0, 0, 0, 0, 0, 0, 0, 0, 1, 0, 0, 0, 0, 0, 0, 0, 0, 0, 0, 0, 0, 0, 0, 0, 0, 0, 0, 0, 0, 0, 0, 0, 0, 0, 0, 0, 0, 0, 0, 0, 0, 0, 0, 0, 0, 0, 0, 0, 0, 0, 0, 0, 0, 0, 0, 0, 0, 0, 0, 0, 0, 0, 0, 0, 0, 0, 0, 0, 0, 0, 0, 0, 0, 0, 0, 0, 0, 0, 0, 0, 0, 0, 0, 0, 0, 0, 0, 0, 0, 0, 0, 0, 0, 0, 0, 0, 0, 0, 0, 0, 0, 0, 0, 0, 0, 0, 0, 0, 0, 0, 0, 0, 0, 0, 0, 0, 0, 0, 0, 2, 0, 0, 0, 0, 0, 0, 0, 0, 0, 0, 0, 0, 0, 0, 0, 0, 0, 0, 0, 0, 0, 0, 0, 0, 0, 0, 0, 0, 0, 0, 0, 0, 0, 0, 0, 0, 0, 0, 0, 0, 0, 0, 0, 0, 0, 0, 0, 0, 0, 0, 0, 0, 0, 0, 0, 0, 0, 0, 0, 0, 0, 0, 0, 0, 0, 0, 0, 0, 0, 0, 0, 0, 0, 0, 0, 0, 0, 0, 0, 0, 0, 0, 0, 0, 0, 0, 0, 0, 0, 0, 0, 0, 0, 0, 0, 0, 0, 0, 0, 0, 0, 0, 0, 0, 0, 0, 0, 0, 0, 0, 0, 0, 0, 0, 0, 0, 0, 0, 0, 0, 0, 0, 0, 0, 0, 0, 0, 0, 0, 0, 0, 0, 0, 0, 0, 0, 0, 0, 0, 0, 0, 0, 0, 0, 0, 0, 0, 0, 0, 0, 0, 0, 0, 0, 0, 0, 0, 0, 0, 0, 0, 0, 0, 0, 0, 0, 0, 0, 0, 0, 0, 0, 0, 0, 0, 0, 0, 0, 0, 0, 0, 0, 0, 0, 0, 0, 0, 0, 0, 0, 0, 0, 0, 0, 0, 0, 0, 0, 0, 0, 0, 0, 0, 0, 0, 0, 0, 0, 0, 0, 0, 0, 0, 0, 0, 0, 0, 0, 0, 0, 0, 0, 0, 0, 0, 0, 0, 0, 0, 0, 0, 0, 0, 0, 0, 0, 0, 0, 0, 0, 0, 0, 0, 0, 0, 0, 0, 0, 0, 0, 0, 0, 0, 0, 0, 0, 0, 0, 0, 0, 0, 0, 0, 0, 0, 0, 0, 0, 0, 0, 0, 0, 0, 0, 0, 0, 0, 0, 0, 0, 0, 0, 0, 0, 0, 0, 0, 0, 0, 0, 0, 0, 0, 0, 0, 0, 0, 0, 0, 0, 0, 0, 0, 0, 0, 0, 0, 0, 0, 0, 0, 0, 0, 0, 0, 0, 0, 0, 0, 0, 0, 0, 0, 0, 0, 0, 0, 0, 0, 0, 0, 0, 0, 0, 0, 0, 0, 0, 0, 0, 0, 0, 0, 0, 0, 0, 0, 0, 0, 0, 0, 0, 0, 0, 0, 0, 0, 0, 0, 0, 0, 0, 0, 0, 0, 0, 0, 0, 0, 0, 0, 0, 0, 0, 0, 0, 0, 0, 0, 0, 0, 0, 0, 0, 0, 0, 0, 0, 0, 0, 0, 0, 0, 0, 0, 0, 0, 0, 0, 0, 0, 0, 0, 0, 0, 0, 0, 0, 0, 0, 0, 0, 0, 0, 0, 0, 0, 0, 0, 0, 0, 0, 0, 0, 0, 0, 0, 0, 0, 0, 0, 0, 0, 0, 0, 0, 0, 0, 0, 0, 0, 0, 0, 0, 0, 0, 0, 0, 0, 0, 0, 0, 0, 0, 0, 0, 0, 0, 0, 0, 0, 0, 0, 0, 0, 0, 0, 0, 0, 0, 0, 0, 0, 0, 0, 0, 0, 0, 0, 0, 0, 0, 0, 0, 0, 0, 0, 0, 0, 0, 0, 0, 0, 0, 0, 0, 0, 0, 0, 0, 0, 0, 0, 0, 0, 0, 0, 0, 0, 0, 0, 0, 0, 0, 0, 0, 0, 0, 0, 0, 0, 0, 0, 0, 0, 0, 0, 0, 0, 0, 0, 0, 0, 0, 0, 0, 0, 0, 0, 0, 0, 0, 0, 0, 0, 0, 0, 0, 0, 0, 0, 0, 0, 0, 0, 0, 0, 0, 0, 0, 0, 0, 0, 0, 0, 0, 0, 0, 0, 0, 0, 0, 0, 0, 0, 0, 0, 0, 0, 0, 0, 0, 0, 0, 0, 0, 0, 0, 0, 0, 0, 0, 0, 0, 0, 0, 0, 0, 0, 0, 0, 0, 0, 0, 0, 0, 0, 0, 0, 0, 0, 0, 0, 0, 0, 0, 0, 0, 0, 0, 0, 0, 0, 0, 0, 0, 0, 0, 0, 0, 0, 0, 0, 0, 0, 0, 0, 0, 0, 0, 0, 0, 0, 0, 0, 0, 0, 0, 0, 0, 0, 0, 0, 0, 0, 0, 0, 0, 0, 0, 0, 0, 0, 0, 0, 0, 0, 0, 0, 0, 0, 0, 0, 0, 0, 0, 0, 0, 0, 0, 0, 0, 0, 0, 0, 0, 0, 0, 0, 0, 1, 0, 0, 0, 0, 0, 0, 0, 0, 0, 0, 0, 0, 0, 0, 0, 0, 0, 0, 0, 0, 0, 0, 0, 0, 0, 0, 0, 0, 0, 0, 0, 0, 0, 0, 0, 0, 0, 0, 0, 0, 0, 0, 0, 0, 0, 0, 0, 0, 0, 0, 0, 0, 0, 0, 0, 0, 0, 0, 0, 0, 0, 0, 0, 0, 0, 0, 0, 0, 0, 0, 0, 0, 0, 0, 0, 0, 0, 0, 0, 0, 0, 0, 0, 0, 0, 0, 0, 0, 0, 0, 0, 0, 0, 0, 0, 0, 0, 0, 0, 0, 0, 0, 0, 0, 0, 0, 0, 1, 0, 0, 0, 0, 0, 0, 0, 0, 0, 0, 0, 0, 0, 0, 0, 0, 0, 0, 0, 0, 0, 0, 0, 0, 0, 0, 0, 0, 0, 0, 0, 0, 0, 0, 0, 0, 0, 0, 0, 0, 0, 0, 0, 0, 0, 0, 0, 0, 0, 0, 0, 0, 0, 0, 0, 0, 0, 0, 0, 0, 0, 0, 0, 0, 0, 0, 0, 0, 0, 0, 0, 0, 0, 0, 0, 0, 0, 0, 0, 0, 0, 0, 0, 0, 0, 0, 0, 0, 0, 0, 0, 0, 0, 0, 0, 0, 0, 0, 0, 0, 0, 0, 0, 0, 0, 0, 0, 0, 0, 0, 0, 0, 0, 0, 0, 0, 0, 0, 0, 0, 0, 0, 0, 0, 0, 0, 0, 0, 0, 0, 0, 0, 0, 0, 0, 0, 0, 0, 0, 0, 0, 0, 0, 0, 0, 0, 0, 0, 0, 0, 0, 0, 0, 0, 0, 0, 0, 0, 0, 0, 0, 0, 0, 0, 0, 0, 0, 0, 0, 0, 0, 0, 0, 0, 0, 0, 0, 0, 0, 0, 0, 0, 0, 0, 0, 0, 0, 0, 0, 0, 0, 0, 0, 0, 0, 0, 0, 0, 0, 0, 0, 0, 0, 0, 0, 0, 0, 0, 0, 0, 0, 0, 0, 0, 0, 0, 0, 0, 0, 0, 0, 0, 0, 0, 0, 0, 0, 0, 0, 0, 0, 0, 0, 0, 0, 0, 0, 0, 0, 0, 0, 0, 0, 0, 0, 0, 0, 0, 0, 0, 0, 0, 0, 0, 0, 0, 0, 0, 0, 0, 0, 0, 0, 0, 0, 0, 0, 0, 0, 0, 0, 0, 0, 0, 0, 0, 0, 0, 0, 0, 0, 0, 0, 0, 0, 0, 0, 0, 0, 0, 0, 0, 0, 0, 0, 0, 0, 0, 0, 0, 0, 0, 0, 0, 0, 0, 0, 0, 0, 0, 0, 0, 0, 0, 0, 0, 0, 0, 0, 0, 0, 0, 0, 0, 0, 0, 0, 0, 0, 0, 0, 0, 0, 0, 0, 0, 0, 0, 0, 0, 0, 0, 0, 0, 0, 0, 0, 0, 0, 0, 0, 0, 0, 0, 0, 0, 0, 0, 0, 0, 0, 0, 0, 0, 0, 0, 0, 0, 0, 0, 0, 0, 0, 0, 0, 0, 0, 0, 0, 0, 0, 0, 0, 0, 0, 0, 0, 0, 0, 0, 0, 0, 0, 0, 0, 0, 0, 0, 0, 0, 0, 0, 0, 0, 0, 0, 0, 0, 0, 0, 0, 0, 0, 0, 0, 0, 0, 0, 0, 0, 0, 0, 0, 0, 0, 0, 0, 0, 0, 0, 0, 0, 0, 0, 0, 0, 0, 0, 0, 0, 0, 0, 0, 0, 0, 0, 0, 0, 0, 0, 0, 0, 0, 0, 0, 0, 0, 0, 0, 0, 0, 0, 0, 2, 0, 1, 0]\n"
     ]
    }
   ],
   "source": [
    "test_bow = bow_encoding(test_words, vocabulary)\n",
    "print(test_bow)"
   ]
  },
  {
   "cell_type": "code",
   "execution_count": 40,
   "metadata": {},
   "outputs": [
    {
     "data": {
      "text/plain": [
       "5000"
      ]
     },
     "execution_count": 40,
     "metadata": {},
     "output_type": "execute_result"
    }
   ],
   "source": [
    "len(test_bow)"
   ]
  },
  {
   "cell_type": "markdown",
   "metadata": {},
   "source": [
    "So now we know how to construct a bag of words encoding of a user provided review, how to we send it to our endpoint? First, we need to start the endpoint back up."
   ]
  },
  {
   "cell_type": "code",
   "execution_count": 41,
   "metadata": {},
   "outputs": [
    {
     "name": "stderr",
     "output_type": "stream",
     "text": [
      "WARNING:sagemaker:Parameter image will be renamed to image_uri in SageMaker Python SDK v2.\n",
      "WARNING:sagemaker:Using already existing model: xgboost-2020-07-12-21-46-16-334\n"
     ]
    },
    {
     "name": "stdout",
     "output_type": "stream",
     "text": [
      "-------------!"
     ]
    }
   ],
   "source": [
    "xgb_predictor = xgb.deploy(initial_instance_count = 1, instance_type = 'ml.m4.xlarge')"
   ]
  },
  {
   "cell_type": "markdown",
   "metadata": {},
   "source": [
    "At this point we could just do the same thing that we did earlier when we tested our deployed model and send `test_bow` to our endpoint using the `xgb_predictor` object. However, when we eventually construct our Lambda function we won't have access to this object, so how do we call a SageMaker endpoint?\n",
    "\n",
    "It turns out that Python functions that are used in Lambda have access to another Amazon library called `boto3`. This library provides an API for working with Amazon services, including SageMaker. To start with, we need to get a handle to the SageMaker runtime."
   ]
  },
  {
   "cell_type": "code",
   "execution_count": 42,
   "metadata": {},
   "outputs": [],
   "source": [
    "import boto3\n",
    "\n",
    "runtime = boto3.Session().client('sagemaker-runtime')"
   ]
  },
  {
   "cell_type": "markdown",
   "metadata": {},
   "source": [
    "And now that we have access to the SageMaker runtime, we can ask it to make use of (invoke) an endpoint that has already been created. However, we need to provide SageMaker with the name of the deployed endpoint. To find this out we can print it out using the `xgb_predictor` object."
   ]
  },
  {
   "cell_type": "code",
   "execution_count": 43,
   "metadata": {},
   "outputs": [
    {
     "data": {
      "text/plain": [
       "'xgboost-2020-07-12-21-46-16-334'"
      ]
     },
     "execution_count": 43,
     "metadata": {},
     "output_type": "execute_result"
    }
   ],
   "source": [
    "xgb_predictor.endpoint"
   ]
  },
  {
   "cell_type": "markdown",
   "metadata": {},
   "source": [
    "Using the SageMaker runtime and the name of our endpoint, we can invoke the endpoint and send it the `test_bow` data."
   ]
  },
  {
   "cell_type": "code",
   "execution_count": null,
   "metadata": {},
   "outputs": [],
   "source": [
    "response = runtime.invoke_endpoint(EndpointName = xgb_predictor.endpoint, # The name of the endpoint we created\n",
    "                                       ContentType = 'text/csv',                     # The data format that is expected\n",
    "                                       Body = test_bow)"
   ]
  },
  {
   "cell_type": "markdown",
   "metadata": {},
   "source": [
    "So why did we get an error?\n",
    "\n",
    "Because we tried to send the endpoint a list of integers but it expected us to send data of type `text/csv`. So, we need to convert it."
   ]
  },
  {
   "cell_type": "code",
   "execution_count": 44,
   "metadata": {},
   "outputs": [],
   "source": [
    "response = runtime.invoke_endpoint(EndpointName = xgb_predictor.endpoint, # The name of the endpoint we created\n",
    "                                       ContentType = 'text/csv',                     # The data format that is expected\n",
    "                                       Body = ','.join([str(val) for val in test_bow]).encode('utf-8'))"
   ]
  },
  {
   "cell_type": "code",
   "execution_count": 45,
   "metadata": {},
   "outputs": [
    {
     "name": "stdout",
     "output_type": "stream",
     "text": [
      "{'ResponseMetadata': {'RequestId': '016c391c-3b3a-4c12-b900-5e8894f1e392', 'HTTPStatusCode': 200, 'HTTPHeaders': {'x-amzn-requestid': '016c391c-3b3a-4c12-b900-5e8894f1e392', 'x-amzn-invoked-production-variant': 'AllTraffic', 'date': 'Sun, 12 Jul 2020 22:34:50 GMT', 'content-type': 'text/csv; charset=utf-8', 'content-length': '14'}, 'RetryAttempts': 0}, 'ContentType': 'text/csv; charset=utf-8', 'InvokedProductionVariant': 'AllTraffic', 'Body': <botocore.response.StreamingBody object at 0x7efd006bed30>}\n"
     ]
    }
   ],
   "source": [
    "print(response)"
   ]
  },
  {
   "cell_type": "markdown",
   "metadata": {},
   "source": [
    "As we can see, the response from our model is a somewhat complicated looking dict that contains a bunch of information. The bit that we are most interested in is `'Body'` object which is a streaming object that we need to `read` in order to make use of."
   ]
  },
  {
   "cell_type": "code",
   "execution_count": 46,
   "metadata": {},
   "outputs": [
    {
     "name": "stdout",
     "output_type": "stream",
     "text": [
      "0.511551678181\n"
     ]
    }
   ],
   "source": [
    "response = response['Body'].read().decode('utf-8')\n",
    "print(response)"
   ]
  },
  {
   "cell_type": "markdown",
   "metadata": {},
   "source": [
    "Now that we know how to process the incoming user data we can start setting up the infrastructure to make our simple web app work. To do this we will make use of two different services. Amazon's Lambda and API Gateway services.\n",
    "\n",
    "Lambda is a service which allows someone to write some relatively simple code and have it executed whenever a chosen trigger occurs. For example, you may want to update a database whenever new data is uploaded to a folder stored on S3.\n",
    "\n",
    "API Gateway is a service that allows you to create HTTP endpoints (url addresses) which are connected to other AWS services. One of the benefits to this is that you get to decide what credentials, if any, are required to access these endpoints.\n",
    "\n",
    "In our case we are going to set up an HTTP endpoint through API Gateway which is open to the public. Then, whenever anyone sends data to our public endpoint we will trigger a Lambda function which will send the input (in our case a review) to our model's endpoint and then return the result."
   ]
  },
  {
   "cell_type": "markdown",
   "metadata": {},
   "source": [
    "### Setting up a Lambda function\n",
    "\n",
    "The first thing we are going to do is set up a Lambda function. This Lambda function will be executed whenever our public API has data sent to it. When it is executed it will receive the data, perform any sort of processing that is required, send the data (the review) to the SageMaker endpoint we've created and then return the result.\n",
    "\n",
    "#### Part A: Create an IAM Role for the Lambda function\n",
    "\n",
    "Since we want the Lambda function to call a SageMaker endpoint, we need to make sure that it has permission to do so. To do this, we will construct a role that we can later give the Lambda function.\n",
    "\n",
    "Using the AWS Console, navigate to the **IAM** page and click on **Roles**. Then, click on **Create role**. Make sure that the **AWS service** is the type of trusted entity selected and choose **Lambda** as the service that will use this role, then click **Next: Permissions**.\n",
    "\n",
    "In the search box type `sagemaker` and select the check box next to the **AmazonSageMakerFullAccess** policy. Then, click on **Next: Review**.\n",
    "\n",
    "Lastly, give this role a name. Make sure you use a name that you will remember later on, for example `LambdaSageMakerRole`. Then, click on **Create role**."
   ]
  },
  {
   "cell_type": "markdown",
   "metadata": {},
   "source": [
    "#### Part B: Create a Lambda function\n",
    "\n",
    "Now it is time to actually create the Lambda function. Remember from earlier that in order to process the user provided input and send it to our endpoint we need to gather two pieces of information:\n",
    "\n",
    " - The name of the endpoint, and\n",
    " - the vocabulary object.\n",
    "\n",
    "We will copy these pieces of information to our Lambda function after we create it.\n",
    "\n",
    "To start, using the AWS Console, navigate to the AWS Lambda page and click on **Create a function**. When you get to the next page, make sure that **Author from scratch** is selected. Now, name your Lambda function, using a name that you will remember later on, for example `sentiment_analysis_xgboost_func`. Make sure that the **Python 3.6** runtime is selected and then choose the role that you created in the previous part. Then, click on **Create Function**.\n",
    "\n",
    "On the next page you will see some information about the Lambda function you've just created. If you scroll down you should see an editor in which you can write the code that will be executed when your Lambda function is triggered. Collecting the code we wrote above to process a single review and adding it to the provided example `lambda_handler` we arrive at the following.\n",
    "\n",
    "```python\n",
    "# We need to use the low-level library to interact with SageMaker since the SageMaker API\n",
    "# is not available natively through Lambda.\n",
    "import boto3\n",
    "\n",
    "# And we need the regular expression library to do some of the data processing\n",
    "import re\n",
    "\n",
    "REPLACE_NO_SPACE = re.compile(\"(\\.)|(\\;)|(\\:)|(\\!)|(\\')|(\\?)|(\\,)|(\\\")|(\\()|(\\))|(\\[)|(\\])\")\n",
    "REPLACE_WITH_SPACE = re.compile(\"(<br\\s*/><br\\s*/>)|(\\-)|(\\/)\")\n",
    "\n",
    "def review_to_words(review):\n",
    "    words = REPLACE_NO_SPACE.sub(\"\", review.lower())\n",
    "    words = REPLACE_WITH_SPACE.sub(\" \", words)\n",
    "    return words\n",
    "    \n",
    "def bow_encoding(words, vocabulary):\n",
    "    bow = [0] * len(vocabulary) # Start by setting the count for each word in the vocabulary to zero.\n",
    "    for word in words.split():  # For each word in the string\n",
    "        if word in vocabulary:  # If the word is one that occurs in the vocabulary, increase its count.\n",
    "            bow[vocabulary[word]] += 1\n",
    "    return bow\n",
    "\n",
    "\n",
    "def lambda_handler(event, context):\n",
    "    \n",
    "    vocab = \"*** ACTUAL VOCABULARY GOES HERE ***\"\n",
    "    \n",
    "    words = review_to_words(event['body'])\n",
    "    bow = bow_encoding(words, vocab)\n",
    "\n",
    "    # The SageMaker runtime is what allows us to invoke the endpoint that we've created.\n",
    "    runtime = boto3.Session().client('sagemaker-runtime')\n",
    "\n",
    "    # Now we use the SageMaker runtime to invoke our endpoint, sending the review we were given\n",
    "    response = runtime.invoke_endpoint(EndpointName = '***ENDPOINT NAME HERE***',# The name of the endpoint we created\n",
    "                                       ContentType = 'text/csv',                 # The data format that is expected\n",
    "                                       Body = ','.join([str(val) for val in bow]).encode('utf-8')) # The actual review\n",
    "\n",
    "    # The response is an HTTP response whose body contains the result of our inference\n",
    "    result = response['Body'].read().decode('utf-8')\n",
    "    \n",
    "    # Round the result so that our web app only gets '1' or '0' as a response.\n",
    "    result = round(float(result))\n",
    "\n",
    "    return {\n",
    "        'statusCode' : 200,\n",
    "        'headers' : { 'Content-Type' : 'text/plain', 'Access-Control-Allow-Origin' : '*' },\n",
    "        'body' : str(result)\n",
    "    }\n",
    "```"
   ]
  },
  {
   "cell_type": "markdown",
   "metadata": {},
   "source": [
    "Once you have copy and pasted the code above into the Lambda code editor, replace the `**ENDPOINT NAME HERE**` portion with the name of the endpoint that we deployed earlier. You can determine the name of the endpoint using the code cell below."
   ]
  },
  {
   "cell_type": "code",
   "execution_count": 47,
   "metadata": {},
   "outputs": [
    {
     "data": {
      "text/plain": [
       "'xgboost-2020-07-12-21-46-16-334'"
      ]
     },
     "execution_count": 47,
     "metadata": {},
     "output_type": "execute_result"
    }
   ],
   "source": [
    "xgb_predictor.endpoint"
   ]
  },
  {
   "cell_type": "markdown",
   "metadata": {},
   "source": [
    "In addition, you will need to copy the vocabulary dict to the appropriate place in the code at the beginning of the `lambda_handler` method. The cell below prints out the vocabulary dict in a way that is easy to copy and paste."
   ]
  },
  {
   "cell_type": "code",
   "execution_count": 48,
   "metadata": {},
   "outputs": [
    {
     "name": "stdout",
     "output_type": "stream",
     "text": [
      "{'another': 250, 'pokemon': 3320, 'movie': 2926, 'has': 2043, 'hit': 2122, 'the': 4426, 'theaters': 4428, 'and': 226, 'again': 146, 'im': 2232, 'hearing': 2063, 'same': 3778, 'old': 3100, 'is': 2360, 'dead': 1132, 'blah': 496, 'couldnt': 1008, 'be': 418, 'more': 2904, 'wrong': 4973, 'kids': 2467, 'are': 285, 'still': 4188, 'playing': 3300, 'card': 681, 'game': 1864, 'theyre': 4445, 'watching': 4815, 'tv': 4610, 'series': 3890, 'waiting': 4772, 'for': 1784, 'boy': 557, 'advance': 127, 'games': 1865, 'they': 4442, 'want': 4788, 'to': 4507, 'see': 3855, 'that': 4424, 'said': 3774, 'introduces': 2338, 'us': 4690, 'two': 4620, 'legendary': 2565, 'north': 3036, 'wind': 4893, 'of': 3083, 'forest': 1791, 'star': 4150, 'show': 3953, 'itself': 2371, 'named': 2961, 'sam': 3777, '40': 48, 'years': 4979, 'into': 2332, 'future': 1856, 'present': 3374, 'day': 1129, 'where': 4864, 'his': 2118, 'faithful': 1634, 'friends': 1837, 'traveling': 4568, 'through': 4477, 'become': 433, 'fast': 1661, 'once': 3106, 'discover': 1279, 'others': 3136, 'love': 2669, 'with': 4911, 'on': 3105, 'top': 4525, 'great': 1964, 'moment': 2886, 'together': 4511, 'decide': 1148, 'protect': 3443, 'from': 1840, 'villain': 4744, 'story': 4207, 'team': 4378, 'rocket': 3721, 'agent': 150, 'vicious': 4728, 'who': 4871, 'hell': 2077, 'capturing': 679, 'own': 3158, 'ends': 1474, 'will': 4886, 'able': 66, 'dark': 1115, 'balls': 390, 'does': 1308, 'fit': 1740, 'picture': 3269, 'james': 2378, 'have': 2052, 'bigger': 479, 'parts': 3199, 'in': 2257, 'this': 4457, 'than': 4420, 'before': 440, 'just': 2437, 'really': 3556, 'like': 2599, 'first': 1736, 'movies': 2927, 'if': 2222, 'you': 4986, 'go': 1924, 'youre': 4992, 'going': 1931, 'hate': 2046, 'it': 2366, 'no': 3020, 'matter': 2769, 'what': 4858, 'simply': 3986, 'because': 432, 'its': 2370, 'or': 3124, 'your': 4991, 'child': 789, 'younger': 4990, 'et': 1526, 'dragged': 1343, 'then': 4436, 'youve': 4995, 'decided': 1149, 'may': 2775, 'but': 636, 'trash': 4565, 'especially': 1520, 'without': 4913, 'having': 2054, 'seen': 3865, 'plain': 3286, 'stupid': 4247, 'even': 1533, 'non': 3027, 'fans': 1650, 'can': 665, 'enjoy': 1484, 'know': 2489, 'every': 1539, 'last': 2521, 'detail': 1217, 'world': 4946, 'not': 3040, 'saying': 3800, 'fan': 1648, 'indeed': 2271, 'youll': 4988, 'let': 2579, 'yourself': 4993, 'unlike': 4670, 'being': 448, 'by': 642, 'ive': 2372, 'heard': 2062, 'also': 199, 'working': 4944, 'rights': 3697, 'which': 4867, 'was': 4805, 'released': 3603, 'past': 3207, 'summer': 4291, 'japan': 2381, 'claims': 830, 'some': 4061, 'marketing': 2741, 'all': 187, 'so': 4046, 'far': 1653, 'limited': 2606, 'release': 3602, 'doesnt': 1309, 'include': 2261, 'usual': 4699, 'short': 3946, 'beginning': 443, 'looking': 2648, 'forward': 1808, 'time': 4495, 'hope': 2155, 'put': 3480, 'called': 652, 'exciting': 1563, 'hide': 2097, 'seek': 3858, 'onto': 3111, 'at': 331, 'least': 2554, 'dvd': 1391, 'vhs': 4725, 'current': 1084, 'very': 4723, 'entertaining': 1499, 'film': 1716, 'admit': 122, 'laughed': 2532, 'few': 1700, 'times': 4497, 'during': 1387, '2004': 34, 'holiday': 2134, 'already': 197, 'moving': 2928, 'out': 3141, 'my': 2951, 'term': 4405, 'memory': 2804, 'career': 686, 'rather': 3528, 'toward': 4539, 'ben': 463, 'promising': 3433, 'comic': 893, 'character': 758, 'actor': 103, 'became': 431, 'hollywood': 2137, 'machine': 2693, 'himself': 2111, 'romantic': 3733, 'leading': 2547, 'man': 2721, 'judging': 2425, 'transformation': 4560, 'seem': 3861, 'taking': 4352, 'as': 311, 'he': 2056, 'continues': 971, 'lack': 2502, 'would': 4957, 'make': 2713, 'him': 2110, 'credible': 1048, 'such': 4268, 'while': 4868, 'buddy': 609, 'matt': 2768, 'damon': 1101, 'takes': 4351, 'smart': 4035, 'roles': 3727, 'films': 1721, 'appears': 278, 'type': 4621, 'commercial': 902, 'superficial': 4298, 'successful': 4266, 'lonely': 2643, 'advertising': 132, 'executive': 1567, 'drew': 1360, 'suits': 4287, 'better': 472, 'most': 2909, 'other': 3135, 'tried': 4584, 'directed': 1259, 'mike': 2838, 'mitchell': 2875, 'whose': 4877, 'famous': 1647, 'male': 2719, 'scripted': 3835, 'less': 2575, 'four': 1812, 'always': 203, 'bad': 382, 'sign': 3970, 'plot': 3309, 'revolves': 3682, 'around': 297, 'characters': 760, 'need': 2987, 'rent': 3626, 'family': 1645, 'living': 2629, 'childhood': 790, 'home': 2142, 'order': 3126, 'live': 2625, 'fantasy': 1652, 'fashioned': 1660, 'christmas': 810, 'never': 3001, 'had': 2003, 'concept': 930, 'actually': 109, 'intriguing': 2335, 'there': 4438, 'something': 4066, 'about': 67, 'we': 4823, 'feel': 1684, 'real': 3547, 'problem': 3408, 'however': 2183, 'feels': 1687, 'an': 223, 'extended': 1604, 'lacking': 2504, 'any': 256, 'logic': 2638, 'authentic': 358, 'emotional': 1459, 'seems': 3864, 'attempting': 342, 'desperately': 1209, 'lovable': 2668, 'result': 3660, 'turn': 4605, 'increasingly': 2268, 'annoying': 249, 'people': 3221, 'ill': 2228, 'conceived': 929, 'fortunately': 1805, 'likes': 2602, 'catherine': 719, 'couple': 1016, 'accept': 80, 'offer': 3087, 'pretend': 3381, 'parents': 3188, 'plays': 3301, 'tom': 4514, 'violent': 4748, 'relative': 3599, 'tony': 4521, 'role': 3726, 'her': 2085, 'classic': 835, 'days': 1130, 'christopher': 811, 'gem': 1877, 'vehicle': 4718, 'she': 3923, 'best': 469, 'laughs': 2534, 'wife': 4884, 'whether': 4866, 'delivering': 1171, 'one': 3107, 'up': 4683, 'photo': 3257, 'shoot': 3942, 'becoming': 435, 'standard': 4144, 'screen': 3829, 'their': 4431, 'daughter': 1121, 'course': 1019, 'becomes': 434, 'interest': 2323, 'despite': 1211, 'good': 1937, 'moments': 2887, 'enjoying': 1487, 'sister': 4001, 'front': 1841, 'change': 749, 'flash': 1745, 'making': 2718, 'hard': 2033, 'completely': 922, 'control': 977, 'third': 4455, 'contrived': 976, 'situation': 4008, 'until': 4680, 'tied': 4489, 'much': 2934, 'since': 3990, 'finished': 1733, 'shooting': 3943, 'script': 3834, 'shows': 3960, 'stuck': 4237, 'bitter': 491, 'end': 1468, 'worst': 4952, 'crap': 1031, 'ever': 1538, 'literally': 2622, 'got': 1944, 'sharp': 3922, 'pain': 3170, 'head': 2057, 'cgi': 740, 'awful': 372, 'waste': 4808, 'dean': 1139, 'mr': 2929, 'super': 4295, 'figure': 1711, 'anything': 260, 'except': 1556, 'cant': 671, 'work': 4940, 'helicopter': 2076, 'biggest': 480, 'split': 4120, 'camera': 659, 'felt': 1692, 'brady': 561, 'bunch': 623, 'only': 3110, 'wasnt': 4807, 'different': 1248, 'close': 853, 'ups': 4686, 'views': 4742, 'thing': 4450, 'actors': 104, 'needed': 2988, 'money': 2888, 'worth': 4953, 'shot': 3949, 'wendy': 4846, 'warrior': 4802, 'strong': 4229, 'ruined': 3751, 'cheesy': 781, 'details': 1219, 'throughout': 4478, 'am': 204, 'teenager': 4390, 'didnt': 1242, 'thought': 4462, 'effects': 1431, 'were': 4848, 'horrible': 2163, 'might': 2835, 'children': 792, 'matrix': 2767, 'moves': 2925, 'action': 100, 'absolutely': 72, 'fake': 1635, 'evil': 1548, 'spirit': 4113, 'random': 3514, 'win': 4892, 'typical': 4623, 'when': 4862, 'monk': 2889, 'cousin': 1021, 'defeat': 1157, 'destroy': 1213, 'forever': 1792, 'learns': 2553, 'ready': 3546, 'next': 3007, 'wonderful': 4928, 'horror': 2168, '70s': 56, 'realistic': 3550, 'settings': 3901, 'inevitable': 2282, 'negative': 2991, 'comments': 901, 'noticed': 3049, 'certain': 737, 'period': 3236, 'many': 2732, 'fail': 1625, 'reach': 3536, 'obviously': 3072, 'must': 2950, 'mental': 2808, 'minds': 2852, 'potential': 3355, 'music': 2946, 'critics': 1064, 'here': 2086, 'read': 3543, 'review': 3676, 'knew': 2486, 'final': 1722, 'gift': 1906, '10': 0, 'well': 4843, 'done': 1322, 'reads': 3545, 'quite': 3495, 'way': 4820, 'produced': 3414, 'reminds': 3620, 'me': 2778, 'lot': 2661, 'kubrick': 2496, 'impression': 2252, 'excellent': 1555, 'consider': 949, 'science': 3816, 'fiction': 1702, 'filmed': 1717, '1973': 19, 'terrific': 4409, 'vision': 4754, 'everything': 1544, 'gone': 1935, 'too': 4522, 'nothing': 3047, 'works': 4945, 'rich': 3685, 'set': 3898, 'new': 3003, 'york': 4985, 'think': 4452, 'appreciate': 279, 'acting': 99, 'after': 143, 'seeing': 3857, 'orson': 3132, 'welles': 4844, 'touch': 4533, 'maybe': 2776, 'capable': 672, 'portraying': 3343, 'range': 3516, 'heroic': 2090, 'semi': 3874, 'torn': 4528, 'between': 475, 'cop': 991, 'little': 2624, 'bit': 488, 'corrupt': 1001, 'rare': 3523, 'food': 1778, 'treats': 4575, 'totally': 4532, 'take': 4349, 'place': 3282, 'night': 3013, 'off': 3084, 'everyone': 1542, 'air': 164, 'though': 4461, 'hadnt': 2004, 'ending': 1471, 'revealed': 3671, 'certainly': 738, 'scenes': 3811, 'edward': 1426, 'robinson': 3716, 'made': 2697, 'elderly': 1440, 'heavy': 2070, 'accents': 79, 'truth': 4599, 'check': 777, 'gritty': 1977, 'pre': 3365, 'wars': 4804, 'shocked': 3939, 'imdb': 2240, 'given': 1913, 'rating': 3529, 'higher': 2101, 'thats': 4425, 'could': 1007, 'give': 1912, '20': 29, 'id': 2212, 'do': 1302, 'ranks': 3519, 'high': 2100, 'modern': 2882, 'comedy': 890, 'alongside': 196, 'half': 2007, 'hilarious': 2106, 'rap': 3520, 'learn': 2550, 'tap': 4364, 'inspired': 2301, 'genius': 1887, 'unique': 4662, 'liked': 2600, 'bob': 524, 'roberts': 3714, 'watch': 4811, 'vote': 4766, 'business': 633, 'should': 3951, 'theres': 4440, 'talent': 4354, 'involved': 2346, 'talented': 4355, 'directors': 1266, 'writers': 4969, 'unfortunately': 4654, 'based': 404, 'three': 4469, 'issues': 2365, 'segments': 3868, 'incredibly': 2270, 'tone': 4517, 'quality': 3484, 'them': 4432, 'secondly': 3847, 'several': 3905, 'stories': 4205, 'come': 886, 'talking': 4360, 'happy': 2032, 'endings': 1472, 'basic': 406, 'development': 1225, 'solid': 4057, 'draw': 1349, 'did': 1241, 'properly': 3437, 'portrayed': 3342, 'left': 2561, 'leave': 2555, 'average': 362, 'viewer': 4738, 'big': 478, 'pacino': 3164, 'hes': 2093, 'genre': 1888, 'couldve': 1009, 'been': 438, 'whole': 4873, 'poor': 3328, 'cast': 710, 'tell': 4395, 'went': 4847, 'jail': 2376, 'instead': 2307, 'seemed': 3862, 'told': 4513, 'questions': 3489, 'wondered': 4927, 'original': 3129, 'concerned': 932, 'get': 1899, 'prequel': 3372, 'almost': 193, 'none': 3028, 'part': 3193, 'move': 2921, 'dont': 1324, 'started': 4157, 'cat': 713, 'seriously': 3892, 'dance': 1103, 'artists': 309, 'videos': 4734, 'dude': 1381, 'opened': 3113, 'mouth': 2920, 'start': 4156, 'dancing': 1107, 'laugh': 2529, 'mario': 2738, 'van': 4713, 'surprised': 4313, 'gonna': 1936, 'performance': 3228, 'due': 1382, 'recent': 3566, 'history': 2121, 'probably': 3407, 'believable': 453, 'entire': 1502, 'opinion': 3118, 'jay': 2386, 'skills': 4014, 'right': 3696, 'now': 3054, 'appreciated': 280, 'energy': 1478, 'efforts': 1433, 'follow': 1772, 'clue': 864, 'kind': 2476, 'person': 3238, 'otherwise': 3137, 'looks': 2649, 'cold': 872, 'killer': 2470, 'scene': 3809, 'try': 4600, '2nd': 41, 'cash': 709, 'failure': 1629, 'wouldnt': 4958, 'surprise': 4312, 'overall': 3150, 'fell': 1690, 'reason': 3557, 'gave': 1875, 'earned': 1401, 'respect': 3652, 'back': 378, 'serious': 3891, 'director': 1264, 'taken': 4350, 'turned': 4606, 'actual': 108, 'extremely': 1610, 'disappointed': 1273, 'wouldve': 4959, 'mini': 2854, 'hbo': 2055, 'telling': 4396, 'suggests': 4282, 'suggest': 4280, 'city': 825, 'wants': 4791, 'how': 2181, 'zero': 4996, 'mind': 2849, 'sense': 3877, 'happening': 2028, 'boring': 543, 'please': 3304, 'truly': 4597, 'depicted': 1183, 'killers': 2471, 'favor': 1670, 'understand': 4643, 'why': 4878, 'bother': 548, 'mate': 2765, 'grab': 1949, 'piece': 3272, 'low': 2676, 'cost': 1003, 'amateur': 206, 'sole': 4055, 'intention': 2319, 'bucks': 606, 'filming': 1718, 'mean': 2779, 'anyone': 259, 'lets': 2580, 'say': 3799, 'ones': 3108, 'usually': 4700, 'degree': 1164, 'damn': 1100, 'experience': 1580, 'jon': 2416, 'find': 1726, 'purpose': 3474, 'life': 2592, 'suck': 4269, 'directing': 1260, 'angles': 237, 'messed': 2821, 'lines': 2612, 'toilet': 4512, 'paper': 3183, 'comes': 891, 'shouldnt': 3952, 'goes': 1930, 'apparent': 269, 'writer': 4968, 'either': 1438, 'isnt': 2362, 'serving': 3897, 'requires': 3642, 'art': 304, 'skill': 4013, 'things': 4451, 'doubt': 1332, 'wait': 4770, 'till': 4493, 'came': 656, 'job': 2405, 'stress': 4220, 'save': 3794, 'lead': 2545, 'fall': 1637, 'simple': 3983, 'enough': 1491, 'guy': 2000, 'gets': 1900, 'arrested': 298, 'crime': 1055, 'commit': 904, 'tries': 4585, 'former': 1800, 'boss': 546, 'genuinely': 1892, 'absolute': 71, 'idiot': 2218, 'manages': 2725, 'stand': 4143, 'chance': 747, 'success': 4265, 'sure': 4308, 'wont': 4932, 'hitler': 2124, 'kill': 2468, 'keep': 2449, 'secrets': 3852, 'safe': 3771, 'impressed': 2251, 'imagination': 2236, 'relatively': 3600, 'small': 4033, 'country': 1014, 'share': 3920, 'superb': 4296, 'entertainment': 1500, 'blue': 518, 'these': 4441, 'cinema': 816, 'funny': 1852, 'initially': 2291, 'reviews': 3679, 'found': 1811, 'funnier': 1850, 'giving': 1915, 'props': 3439, 'true': 4596, 'gag': 1861, 'minute': 2858, 'stiller': 4189, 'jack': 2373, 'black': 493, 'each': 1395, 'walken': 4777, 'blacks': 494, 'makes': 2716, 'dog': 1310, 'disappear': 1270, 'product': 3418, 'starts': 4159, 'means': 2783, 'both': 547, 'under': 4639, 'recommend': 3571, 'flick': 1754, 'ass': 323, 'lesser': 2576, 'fun': 1848, 'henry': 2084, 'equally': 1510, 'subplot': 4255, 'father': 1666, 'son': 4070, 'consists': 955, 'wonderfully': 4929, 'screenplay': 3831, 'brings': 587, 'bonus': 534, 'panic': 3181, 'delivers': 1172, 'subtle': 4260, 'humor': 2192, 'unexpected': 4650, 'charming': 768, 'welcome': 4842, 'bumbling': 622, 'key': 2458, 'cool': 989, 'state': 4160, 'line': 2610, 'william': 4887, 'macy': 2695, 'captures': 678, 'our': 3139, 'hearts': 2066, 'alex': 179, 'unhappy': 4656, 'middle': 2833, 'aged': 149, 'husband': 2204, 'finds': 1728, 'persons': 3244, 'young': 4989, 'attractive': 351, 'year': 4978, 'sarah': 3785, 'campbell': 663, 'whom': 4875, 'meets': 2795, 'room': 3735, 'office': 3091, 'dr': 1340, 'john': 2409, 'ritter': 3705, 'discuss': 1283, 'growing': 1983, 'quit': 3494, 'donald': 1321, 'sutherland': 4333, 'built': 618, 'lust': 2689, 'fear': 1676, 'disappointing': 1274, 'strikes': 4225, 'fancy': 1649, 'ultimately': 4628, 'leads': 2548, 'essence': 1521, 'responsibility': 3655, 'importantly': 2248, 'six': 4010, 'played': 3297, 'endearing': 1469, 'david': 1124, 'brilliant': 583, 'exception': 1557, 'road': 3709, '2000': 30, 'genres': 1889, 'drama': 1346, 'fascinating': 1658, 'warm': 4794, 'viewing': 4740, 'direction': 1261, 'maintain': 2710, 'exceptional': 1558, 'caliber': 649, 'ages': 152, 'complete': 921, 'believe': 454, 'ridiculous': 3693, 'straight': 4210, 'ideas': 2215, 'yet': 4984, 'decent': 1147, '80s': 59, 'video': 4733, 'gore': 1941, 'budget': 610, 'load': 2631, 'heart': 2064, 'soul': 4079, 'attempt': 340, 'trick': 4582, 'blockbuster': 509, 'copy': 994, 'stop': 4201, 'doing': 1312, 'guess': 1989, 'appearing': 277, 'amazing': 209, 'terrible': 4407, 'location': 2635, 'unconvincing': 4638, 'soundtrack': 4085, 'belief': 451, 'unless': 4669, 'quest': 3486, 'list': 2617, 'female': 1693, 'gun': 1996, 'someone': 4064, 'threatening': 4468, 'finger': 1731, 'holding': 2130, 'joke': 2414, 'definitely': 1162, 'fred': 1825, 'musicals': 2948, 'astaire': 330, 'jerry': 2396, 'american': 213, 'musical': 2947, 'london': 2641, 'personal': 3240, 'appearance': 274, 'tour': 4538, 'lady': 2507, 'alice': 182, 'joan': 2404, 'beautiful': 428, 'english': 1483, 'escape': 1517, 'mob': 2879, 'believes': 456, 'forced': 1787, 'marriage': 2743, 'aunt': 355, 'rescue': 3643, 'familys': 1646, 'house': 2178, 'soon': 4074, 'discovers': 1281, 'staff': 4138, 'marry': 2745, 'butler': 637, 'albert': 174, 'harry': 2039, 'turns': 4609, 'helping': 2081, 'romance': 3732, 'bet': 470, 'numerous': 3062, 'problems': 3409, 'novel': 3052, 'pg': 3250, 'co': 867, 'wrote': 4974, 'slow': 4031, 'painful': 3171, 'endure': 1475, 'endless': 1473, 'against': 147, 'irritating': 2359, 'dimensional': 1253, 'stock': 4193, 'guys': 2001, 'punch': 3466, 'wish': 4904, 'suffers': 4278, 'absence': 70, 'partner': 3198, 'ginger': 1908, 'rogers': 3725, 'miscast': 2862, 'wise': 4903, 'lovely': 2671, 'face': 1616, 'smile': 4036, 'george': 1893, 'burns': 628, 'allen': 188, 'along': 195, 'ride': 3692, 'secretary': 3850, 'duo': 1386, 'adds': 119, 'chemistry': 782, 'stevens': 4183, 'cinematography': 820, 'focus': 1766, 'number': 3060, 'streets': 4217, 'convince': 983, 'audience': 352, 'used': 4693, 'tons': 4520, 'dry': 1377, 'ice': 2210, 'plus': 3311, 'side': 3965, 'songs': 4072, 'song': 4071, 'standards': 4145, 'thanks': 4423, 'pan': 3180, 'numbers': 3061, 'staged': 4140, 'singing': 3995, 'randomly': 3515, 'point': 3316, 'steps': 4177, 'outside': 3146, 'breaks': 571, 'solo': 4058, 'clear': 839, 'bothered': 549, 'dances': 1106, 'filled': 1715, 'street': 4216, 'rolled': 3729, 'jumps': 2432, 'passing': 3204, 'double': 1331, 'bus': 631, 'broadway': 592, 'crazy': 1035, 'version': 4720, 'group': 1980, 'chorus': 803, 'girls': 1911, 'test': 4416, 'trio': 4587, 'match': 2762, 'step': 4175, 'poorly': 3329, 'kicking': 2462, 'stiff': 4187, 'upper': 4685, 'park': 3190, 'floor': 1759, 'woods': 4935, 'estate': 1525, 'dancer': 1104, 'town': 4541, 'met': 2822, 'nice': 3008, 'social': 4049, 'event': 1535, 'drawn': 1351, 'faced': 1617, 'singers': 3994, 'look': 2646, 'decides': 1150, 'stone': 4197, 'prove': 3445, 'placed': 3283, 'hanging': 2023, 'nearby': 2980, 'tree': 4576, 'clothes': 860, 'ground': 1979, 'alone': 194, 'button': 639, 'remote': 3622, 'allows': 192, 'skip': 4016, 'chuck': 812, 'steve': 4181, 'warned': 4798, 'racial': 3501, 'flow': 1762, 'wallace': 4782, 'jackie': 2374, 'cooper': 990, 'speaks': 4096, 'population': 3335, 'neck': 2985, 'atmosphere': 333, 'center': 732, 'loud': 2664, 'fire': 1734, 'soft': 4051, 'spot': 4131, 'rival': 3706, 'down': 1335, 'dare': 1113, 'loved': 2670, 'attention': 345, 'jump': 2429, 'brooklyn': 595, 'bridge': 578, 'jumped': 2430, 'irish': 2353, 'accent': 78, 'sort': 4077, 'cats': 721, 'ladies': 2506, 'possibly': 3351, 'throw': 4479, 'leg': 2562, 'mistakes': 2873, 'fay': 1674, 'prostitute': 3440, 'tough': 4537, 'tears': 4380, 'highlight': 2103, 'holds': 2131, 'ego': 1435, 'care': 684, 'happened': 2027, 'devoid': 1230, 'ended': 1470, 'walking': 4779, '45': 50, 'minutes': 2859, 'subject': 4253, 'sex': 3907, 'okay': 3099, 'hence': 2083, 'sexy': 3911, 'ugly': 4625, 'delightful': 1168, 'light': 2595, 'hearted': 2065, 'suppose': 4305, 'case': 707, 'long': 2644, 'cut': 1089, 'kelly': 2452, 'sinatra': 3989, 'fabulous': 1615, 'develop': 1222, 'relationships': 3598, 'common': 906, 'complaint': 920, 'comment': 898, 'bring': 585, 'gives': 1914, 'hear': 2061, 'important': 2247, 'originally': 3131, 'wanted': 4789, 'opera': 3116, 'louis': 2665, 'brought': 600, 'mgm': 2828, 'included': 2262, 'smiling': 4037, 'imagine': 2238, 'full': 1846, 'highlights': 2104, 'use': 4692, 'color': 877, 'lighting': 2596, 'frank': 1821, 'counter': 1011, 'wanting': 4790, 'date': 1118, 'utterly': 4702, 'dull': 1384, 'senseless': 3878, 'pointless': 3318, 'dumb': 1385, 'proof': 3434, 'forget': 1793, 'danny': 1112, 'post': 3352, 'beach': 419, 'took': 4523, 'merely': 2815, 'among': 217, 'those': 4460, 'lost': 2660, 'drugs': 1374, 'self': 3869, 'whatever': 4859, 'quick': 3490, 'premise': 3370, 'absurd': 73, 'losers': 2656, 'likely': 2601, 'meet': 2793, 'friend': 1835, 'loser': 2655, 'manager': 2724, 'store': 4204, 'window': 4894, 'stealing': 4171, 'tape': 4365, 'garbage': 1870, 'uk': 4626, 'incredible': 2269, 'junk': 2436, 'studio': 4240, 'lyrics': 2692, 'tells': 4397, 'total': 4531, 'utter': 4701, 'performers': 3232, 'anti': 254, 'supposed': 4306, 'calling': 653, 'shots': 3950, 'dialog': 1232, 'unfunny': 4655, 'nowhere': 3056, 'often': 3095, 'influence': 2286, 'embarrassing': 1454, 'nonsense': 3030, 'whoever': 4872, 'selling': 3873, 'grasp': 1960, 'cultural': 1078, 'psycho': 3457, 'intended': 2315, 'importance': 2246, 'critical': 1062, 'theory': 4437, 'known': 2492, 'avoided': 364, 'text': 4419, 'disagree': 1269, 'ignore': 2224, 'idea': 2213, 'wall': 4781, 'wasted': 4809, 'effort': 1432, 'insulting': 2310, 'reality': 3551, 'immediately': 2242, 'interested': 2324, 'popular': 3333, 'enjoyable': 1485, 'reading': 3544, 'thinking': 4453, 'horribly': 2164, 'acted': 98, 'written': 4972, 'campy': 664, 'watchable': 4812, 'storyline': 4208, 'virtually': 4751, 'whatsoever': 4861, 'relief': 3605, 'tired': 4501, '30': 42, 'seconds': 3848, 'canadian': 667, 'supporting': 4304, 'commercials': 903, 'else': 1448, 'aware': 368, 'brother': 598, 'entirely': 1503, 'village': 4743, 'miles': 2843, 'recognized': 3570, 'local': 2634, 'buildings': 616, 'drive': 1363, 'sum': 4289, 'crappy': 1032, 'america': 212, 'myers': 2952, 'jackson': 2375, 'falls': 1640, 'asleep': 320, 'within': 4912, 'lame': 2510, 'dirty': 1268, 'jokes': 2415, 'green': 1971, 'ham': 2011, '2005': 35, 'eddie': 1416, 'murphy': 2944, 'tracy': 4546, 'morgan': 2905, 'play': 3296, 'trying': 4601, 'theyll': 4444, 'chase': 769, 'running': 3756, 'away': 369, 'ruin': 3750, 'book': 535, 'run': 3755, 'mill': 2845, 'mediocre': 2791, 'sixties': 4011, 'free': 1827, 'creators': 1044, 'pile': 3275, 'scenario': 3808, 'trite': 4589, 'happily': 2030, 'sympathy': 4343, 'diane': 1238, 'lane': 2515, 'anna': 245, 'class': 833, 'nor': 3032, 'slowly': 4032, 'predictable': 3367, 'pathetic': 3210, 'conclusion': 936, 'interesting': 2325, 'stunning': 4244, 'topless': 4527, 'heres': 2087, 'hint': 2112, 'occurs': 3078, 'rest': 3657, 'oh': 3096, 'god': 1926, 'saw': 3798, 'library': 2589, 'paid': 3169, 'upset': 4687, 'unwatchable': 4682, 'paced': 3162, 'wonder': 4926, 'distribution': 1298, 'ashamed': 312, 'dated': 1119, 'beyond': 476, 'hated': 2047, 'standing': 4146, 'eyes': 1613, 'sick': 3963, 'hints': 2113, 'word': 4937, 'philosophical': 3253, 'sat': 3786, 'beneath': 464, 'symbolism': 4341, 'report': 3635, 'reactions': 3542, 'hand': 2015, 'opening': 3114, 'wears': 4832, 'mask': 2752, 'practically': 3362, 'dreary': 1356, 'voice': 4761, 'over': 3148, 'worked': 4941, 'basically': 407, 'priest': 3392, 'human': 2188, 'help': 2079, 'troubled': 4593, 'remotely': 3623, 'sympathetic': 4342, 'unpleasant': 4674, 'across': 96, 'breath': 573, 'message': 2819, 'grace': 1950, 'mans': 2730, 'suffering': 4277, 'vague': 4705, 'robert': 3713, 'finally': 1724, 'paul': 3214, 'elements': 1443, 'setting': 3900, 'carried': 698, 'scripts': 3836, 'bull': 619, 'lacks': 2505, '1960s': 15, 'remember': 3616, 'although': 201, '17': 9, 'watched': 4813, 'ago': 154, 'sadly': 3769, 'justice': 2438, 'special': 4097, 'helped': 2080, 'flat': 1748, 'lacked': 2503, 'humour': 2194, 'par': 3184, 'hat': 2045, 'thomas': 4458, 'magic': 2703, 'reunion': 3669, 'badly': 383, 'executed': 1565, 'ran': 3513, 'early': 1400, 'honestly': 2147, 'annoyed': 248, 'suit': 4284, 'spirited': 4114, 'wayne': 4821, 'talents': 4356, 'lloyd': 2630, 'jeff': 2390, 'pulled': 3462, 'performances': 3229, 'elizabeth': 1445, 'useless': 4695, 'actress': 105, 'generally': 1881, 'ignored': 2225, 'mention': 2810, 'monster': 2892, 'attack': 337, 'scare': 3803, 'likewise': 2603, 'government': 1948, 'favourite': 1673, 'roger': 3724, 'rabbit': 3498, 'fond': 1776, 'shame': 3918, 'execution': 1566, 'cox': 1026, 'war': 4792, 'convey': 982, 'terror': 4412, 'avoid': 363, 'military': 2844, 'barely': 399, 'russian': 3762, 'expecting': 1578, 'poetic': 3313, 'pictures': 3270, 'score': 3822, 'cruel': 1070, 'germans': 1897, 'naive': 2958, 'affair': 135, 'silly': 3976, 'abuse': 74, 'carefully': 689, 'historical': 2119, 'political': 3324, 'references': 3583, 'nonetheless': 3029, 'missed': 2867, 'opportunity': 3121, 'propaganda': 3435, 'apparently': 270, 'titled': 4505, 'casting': 711, 'ann': 244, 'nelson': 2997, 'airplane': 166, 'woman': 4921, 'herself': 2092, 'listening': 2620, 'julie': 2428, 'image': 2233, 'fifteen': 1706, 'mother': 2911, 'nervous': 2999, 'grandfather': 1954, 'massive': 2756, 'chain': 741, 'smoking': 4040, 'psychiatrist': 3455, 'devil': 1228, 'tale': 4353, 'flashback': 1746, 'bought': 552, 'cheap': 774, 'desert': 1198, 'california': 650, 'large': 2517, 'begin': 442, 'themselves': 4435, 'afraid': 140, 'stay': 4166, 'eventually': 1537, 'mom': 2885, 'begins': 444, 'native': 2972, 'lying': 2690, 'author': 359, 'notes': 3046, 'detailed': 1218, 'uses': 4697, 'fill': 1714, 'patient': 3211, 'de': 1131, 'thinks': 4454, 'bodies': 526, 'fly': 1763, 'hits': 2125, 'unseen': 4678, 'forces': 1788, 'construction': 960, 'pro': 3406, 'involves': 2348, 'distance': 1294, 'notice': 3048, 'rolling': 3730, 'pretty': 3384, 'creepy': 1052, 'obvious': 3071, 'runs': 3757, 'trapped': 4564, 'conversations': 981, 'mummy': 2937, 'body': 527, 'experiences': 1582, 'dozen': 1338, 'fat': 1663, 'hour': 2176, 'explanation': 1590, 'spirits': 4115, 'water': 4816, 'maker': 2714, 'fact': 1621, 'murderous': 2942, 'ways': 4822, 'anybody': 257, 'kept': 2456, 'falling': 1639, 'kid': 2464, 'cute': 1090, 'ten': 4399, 'adults': 126, 'loving': 2675, 'mess': 2818, 'title': 4504, 'exercise': 1568, 'ease': 1404, 'scary': 3807, 'ghosts': 1903, 'contains': 964, 'physical': 3262, 'violence': 4747, 'mild': 2839, 'dealt': 1138, 'knowing': 2490, 'deep': 1154, 'destiny': 1212, 'showed': 3956, 'comfortable': 892, 'society': 4050, 'showing': 3958, 'further': 1853, 'meaning': 2780, 'pity': 3281, 'agree': 155, 'strange': 4211, 'remake': 3612, 'intelligent': 2314, 'general': 1880, 'public': 3460, 'levels': 2585, 'possible': 3350, 'hidden': 2096, 'ps': 3453, 'whilst': 4869, 'mexico': 2827, 'late': 2523, 'hotel': 2175, 'major': 2711, 'paranoia': 3186, 'trip': 4588, 'dream': 1354, 'hundred': 2195, 'wood': 4933, 'surely': 4309, 'hoping': 2160, 'murders': 2943, 'hot': 2174, 'animal': 239, 'slaughter': 4021, 'shock': 3938, 'disgusting': 1286, 'puts': 3481, 'raw': 3532, 'kings': 2481, 'ha': 2002, 'facts': 1624, 'carry': 700, 'production': 3419, 'rented': 3628, 'second': 3846, '3rd': 47, 'player': 3298, 'issue': 2364, 'un': 4630, 'retarded': 3663, 'therefore': 4439, 'hoped': 2156, 'horrific': 2166, 'peter': 3247, 'handful': 2017, 'slightly': 4029, 'witty': 4917, 'core': 995, 'fresh': 1833, 'unfolds': 4651, 'understated': 4646, 'simplicity': 3984, 'passed': 3202, 'school': 3813, 'writing': 4971, 'juvenile': 2441, 'corny': 997, 'desperate': 1208, 'stayed': 4167, 'worse': 4951, 'spend': 4105, 'space': 4090, 'sent': 3880, 'robot': 3717, 'ship': 3934, 'station': 4164, 'gas': 1874, 'etc': 1527, 'feelings': 1686, 'view': 4736, 'outer': 3143, 'unreal': 4676, 'hours': 2177, 'sucked': 4270, 'thin': 4449, 'similar': 3978, 'nick': 3012, 'charles': 764, 'dogs': 1311, 'powell': 3358, 'resemblance': 3645, 'heck': 2071, 'ned': 2986, 'cannot': 670, 'overly': 3155, 'sweet': 4336, 'perfect': 3224, 'members': 2801, 'force': 1786, 'fed': 1682, 'mtv': 2933, 'slasher': 4020, 'vampires': 4712, 'weapons': 4829, 'blood': 512, 'lots': 2662, 'fight': 1707, 'choreography': 802, 'hammer': 2014, 'scream': 3826, 'queen': 3485, 'fantastic': 1651, 'stuff': 4243, '35': 45, 'adding': 117, 'cg': 739, 'mix': 2876, 'created': 1037, 'commentary': 899, 'rob': 3710, 'television': 4394, 'behind': 447, 'amongst': 218, 'duke': 1383, 'wandering': 4785, 'practice': 3363, 'failed': 1626, 'particularly': 3195, 'wit': 4908, 'fails': 1628, 'whenever': 4863, 'amusing': 221, 'five': 1743, 'men': 2805, 'strike': 4224, 'mrs': 2930, 'dreadful': 1353, 'angels': 234, 'faces': 1618, 'thankfully': 4422, 'ironic': 2355, 'spoof': 4127, 'stars': 4155, 'leaves': 2556, 'desired': 1206, 'al': 170, 'sequence': 3887, 'mouse': 2919, 'sequences': 3888, 'favorite': 1671, 'mine': 2853, 'daughters': 1122, 'shes': 3930, 'mickey': 2831, 'today': 4508, 'captivating': 675, 'excitement': 1562, 'steals': 4172, 'dancers': 1105, '20th': 38, 'century': 736, 'gene': 1879, 'miss': 2866, 'holy': 2140, 'unintentional': 4658, 'designed': 1203, 'personally': 3243, 'angry': 238, 'added': 116, 'clever': 841, 'rotten': 3740, 'cheese': 780, 'single': 3996, 'connect': 944, 'universe': 4666, 'student': 4238, 'project': 3427, 'strength': 4219, 'courage': 1018, 'boyfriend': 558, 'christian': 808, 'sound': 4081, 'ignorant': 2223, 'religion': 3607, 'christians': 809, 'miserable': 2863, 'speak': 4094, 'act': 97, 'gay': 1876, 'community': 908, 'crafted': 1029, 'stereotypical': 4180, 'radio': 3504, 'fully': 1847, 'pay': 3216, 'makers': 2715, 'train': 4556, 'wreck': 4965, 'design': 1202, 'jamie': 2379, 'looked': 2647, 'mentally': 2809, 'blind': 506, 'deaf': 1134, 'tiny': 4500, 'arms': 294, 'legs': 2566, 'write': 4967, 'direct': 1258, 'produce': 3413, 'shed': 3924, 'exists': 1573, 'available': 361, 'format': 1799, 'chair': 742, 'record': 3573, 'arthur': 305, 'death': 1141, 'torture': 4529, 'homosexual': 2145, 'offended': 3085, 'mistake': 2871, 'primarily': 3393, 'earth': 1403, 'call': 651, 'credit': 1049, 'category': 718, 'hilariously': 2107, 'funniest': 1851, 'episodes': 1508, 'getting': 1901, 'example': 1553, 'trouble': 4592, 'happens': 2029, 'round': 3742, 'main': 2707, 'fox': 1814, 'ball': 388, 'aside': 315, 'intellectual': 2312, 'talks': 4361, 'hitchcock': 2123, 'chaplin': 756, 'bergman': 466, 'prior': 3400, 'cinemas': 817, 'throws': 4482, 'speech': 4102, 'reduced': 3579, 'psychological': 3458, 'sexual': 3908, 'effect': 1428, 'edited': 1420, 'speaking': 4095, 'words': 4938, 'idiotic': 2219, 'incoherent': 2265, 'response': 3654, 'considered': 951, 'award': 366, 'points': 3319, 'strongly': 4231, 'depression': 1189, 'morality': 2903, '30s': 44, 'wasting': 4810, 'frame': 1815, '80': 58, 'developed': 1223, 'rushed': 3760, 'twists': 4619, 'lone': 2642, 'worthy': 4956, 'note': 3044, 'cliff': 847, 'reporter': 3636, 'clark': 832, 'gangster': 1868, 'jake': 2377, 'shines': 3932, 'familiar': 1643, 'later': 2525, 'oscar': 3133, 'mildred': 2841, 'charisma': 762, 'eight': 1436, 'painfully': 3172, 'awfully': 373, 'transition': 4561, 'ambitious': 211, 'below': 462, 'fair': 1630, 'kapoor': 2443, 'expected': 1577, 'billy': 482, 'alan': 171, 'king': 2479, 'clichés': 846, 'phony': 3256, 'emotion': 1458, 'coming': 896, 'busy': 635, 'cry': 1073, 'fairly': 1631, 'likable': 2598, 'extra': 1606, 'visit': 4755, 'health': 2060, 'crisis': 1060, 'doctors': 1305, 'shut': 3961, 'moon': 2900, 'la': 2500, 'quickly': 3491, 'realized': 3553, 'painted': 3174, 'corner': 996, 'mostly': 2910, 'associated': 327, 'drivel': 1364, 'wanna': 4786, 'calls': 654, 'tongue': 4518, 'huh': 2187, 'freddy': 1826, 'brain': 562, 'ludicrous': 2685, 'shelf': 3926, 'walk': 4775, 'spots': 4132, 'length': 2569, 'bland': 500, 'sing': 3992, 'accomplished': 87, 'pamela': 3179, 'unlikely': 4671, 'navy': 2976, 'resulting': 3661, 'animated': 241, 'mexican': 2826, 'grave': 1962, 'girl': 1909, 'pleasant': 3302, 'nancy': 2964, 'fictional': 1703, 'books': 536, 'introduced': 2337, 'era': 1513, 'teenage': 4389, '90s': 61, 'hardy': 2037, 'boys': 559, 'cover': 1022, 'perhaps': 3235, 'recall': 3562, 'sisters': 4002, 'subsequent': 4257, 'thick': 4447, 'warner': 4799, 'brothers': 599, 'somehow': 4063, 'andrew': 228, '50s': 52, 'charm': 767, 'folks': 1771, 'fashion': 1659, 'quirky': 3493, 'background': 380, 'remains': 3611, 'parent': 3187, 'river': 3707, 'heights': 2073, 'distant': 1295, 'cameo': 657, 'emma': 1457, 'julia': 2427, 'red': 3576, 'hair': 2005, 'grow': 1982, 'shop': 3945, 'opposite': 3123, 'dad': 1095, 'environment': 1505, 'normal': 3033, 'trust': 4598, 'owner': 3159, 'murdered': 2940, 'suspicious': 4332, 'circumstances': 822, 'mystery': 2956, 'adventure': 130, 'solve': 4060, 'jealous': 2388, 'max': 2774, 'hiding': 2099, 'activities': 102, 'somewhat': 4068, 'scooby': 3820, 'doo': 1325, 'minimal': 2855, 'bag': 384, 'explosions': 1597, 'clearly': 840, 'chick': 786, 'alert': 178, 'generation': 1883, 'memories': 2803, 'graphics': 1959, 'horrendous': 2162, 'channel': 753, 'expect': 1575, 'rate': 3526, 'cake': 648, 'laughing': 2533, 'shake': 3914, 'disbelief': 1277, 'actresses': 106, 'difficult': 1249, 'realize': 3552, '60s': 54, 'spoilers': 4124, 'sit': 4003, 'normally': 3034, 'weird': 4841, 'toy': 4542, 'toys': 4543, 'andy': 230, 'ensues': 1493, 'greedy': 1969, 'sea': 3838, 'tunes': 4603, 'friendly': 1836, 'sir': 4000, 'leonard': 2572, 'nuts': 3064, 'perspective': 3245, 'mood': 2898, 'ordinary': 3128, 'chinese': 796, 'ghost': 1902, 'leslie': 2574, 'sin': 3988, 'temple': 4398, 'joey': 2408, 'victims': 4730, 'proper': 3436, 'successfully': 4267, 'battle': 414, 'lord': 2652, 'wed': 4835, 'hong': 2149, 'kong': 2494, 'purely': 3472, 'martial': 2747, 'arts': 310, 'asian': 314, 'magical': 2704, 'innocent': 2294, 'heroes': 2089, 'sword': 4340, 'instantly': 2306, 'visual': 4757, 'decades': 1145, 'finest': 1730, 'examples': 1554, 'breathtaking': 574, 'masterpiece': 2759, 'brilliantly': 584, 'editing': 1421, 'imaginative': 2237, 'including': 2264, 'multiple': 2936, 'flying': 1764, 'heads': 2059, 'unforgettable': 4652, 'thoroughly': 4459, 'finish': 1732, 'commented': 900, 'listed': 2618, 'buy': 640, 'quote': 3496, 'stops': 4203, 'truck': 4595, 'realizes': 3554, 'cage': 645, 'sorry': 4076, 'scared': 3805, 'constant': 957, 'rock': 3720, 'hunting': 2201, 'eerie': 1427, 'reminiscent': 3621, 'twin': 4615, 'spoil': 4121, 'credits': 1050, '15': 7, 'thousand': 4465, 'perfectly': 3226, 'chosen': 805, 'snow': 4045, 'mountains': 2918, 'sight': 3969, 'flawed': 1750, 'youth': 4994, 'culture': 1079, 'politics': 3326, 'touching': 4536, 'memorable': 2802, 'empathy': 1462, 'anywhere': 263, 'technical': 4381, 'remarkably': 3614, 'bizarre': 492, 'jaw': 2384, 'dropping': 1371, 'finale': 1723, 'powerful': 3360, 'climax': 849, 'wild': 4885, 'chose': 804, 'effectively': 1430, 'context': 968, 'marvelous': 2750, 'impressive': 2253, 'pink': 3277, 'visuals': 4759, 'contrary': 974, 'achievement': 94, 'taste': 4369, 'beat': 423, 'seeking': 3859, 'demands': 1175, 'addition': 118, 'wave': 4818, 'educational': 1425, 'documentaries': 1306, '11': 2, 'cinematic': 818, 'style': 4249, 'feature': 1678, 'rush': 3759, 'speed': 4103, 'terrifying': 4410, 'beauty': 430, 'pursuit': 3476, 'progress': 3425, 'remarkable': 3613, 'stick': 4185, 'tag': 4348, 'viewings': 4741, 'contact': 961, 'testament': 4417, 'popularity': 3334, 'academy': 77, 'nomination': 3026, 'documentary': 1307, 'witch': 4909, 'ex': 1549, 'girlfriend': 1910, 'nudity': 3059, 'particular': 3194, 'demon': 1177, 'follows': 1775, 'adult': 125, 'explained': 1587, 'exactly': 1551, 'survive': 4321, 'demons': 1178, 'trained': 4557, 'outfit': 3144, 'weekend': 4838, 'yeah': 4977, 'mindless': 2851, 'kinda': 2477, 'killed': 2469, 'hurt': 2202, 'cartoon': 704, 'mad': 2696, '100': 1, 'embarrassed': 1453, 'die': 1243, 'theater': 4427, 'island': 2361, 'luck': 2681, 'add': 115, 'hung': 2197, 'plenty': 3307, 'ray': 3533, 'everybody': 1540, 'complex': 923, 'leader': 2546, 'bill': 481, 'viewed': 4737, 'affected': 137, 'initial': 2290, 'claire': 831, 'expectations': 1576, 'pleased': 3305, 'humorous': 2193, 'compare': 911, 'compelling': 916, 'extent': 1605, 'joe': 2407, 'teach': 4374, 'students': 4239, 'grandmother': 1955, 'paint': 3173, 'bin': 483, 'widely': 4881, 'debut': 1143, 'aka': 168, 'warriors': 4803, 'castle': 712, 'sky': 4017, 'childish': 791, 'simplistic': 3985, 'compared': 912, 'masterpieces': 2760, 'delivery': 1173, 'service': 3896, 'ahead': 159, 'anime': 243, 'revolutionary': 3681, 'controversial': 978, 'aforementioned': 139, 'mainly': 2708, 'hero': 2088, 'heroine': 2091, 'todays': 4509, 'designs': 1204, 'animation': 242, 'allow': 189, 'roots': 3738, 'agreed': 156, 'japanese': 2382, 'shine': 3931, 'sci': 3815, 'fi': 1701, 'suitable': 4285, 'fits': 1741, 'suffice': 4279, 'nine': 3017, 'princess': 3397, 'subtitles': 4259, 'tend': 4400, 'dub': 1378, 'recorded': 3574, 'following': 1774, 'der': 1191, 'dawson': 1128, 'mark': 2739, 'luke': 2687, 'dick': 1239, 'michael': 2829, 'kevin': 2457, 'robin': 3715, 'hood': 2151, 'travesty': 4570, 'hello': 2078, 'name': 2960, 'spoiler': 4123, 'lucky': 2683, 'west': 4852, 'resembles': 3646, 'wicked': 4879, 'cross': 1066, 'dying': 1393, 'shoots': 3944, 'deliberately': 1166, 'kills': 2474, 'remaining': 3610, 'comparison': 914, 'easy': 1410, 'tight': 4492, 'western': 4853, 'wrapped': 4964, 'box': 555, 'gorgeous': 1942, 'fine': 1729, 'rip': 3700, 'open': 3112, 'moral': 2902, 'insight': 2298, 'using': 4698, 'kidding': 2465, 'empty': 1465, 'yes': 4982, 'striking': 4226, 'images': 2235, 'sets': 3899, 'catches': 715, 'colorful': 878, 'emotionally': 1460, 'surreal': 4317, 'praise': 3364, 'artificial': 306, 'williams': 4888, 'empire': 1464, 'ad': 110, 'alien': 183, 'vaguely': 4706, 'needs': 2990, 'oz': 3160, 'removed': 3624, 'jerk': 2395, 'barry': 401, 'pet': 3246, 'projects': 3428, 'filmmakers': 1720, 'field': 1704, 'featured': 1679, 'clumsy': 866, 'mechanical': 2788, 'brian': 576, 'string': 4227, 'dressed': 1358, '1980': 20, 'dressing': 1359, 'serial': 3889, 'remind': 3618, 'technically': 4382, 'creative': 1041, 'museum': 2945, 'rated': 3527, 'provides': 3450, 'revenge': 3675, 'laughter': 2535, 'french': 1830, 'unbelievable': 4634, 'pure': 3471, 'women': 4923, 'cliché': 844, 'began': 441, 'break': 569, 'happen': 2026, 'ask': 316, 'giant': 1905, 'causing': 726, 'promised': 3431, 'monkey': 2890, 'cheated': 775, 'chasing': 772, 'screaming': 3827, 'apes': 267, 'enjoyed': 1486, 'extreme': 1609, 'nights': 3016, 'drunk': 1375, 'bugs': 613, 'reasons': 3560, 'limits': 2607, 'deserved': 1200, 'longer': 2645, 'twilight': 4614, 'zone': 4999, 'haunted': 2050, 'sheer': 3925, 'menace': 2806, 'fascinated': 1657, 'disturbing': 1300, 'board': 522, 'menacing': 2807, 'havent': 2053, 'womans': 4922, 'greatest': 1966, 'weapon': 4828, 'viewers': 4739, 'stage': 4139, 'reaction': 3541, 'cared': 685, 'brad': 560, 'pitt': 3280, '12': 3, 'monkeys': 2891, 'club': 863, 'improvement': 2256, 'target': 4366, 'pacing': 3163, 'greatly': 1967, 'proceedings': 3410, 'keeps': 2451, 'flaw': 1749, 'cult': 1077, 'miracle': 2860, 'remarks': 3615, 'power': 3359, 'combined': 885, 'realism': 3549, 'nature': 2975, 'cause': 723, 'identity': 2217, 'level': 2584, 'starred': 4153, 'productions': 3420, 'hed': 2072, 'remembered': 3617, 'superbly': 4297, 'tremendous': 4579, 'adaptation': 113, 'michelle': 2830, 'fitting': 1742, 'easily': 1406, 'cd': 728, 'deal': 1135, 'shallow': 3917, 'desire': 1205, 'mundane': 2938, 'relate': 3593, 'daily': 1097, 'path': 3209, 'inevitably': 2283, 'destruction': 1216, 'questionable': 3488, 'howard': 2182, 'tear': 4379, 'apart': 264, 'whats': 4860, 'norman': 3035, 'answer': 251, 'tragedy': 4551, 'occur': 3076, 'blame': 499, 'sometimes': 4067, 'lifetime': 2594, 'theatre': 4429, 'week': 4837, 'yesterday': 4983, 'cable': 644, 'madonna': 2699, 'bomb': 531, 'studios': 4241, 'largely': 2518, 'deadly': 1133, 'whos': 4876, 'terribly': 4408, 'susan': 4326, 'alas': 172, 'meant': 2784, 'convinced': 984, 'unbearable': 4633, 'british': 589, 'listen': 2619, 'decade': 1144, 'latter': 2528, 'bette': 471, 'davis': 1126, 'photography': 3260, 'displayed': 1292, 'saving': 3797, 'wonders': 4931, 'worlds': 4947, 'escapes': 1519, 'bruce': 602, 'aint': 163, 'italian': 2367, 'immensely': 2243, 'altogether': 202, 'winning': 4898, 'nearly': 2981, 'centered': 733, 'nobody': 3022, 'deserves': 1201, 'feeling': 1685, 'wooden': 4934, 'display': 1291, 'hole': 2132, 'above': 68, 'strictly': 4223, 'odd': 3080, 'classes': 834, 'dialogue': 1234, 'succeeds': 4264, 'neither': 2996, 'routine': 3743, 'lovers': 2673, 'baby': 376, 'jane': 2380, 'charlotte': 766, 'victor': 4731, 'childrens': 793, 'halfway': 2008, 'tricks': 4583, 'winters': 4901, 'religious': 3608, 'lesbian': 2573, 'edge': 1418, 'dress': 1357, 'cup': 1080, 'iran': 2350, 'caught': 722, 'area': 286, 'prisoners': 3403, 'rules': 3754, 'frequently': 1832, 'mirror': 2861, 'presents': 3377, 'versions': 4721, 'circle': 821, 'system': 4345, 'tragic': 4552, 'demand': 1174, 'soccer': 4048, 'struggle': 4234, 'outcome': 3142, 'treated': 4573, 'lose': 2654, 'nations': 2971, 'paulie': 3215, 'marie': 2737, 'helps': 2082, 'talk': 4358, 'bird': 484, 'sad': 3767, 'birds': 485, 'urge': 4689, 'warming': 4795, 'itll': 2369, 'batman': 413, 'latest': 2526, 'minor': 2857, 'sub': 4252, 'return': 3665, 'appeal': 271, 'caused': 724, 'lies': 2591, 'suspenseful': 4331, 'adventures': 131, 'mid': 2832, '1990s': 25, 'previous': 3387, 'buying': 641, 'flaws': 1752, 'engage': 1479, 'car': 680, 'position': 3345, 'countryside': 1015, 'physically': 3263, 'deceased': 1146, 'ian': 2209, 'outstanding': 3147, 'thief': 4448, 'beautifully': 429, 'flawless': 1751, 'rex': 3683, 'captured': 677, 'bar': 396, 'twice': 4613, 'enter': 1494, 'wwii': 4975, 'continue': 969, 'underlying': 4641, 'justin': 2440, 'von': 4765, 'element': 1442, 'breaking': 570, 'waves': 4819, 'idiots': 2220, 'arrogant': 303, '50': 51, 'upon': 4684, 'artist': 307, 'europe': 1529, 'planet': 3289, 'taught': 4370, 'intrigued': 2334, 'confusing': 942, 'narrative': 2966, 'represent': 3637, 'nightmare': 3014, 'narration': 2965, 'towards': 4540, 'concerns': 934, 'hopefully': 2157, 'theatrical': 4430, 'aspect': 321, 'fisher': 1739, 'european': 1530, 'detective': 1220, 'root': 3737, 'track': 4544, 'narrator': 2967, 'difference': 1246, 'says': 3801, 'sequel': 3885, 'sorts': 4078, 'ourselves': 3140, 'bored': 541, 'thrillers': 4473, 'highly': 2105, 'richard': 3686, 'anderson': 227, 'shadow': 3912, 'assistant': 326, 'proves': 3447, 'dramatic': 1348, 'notch': 3043, 'letter': 2581, 'changes': 751, 'slight': 4027, 'presented': 3376, 'airport': 167, 'values': 4710, 'cia': 814, 'spent': 4108, 'vice': 4727, 'regret': 3591, 'losing': 2658, 'honest': 2146, 'claim': 828, 'lynch': 2691, 'atrocious': 335, 'sounds': 4084, 'relation': 3595, 'offensive': 3086, 'sake': 3775, 'ears': 1402, 'redeeming': 3577, 'spare': 4093, 'keaton': 2448, 'surrounded': 4318, 'gifted': 1907, 'relationship': 3597, 'attacked': 338, 'strangers': 4214, 'beaten': 424, 'raped': 3522, 'benefit': 465, 'arent': 288, 'novels': 3053, 'robots': 3718, 'closer': 856, 'bore': 540, 'names': 2963, 'foot': 1781, 'blown': 516, 'parallel': 3185, 'ancient': 225, 'noble': 3021, 'petty': 3249, 'greek': 1970, 'motion': 2913, 'flicks': 1755, 'revolution': 3680, 'handed': 2016, 'earlier': 1399, 'neil': 2995, 'hamilton': 2012, 'carol': 693, 'pace': 3161, '90': 60, 'tension': 4404, 'terms': 4406, 'league': 2549, 'east': 1407, 'broken': 594, 'extras': 1608, 'serves': 3895, 'status': 4165, 'recommended': 3572, 'impossible': 2249, 'thriller': 4472, 'richards': 3687, 'noir': 3023, 'intentions': 2321, 'central': 735, 'criminal': 1057, 'andrews': 229, 'driven': 1365, 'shown': 3959, 'screenwriter': 3833, 'tense': 4403, 'substance': 4258, 'hatred': 2049, 'develops': 1226, 'secretly': 3851, 'acts': 107, 'protagonists': 3442, 'facial': 1619, 'expressions': 1603, 'reflection': 3585, 'specific': 4099, 'dealing': 1136, 'rage': 3505, 'loses': 2657, 'keeping': 2450, 'riding': 3695, 'journey': 2421, 'law': 2538, '1950s': 14, 'risk': 3704, 'conservative': 948, 'approach': 282, 'everyday': 1541, 'backdrop': 379, 'pull': 3461, 'weight': 4840, 'cartoons': 705, 'depressing': 1188, 'per': 3223, 'police': 3322, 'inspector': 2299, 'veteran': 4724, 'waitress': 4773, 'attempts': 343, 'intensity': 2317, 'monsters': 2893, 'awesome': 371, 'sidney': 3968, 'jobs': 2406, 'various': 4715, 'formula': 1802, 'create': 1036, 'ultimate': 4627, 'creates': 1038, 'enemies': 1476, 'workers': 4943, 'white': 4870, 'england': 1482, 'ideal': 2214, 'parker': 3191, 'delight': 1167, 'satire': 3788, 'industry': 2280, 'suspense': 4330, 'turning': 4608, 'hollywoods': 2138, 'bond': 532, 'doctor': 1304, 'usa': 4691, 'nyc': 3065, 'afternoon': 144, 'price': 3389, 'clint': 850, 'eastwood': 1409, 'westerns': 4854, 'dollars': 1315, 'producers': 3416, 'houses': 2180, 'kenneth': 2455, 'intelligence': 2313, 'officer': 3092, 'spy': 4135, 'cynical': 1093, 'attitude': 346, 'national': 2970, 'vietnam': 4735, 'damage': 1099, 'chances': 748, 'process': 3412, 'cutting': 1092, 'india': 2273, 'value': 4709, 'land': 2511, 'raise': 3507, 'building': 615, 'vegas': 4717, 'sold': 4052, 'company': 910, 'universal': 4665, 'chief': 788, 'buried': 624, 'older': 3101, 'bbc': 417, 'brown': 601, 'titanic': 4503, 'accurate': 90, 'horses': 2171, 'wearing': 4831, 'covers': 1024, 'fault': 1668, 'nevertheless': 3002, 'wake': 4774, 'funeral': 1849, 'headed': 2058, 'downhill': 1336, 'mile': 2842, 'grim': 1974, 'returning': 3667, 'repeat': 3630, 'awkward': 374, 'performer': 3231, 'situations': 4009, 'portrayal': 3341, 'picking': 3267, 'crush': 1072, 'hasnt': 2044, 'paltrow': 3178, 'rachel': 3500, 'differences': 1247, 'werent': 4849, 'worn': 4948, 'inappropriate': 2259, 'describe': 1194, 'age': 148, 'broadcast': 591, '2002': 32, 'borrowed': 545, 'wow': 4962, 'purchased': 3470, 'dvds': 1392, 'somebody': 4062, 'warning': 4800, 'according': 88, 'section': 3853, 'dan': 1102, 'curtis': 1087, 'soap': 4047, 'producer': 3415, 'nostalgic': 3039, 'reputation': 3640, 'myself': 2953, 'fairy': 1632, 'trailers': 4555, 'convincingly': 986, 'makeup': 2717, 'niro': 3019, 'captain': 674, 'closet': 858, 'danes': 1108, 'miller': 2846, 'grant': 1956, 'kate': 2446, 'charlie': 765, 'bride': 577, 'woody': 4936, 'comedic': 888, 'murder': 2939, 'handsome': 2021, 'suspect': 4327, 'intrigue': 2333, 'mixed': 2877, 'fate': 1665, 'landscapes': 2514, 'troubles': 4594, 'rocks': 3722, 'broad': 590, 'mentions': 2813, 'threw': 4470, 'consistent': 953, 'relevant': 3604, 'incident': 2260, 'hold': 2129, 'defined': 1160, 'horse': 2170, 'letters': 2582, 'confusion': 943, 'eastern': 1408, 'doomed': 1327, 'knows': 2493, 'independent': 2272, 'civil': 826, 'plane': 3288, 'flies': 1756, 'trees': 4577, 'wedding': 4836, 'leaving': 2557, 'ticket': 4487, 'express': 1600, 'separate': 3883, 'band': 391, 'laughable': 2530, 'locations': 2636, 'qualities': 3483, 'fetched': 1698, 'naked': 2959, 'timing': 4498, 'developing': 1224, 'teacher': 4375, 'roll': 3728, 'washington': 4806, 'march': 2734, 're': 3535, 'bang': 393, 'judge': 2424, 'walter': 4784, 'stewart': 4184, 'scenery': 3810, 'splendid': 4119, 'offers': 3090, 'amount': 219, 'thirty': 4456, 'vampire': 4711, 'staying': 4168, 'pair': 3176, 'occasional': 3074, 'victim': 4729, 'groups': 1981, 'eye': 1611, 'candy': 668, 'provide': 3448, 'reviewer': 3677, 'feminist': 1695, 'historically': 2120, 'politically': 3325, 'correct': 1000, 'depiction': 1185, 'moved': 2922, 'challenge': 743, 'wishes': 4906, 'costume': 1005, 'ted': 4386, 'turner': 4607, 'moore': 2901, 'blows': 517, 'feet': 1688, 'individual': 2277, 'surprises': 4314, 'dialogues': 1235, 'natural': 2973, 'responsible': 3656, 'ultra': 4629, 'rubbish': 3748, 'easier': 1405, 'professor': 3422, 'assume': 328, 'gods': 1928, 'humans': 2190, 'genuine': 1891, 'intent': 2318, 'kinds': 2478, 'folk': 1770, 'catch': 714, 'strangely': 4212, 'technique': 4383, 'effective': 1429, 'obnoxious': 3067, 'wisdom': 4902, 'tooth': 4524, 'nightmares': 3015, 'treat': 4572, 'bargain': 400, 'dolph': 1317, 'footage': 1782, 'tortured': 4530, 'liners': 2611, 'lees': 2560, 'sincere': 3991, 'sounding': 4083, 'nonsensical': 3031, 'cops': 993, 'pulls': 3464, 'lee': 2559, 'instance': 2304, 'remain': 3609, 'silent': 3975, 'seemingly': 3863, 'sees': 3866, 'anyway': 261, 'exist': 1569, 'trailer': 4554, 'angeles': 233, 'brief': 579, 'drug': 1373, 'sidekick': 3966, 'johnny': 2410, 'unrealistic': 4677, 'youd': 4987, 'downright': 1337, 'managed': 2723, 'kung': 2498, 'fu': 1844, 'tea': 4373, 'reaches': 3538, 'closed': 854, 'door': 1328, 'beats': 426, 'picks': 3268, 'walks': 4780, 'glass': 1917, 'arm': 292, 'slightest': 4028, 'bullets': 621, 'killing': 2472, 'rain': 3506, 'blank': 501, 'bare': 398, 'chest': 784, 'manage': 2722, 'condition': 937, 'samurai': 3779, 'carrying': 701, 'bullet': 620, 'wound': 4960, 'unnecessary': 4672, 'gratuitous': 1961, 'nude': 3058, 'party': 3200, 'strip': 4228, 'eating': 1413, 'enthusiasm': 1501, 'eat': 1411, 'fish': 1738, 'chicks': 787, 'followed': 1773, 'villains': 4745, 'glimpse': 1919, 'enormous': 1490, 'stunt': 4245, 'repeatedly': 3632, 'illogical': 2231, 'thoughtful': 4463, 'merit': 2816, 'confused': 941, 'regarding': 3589, 'hardly': 2036, 'resist': 3648, 'hollow': 2135, 'treatment': 4574, 'screams': 3828, 'defense': 1159, 'depth': 1190, 'douglas': 1334, 'touches': 4535, 'wet': 4855, 'struck': 4232, 'gold': 1932, 'magnificent': 2705, 'obsession': 3070, 'heaven': 2068, 'imitation': 2241, 'paris': 3189, 'joy': 2422, 'bottom': 551, 'summary': 4290, '25': 40, 'jeremy': 2394, 'received': 3564, 'awards': 367, 'glenn': 1918, 'ok': 3098, 'statement': 4162, 'forty': 1807, 'shower': 3957, 'suddenly': 4273, 'animals': 240, 'arguably': 289, 'master': 2757, 'question': 3487, 'south': 4087, 'stands': 4147, 'essential': 1522, 'disappointment': 1275, 'kim': 2475, 'visually': 4758, 'odds': 3082, 'theyve': 4446, 'curse': 1086, 'laughably': 2531, 'forgive': 1795, 'dedicated': 1153, 'ron': 3734, 'swear': 4334, 'lucas': 2680, 'explain': 1586, 'useful': 4694, 'forgotten': 1797, 'disease': 1285, 'disney': 1289, 'possibilities': 3348, 'imagined': 2239, 'analysis': 224, 'focused': 1767, 'united': 4664, 'states': 4163, 'actions': 101, 'smith': 4038, 'nation': 2969, 'revelation': 3674, 'creator': 1043, 'blake': 498, 'perry': 3237, 'appropriate': 283, 'concerning': 933, 'centers': 734, 'vengeance': 4719, 'material': 2766, 'gain': 1863, 'anger': 235, 'justify': 2439, 'attorney': 348, 'argument': 291, 'convincing': 985, 'asking': 318, 'plight': 3308, 'serve': 3893, 'capital': 673, 'calm': 655, 'storm': 4206, 'served': 3894, 'isolated': 2363, 'americans': 214, 'savage': 3793, 'scott': 3824, 'wilson': 4891, 'brooks': 596, 'jungle': 2434, 'depicts': 1186, 'demented': 1176, 'warn': 4797, 'stomach': 4196, 'gripping': 1976, 'ensemble': 1492, 'vulnerable': 4768, 'flynn': 1765, '40s': 49, 'stephen': 4176, 'fest': 1696, 'nasty': 2968, 'oddly': 3081, 'dollar': 1314, 'rental': 3627, 'reflect': 3584, 'choice': 797, 'reminded': 3619, 'irony': 2357, 'camp': 662, 'walked': 4776, 'ridden': 3691, 'sudden': 4272, 'pleasantly': 3303, 'considerable': 950, 'pleasure': 3306, 'reviewers': 3678, 'guns': 1998, 'hands': 2020, 'cowboy': 1025, 'peoples': 3222, 'godfather': 1927, 'opportunities': 3120, 'bush': 632, 'episode': 1507, 'aired': 165, 'president': 3378, 'join': 2412, 'irrelevant': 2358, 'hunter': 2199, 'martin': 2748, 'led': 2558, 'search': 3841, 'souls': 4080, 'stolen': 4195, 'spooky': 4128, 'frankly': 1823, 'blew': 505, 'saved': 3795, 'provided': 3449, 'command': 897, 'polanski': 3321, 'returns': 3668, 'themes': 4434, 'madness': 2698, 'explored': 1595, 'trademark': 4548, 'attracted': 349, 'notably': 3042, 'shelley': 3928, 'weak': 4824, 'parody': 3192, 'exceptionally': 1559, 'chilling': 794, 'consistently': 954, 'uncomfortable': 4637, 'nicholas': 3010, 'stays': 4169, 'medium': 2792, 'recently': 3567, 'fighter': 1708, 'lives': 2628, 'collection': 874, 'survivors': 4325, 'families': 1644, 'ii': 2226, 'related': 3594, 'types': 4622, 'proud': 3444, 'member': 2800, 'retired': 3664, 'starring': 4154, 'cusack': 1088, 'fonda': 1777, 'uneven': 4649, 'combine': 884, 'appear': 273, 'changing': 752, 'near': 2979, 'worthwhile': 4955, 'corruption': 1002, 'vs': 4767, 'briefly': 580, '1930s': 11, 'forgettable': 1794, 'couples': 1017, 'huge': 2185, 'jimmy': 2403, 'alfred': 181, 'support': 4303, 'boot': 538, 'glad': 1916, 'results': 3662, 'essentially': 1523, 'antics': 255, 'metal': 2823, 'army': 295, 'battles': 415, 'drag': 1342, 'described': 1195, 'saves': 3796, 'hamlet': 2013, 'literature': 2623, 'dubbing': 1380, 'voices': 4763, 'forth': 1804, '3000': 43, 'reed': 3580, 'fighting': 1709, 'vacation': 4704, 'feed': 1683, 'elephant': 1444, 'college': 875, 'causes': 725, 'minded': 2850, 'education': 1424, 'unaware': 4632, 'arrives': 302, 'jim': 2402, 'lover': 2672, 'married': 2744, 'naturally': 2974, 'covered': 1023, 'magazine': 2701, 'photographer': 3259, 'china': 795, 'eve': 1532, 'hang': 2022, '18': 10, 'eager': 1396, 'description': 1197, 'block': 508, 'unintentionally': 4659, 'doll': 1313, 'fired': 1735, 'packed': 3166, 'burt': 629, 'reynolds': 3684, 'deals': 1137, 'structure': 4233, 'rural': 3758, 'urban': 4688, 'arrive': 300, 'bobby': 525, 'offered': 3088, 'react': 3540, 'ed': 1415, 'encounter': 1466, 'hills': 2109, 'grew': 1972, 'laws': 2540, 'behavior': 446, 'established': 1524, 'namely': 2962, 'assault': 324, 'majority': 2712, 'seat': 3845, 'surprisingly': 4316, 'surviving': 4323, 'deliver': 1169, 'missing': 2869, 'ie': 2221, 'timeless': 4496, 'individuals': 2278, 'notable': 3041, 'moody': 2899, 'replaced': 3634, 'user': 4696, 'pointed': 3317, 'enjoys': 1489, 'bound': 553, 'kick': 2460, 'explains': 1589, 'prepared': 3371, 'rarely': 3524, 'audiences': 353, 'shining': 3933, 'harris': 2038, 'whale': 4857, 'expert': 1585, 'bo': 521, 'derek': 1192, 'crew': 1053, 'fare': 1655, 'sell': 3871, 'expensive': 1579, 'dangerous': 1110, 'enjoyment': 1488, 'danger': 1109, 'spoke': 4125, 'training': 4558, 'switch': 4339, 'exaggerated': 1552, 'wacky': 4769, 'shall': 3916, 'unknown': 4668, 'territory': 4411, 'shape': 3919, 'seeks': 3860, 'indian': 2274, 'contrast': 975, 'costs': 1004, 'mere': 2814, 'infamous': 2284, 'asks': 319, 'helen': 2075, 'driver': 1366, 'entertain': 1497, 'whereas': 4865, 'lessons': 2578, 'suicide': 4283, 'composed': 926, 'careers': 687, 'interpretation': 2328, 'changed': 750, 'don': 1320, 'surfing': 4311, 'interviews': 2330, 'teen': 4388, 'sneak': 4043, 'screening': 3830, 'millions': 2848, 'stinker': 4191, 'cares': 690, 'icon': 2211, 'burn': 625, 'pseudo': 3454, 'repeated': 3631, 'porno': 3337, 'curious': 1083, 'grows': 1985, 'alright': 198, 'fellow': 1691, 'bone': 533, 'vincent': 4746, 'steal': 4170, 'crash': 1033, 'alive': 186, 'costumes': 1006, 'outrageous': 3145, 'comical': 894, 'dawn': 1127, 'press': 3379, 'mary': 2751, 'amanda': 205, 'combination': 883, 'brains': 563, 'ability': 65, 'inside': 2297, 'dating': 1120, 'jonathan': 2417, 'slick': 4026, 'web': 4833, 'diamond': 1236, 'putting': 3482, 'franchise': 1817, 'guide': 1993, 'blow': 514, 'masses': 2755, 'brosnan': 597, 'gentle': 1890, 'players': 3299, 'lively': 2627, 'babe': 375, 'positive': 3346, 'identify': 2216, 'form': 1798, 'angel': 231, 'visits': 4756, 'rose': 3739, 'garden': 1872, 'twist': 4617, 'existent': 1572, 'firstly': 1737, 'jean': 2389, 'page': 3167, 'warren': 4801, 'inept': 2281, 'persona': 3239, 'hook': 2152, '1st': 28, 'hired': 2117, '1940s': 13, '1970s': 17, 'theme': 4433, 'manner': 2729, 'handled': 2019, 'fights': 1710, 'pilot': 3276, 'steel': 4173, 'brave': 567, 'rape': 3521, 'sticks': 4186, 'rough': 3741, 'seasons': 3844, 'bright': 581, 'abusive': 75, 'selfish': 3870, 'simpson': 3987, 'beating': 425, 'caring': 691, 'stupidity': 4248, 'crude': 1069, 'thank': 4421, 'phantom': 3251, 'sinister': 3998, 'professional': 3421, 'comedies': 889, 'thus': 4486, 'broke': 593, 'matthew': 2772, 'pot': 3354, 'plant': 3293, 'wore': 4939, 'saturday': 3792, 'fever': 1699, 'picked': 3266, 'figured': 1712, 'hey': 2095, 'sandler': 3781, 'darkness': 1117, 'presentation': 3375, 'unable': 4631, 'digital': 1251, 'searching': 3842, 'tune': 4602, 'installment': 2303, 'hooked': 2153, 'waited': 4771, 'chapter': 757, 'learned': 2551, 'months': 2897, 'burned': 626, 'terrorist': 4413, 'private': 3404, 'jet': 2400, 'plan': 3287, 'foreign': 1790, 'clean': 838, 'countries': 1013, 'thousands': 4466, 'dear': 1140, 'capture': 676, 'drop': 1369, 'pack': 3165, 'shocking': 3940, 'styles': 4250, 'typically': 4624, 'depressed': 1187, 'knowledge': 2491, 'timothy': 4499, 'promise': 3430, 'wondering': 4930, 'loss': 2659, 'presence': 3373, 'armed': 293, 'colour': 880, 'creature': 1045, 'gruesome': 1986, 'messages': 2820, 'shark': 3921, 'prefer': 3368, 'represented': 3638, 'frightening': 1839, 'besides': 468, 'considering': 952, 'hopes': 2159, 'builds': 617, 'computer': 927, 'theyd': 4443, 'furthermore': 1854, 'unusual': 4681, 'movement': 2923, 'awe': 370, 'opens': 3115, 'fame': 1642, 'resolution': 3649, 'sequels': 3886, 'receive': 3563, 'grown': 1984, 'threat': 4467, 'glorious': 1921, 'worry': 4950, 'thoughts': 4464, 'spiritual': 4116, 'anyways': 262, 'touched': 4534, 'graphic': 1958, 'stellar': 4174, 'mixture': 2878, 'artistic': 308, 'directions': 1262, 'finding': 1727, 'angle': 236, 'plausible': 3295, 'domestic': 1318, 'frankenstein': 1822, 'insane': 2296, 'hospital': 2172, 'experiment': 1583, 'suspects': 4328, 'san': 3780, 'francisco': 1819, 'significant': 3972, 'showdown': 3955, 'golden': 1934, 'specifically': 4100, 'explore': 1594, 'portrays': 3344, 'blond': 510, 'drives': 1367, 'cuts': 1091, 'driving': 1368, 'alike': 185, 'attacks': 339, 'ruthless': 3764, 'personality': 3242, 'appeared': 276, 'uncle': 4636, 'season': 3843, 'communist': 907, 'harsh': 2040, 'illegal': 2229, 'criticism': 1063, 'italy': 2368, 'travel': 4567, 'piano': 3264, 'soviet': 4089, 'enemy': 1477, 'santa': 3783, 'satan': 3787, 'content': 966, 'cave': 727, 'reasonable': 3558, 'spoken': 4126, 'lengthy': 2570, 'attraction': 350, 'filmmaker': 1719, 'concert': 935, 'australia': 356, 'insult': 2309, 'singer': 3993, 'advise': 134, 'impress': 2250, 'creativity': 1042, 'annie': 247, 'hall': 2009, 'brand': 565, 'cheating': 776, 'renting': 3629, 'rat': 3525, 'boredom': 542, 'ballet': 389, 'logical': 2639, 'georges': 1894, 'definite': 1161, 'factor': 1622, 'somewhere': 4069, 'kicked': 2461, 'german': 1896, 'chooses': 800, 'crimes': 1056, 'birthday': 487, 'thru': 4483, 'clichéd': 845, 'stopped': 4202, 'deeper': 1155, 'technology': 4385, 'destroying': 1215, 'machines': 2694, 'generations': 1884, 'freedom': 1828, 'neo': 2998, 'creating': 1039, 'sides': 3967, 'sings': 3997, 'hitting': 2126, 'assumed': 329, 'mighty': 2836, 'goofy': 1939, 'oliver': 3102, 'gags': 1862, 'sports': 4130, 'cringe': 1059, 'international': 2326, 'language': 2516, 'fooled': 1780, 'implausible': 2245, 'build': 614, 'cars': 702, 'trade': 4547, 'relations': 3596, 'pushed': 3478, 'arrived': 301, 'honor': 2150, 'photos': 3261, 'carrey': 696, 'fears': 1677, 'swimming': 4338, 'witness': 4914, 'darker': 1116, 'events': 1536, 'pass': 3201, 'loose': 2650, 'sun': 4292, 'peace': 3219, 'traditional': 4550, 'football': 1783, 'pitch': 3279, 'friendship': 1838, 'purple': 3473, 'nail': 2957, 'shoes': 3941, 'wear': 4830, 'dreams': 1355, 'coach': 868, 'lesson': 2577, 'featuring': 1681, 'allowing': 191, 'amazed': 208, 'albeit': 173, 'lousy': 2667, 'explosion': 1596, 'chases': 771, 'choreographed': 801, 'rats': 3531, 'superior': 4300, 'count': 1010, 'texas': 4418, 'knock': 2488, 'hugh': 2186, 'enters': 1496, 'sid': 3964, 'grade': 1951, 'research': 3644, 'understanding': 4645, 'methods': 2825, 'invasion': 2340, 'bits': 490, 'starting': 4158, 'basis': 408, 'flesh': 1753, 'conspiracy': 956, 'sitcom': 4004, 'belong': 459, 'involving': 2349, 'christ': 807, 'trilogy': 4586, 'realizing': 3555, 'guts': 1999, 'branagh': 564, 'epic': 1506, 'shakespeare': 3915, 'dubbed': 1379, 'painting': 3175, 'lisa': 2616, 'miserably': 2864, 'asked': 317, 'joined': 2413, 'massacre': 2754, 'turkey': 4604, 'gary': 1873, 'secret': 3849, 'supernatural': 4302, 'thrown': 4481, 'solution': 4059, 'encounters': 1467, 'necessary': 2984, 'topic': 4526, 'closely': 855, 'online': 3109, 'merits': 2817, 'incompetent': 2266, 'multi': 2935, 'million': 2847, 'steven': 4182, 'spielberg': 4110, 'unbelievably': 4635, 'spectacular': 4101, 'inane': 2258, 'reveal': 3670, 'mysterious': 2955, 'twenty': 4612, 'coffee': 870, 'sentence': 3881, 'send': 3875, 'aspects': 322, 'tommy': 4516, 'voiced': 4762, 'jones': 2418, 'uninteresting': 4660, 'chris': 806, 'uninspired': 4657, 'performed': 3230, 'indie': 2276, 'jr': 2423, 'lucy': 2684, 'regard': 3588, 'network': 3000, 'slave': 4022, 'edgar': 1417, 'journalist': 2420, 'foster': 1809, 'believing': 457, 'abandoned': 62, 'deaths': 1142, 'inducing': 2279, 'necessarily': 2983, 'cagney': 646, 'tiresome': 4502, 'involve': 2345, 'winds': 4895, 'dislike': 1288, 'exposed': 1598, 'guessing': 1991, 'lived': 2626, 'meaningful': 2781, 'ho': 2127, 'stereotypes': 4179, 'conflict': 939, 'emotions': 1461, 'buff': 611, 'information': 2288, 'union': 4661, 'places': 3284, 'fathers': 1667, 'aid': 160, 'prime': 3395, 'bud': 607, 'sheriff': 3929, 'poverty': 3357, 'row': 3744, 'carradine': 695, 'foul': 1810, 'jaws': 2385, 'watches': 4814, 'experienced': 1581, 'baker': 385, 'li': 2587, 'neighborhood': 2993, 'affect': 136, 'includes': 2263, 'ninja': 3018, 'masterful': 2758, 'prison': 3401, 'los': 2653, 'cure': 1081, 'segment': 3867, 'meat': 2787, 'blowing': 515, 'drunken': 1376, 'cleverly': 842, 'stunts': 4246, 'willing': 4889, 'passion': 3205, 'imagery': 2234, 'tall': 4362, 'walls': 4783, 'interaction': 2322, 'coherent': 871, 'news': 3005, 'subjects': 4254, 'concern': 931, 'obsessed': 3069, 'forgot': 1796, 'anymore': 258, 'da': 1094, '1984': 23, 'jason': 2383, 'reel': 3581, 'solely': 4056, 'blair': 497, 'hip': 2114, 'larry': 2520, 'iii': 2227, '2006': 36, 'equal': 1509, 'bite': 489, 'represents': 3639, 'mature': 2773, 'mainstream': 2709, 'marks': 2742, 'weve': 4856, 'saga': 3773, 'atmospheric': 334, 'previously': 3388, 'engaged': 1480, 'daniel': 1111, 'arrival': 299, 'trail': 4553, 'investigate': 2342, 'features': 1680, 'charge': 761, 'revealing': 3672, 'disturbed': 1299, 'gradually': 1952, 'inner': 2292, 'murderer': 2941, 'agrees': 157, 'protagonist': 3441, 'amazingly': 210, 'chan': 746, 'mission': 2870, 'tradition': 4549, 'flight': 1757, 'presumably': 3380, 'mildly': 2840, 'emphasis': 1463, 'dies': 1245, 'staring': 4152, 'polished': 3323, 'storytelling': 4209, 'achieve': 92, 'recording': 3575, 'achieved': 93, 'deeply': 1156, 'lifestyle': 2593, 'stronger': 4230, 'explicit': 1591, 'credibility': 1047, 'iraq': 2351, 'dire': 1257, 'em': 1452, 'impact': 2244, 'poignant': 3315, 'equivalent': 1512, 'expression': 1602, 'happiness': 2031, 'spring': 4134, 'meeting': 2794, 'hideous': 2098, 'pieces': 3273, 'acid': 95, 'measure': 2786, 'heavily': 2069, 'kidnapped': 2466, 'wealthy': 4827, 'adams': 112, 'landscape': 2513, 'companion': 909, 'recognition': 3568, 'struggles': 4235, 'hill': 2108, 'basement': 405, 'stranger': 4213, 'adequate': 120, 'appearances': 275, 'print': 3399, 'held': 2074, 'university': 4667, 'colors': 879, 'movements': 2924, 'conventional': 979, 'smaller': 4034, 'favorites': 1672, 'plans': 3292, 'thrilling': 4474, 'sophisticated': 4075, 'abilities': 64, 'bettie': 473, 'ms': 2931, 'notorious': 3051, 'kudos': 2497, 'innocence': 2293, 'fool': 1779, 'breasts': 572, 'sport': 4129, 'pages': 3168, 'intimate': 2331, 'cards': 683, 'discovered': 1280, 'matched': 2763, 'characterization': 759, 'disc': 1278, 'devoted': 1231, 'taylor': 4372, 'celebrity': 729, 'existed': 1570, 'dave': 1123, 'brutal': 603, 'adapted': 114, 'destroyed': 1214, 'farce': 1654, 'wealth': 4826, 'loaded': 2632, 'overlook': 3153, 'mafia': 2700, 'cameos': 658, 'mysteries': 2954, 'mothers': 2912, 'blonde': 511, 'portray': 3340, 'proved': 3446, 'ear': 1397, 'sounded': 4082, 'introduce': 2336, 'tales': 4357, 'russell': 3761, 'bed': 436, 'baseball': 403, 'meanwhile': 2785, 'argue': 290, 'flashbacks': 1747, 'conversation': 980, 'indians': 2275, 'challenging': 744, 'provoking': 3452, 'kurt': 2499, 'lily': 2605, 'mars': 2746, 'judy': 2426, 'butt': 638, 'shirley': 3936, 'notion': 3050, 'rid': 3690, 'holes': 2133, 'inventive': 2341, 'appreciation': 281, 'morning': 2906, 'sullivan': 4288, 'via': 4726, 'device': 1227, 'instant': 2305, 'reveals': 3673, 'alternate': 200, 'sleep': 4024, 'rooms': 3736, 'lights': 2597, 'personalities': 3241, 'existence': 1571, 'guarantee': 1987, 'safety': 3772, 'subtlety': 4261, 'dynamic': 1394, 'cube': 1076, 'convoluted': 987, 'evident': 1547, 'constantly': 958, 'grey': 1973, 'twisted': 4618, 'mansion': 2731, 'allowed': 190, 'account': 89, 'rule': 3753, 'edie': 1419, 'frequent': 1831, 'lower': 2677, 'goodness': 1938, 'humanity': 2189, 'korean': 2495, 'neighbor': 2992, 'eyre': 1614, 'dalton': 1098, 'rochester': 3719, 'quiet': 3492, 'household': 2179, 'overcome': 3151, 'refuses': 3587, 'amateurish': 207, 'laid': 2508, 'rubber': 3747, 'exotic': 1574, 'contest': 967, 'proceeds': 3411, 'winner': 4897, 'versus': 4722, 'mass': 2753, 'church': 813, 'sleazy': 4023, 'committed': 905, 'drinking': 1362, 'horrifying': 2167, 'sadistic': 3768, 'beatty': 427, 'leo': 2571, 'ryan': 3765, 'brenda': 575, 'burton': 630, 'powers': 3361, 'riveting': 3708, 'opinions': 3119, 'luckily': 2682, 'primary': 3394, 'porn': 3336, 'bloody': 513, 'lips': 2615, 'teeth': 4393, 'friday': 1834, 'evening': 1534, 'crucial': 1068, 'amounts': 220, 'silence': 3974, 'excuse': 1564, 'pretentious': 3383, 'meaningless': 2782, 'tracks': 4545, 'comics': 895, 'liberal': 2588, 'hoffman': 2128, 'overlooked': 3154, 'cannibal': 669, 'jewish': 2401, 'civilization': 827, 'synopsis': 4344, 'victoria': 4732, 'sons': 4073, 'mistaken': 2872, 'needless': 2989, 'alcohol': 176, 'competition': 918, 'sink': 3999, 'site': 4005, 'glory': 1922, 'shadows': 3913, 'task': 4368, 'drink': 1361, 'sitting': 4007, 'intentionally': 2320, 'poetry': 3314, 'profound': 3423, 'supposedly': 4307, 'improved': 2255, 'scottish': 3825, 'harder': 2035, 'careful': 688, 'buffs': 612, 'facing': 1620, 'gang': 1867, 'wins': 4899, 'hudson': 2184, 'soldier': 4053, 'ties': 4490, 'plots': 3310, 'anthony': 253, 'mann': 2728, 'bat': 410, 'spoiled': 4122, 'won': 4925, 'fortune': 1806, 'gotten': 1947, 'delivered': 1170, 'dozens': 1339, 'originality': 3130, 'security': 3854, 'cruise': 1071, 'source': 4086, 'inspiration': 2300, 'lazy': 2543, 'formulaic': 1803, 'faith': 1633, 'teens': 4392, 'regular': 3592, 'answers': 252, 'loves': 2674, 'dig': 1250, 'sandra': 3782, 'elsewhere': 1449, 'seven': 3903, 'silver': 3977, 'shorts': 3948, 'landing': 2512, 'study': 4242, 'writes': 4970, 'push': 3477, 'satisfying': 3791, 'appealing': 272, 'con': 928, 'bleak': 503, 'desperation': 1210, 'cook': 988, 'scheme': 3812, 'lit': 2621, 'worker': 4942, 'sexually': 3910, 'contemporary': 965, 'admittedly': 123, 'sue': 4274, 'adorable': 124, 'introduction': 2339, 'scope': 3821, 'planning': 3291, 'patrick': 3213, '14': 6, 'matters': 2770, 'hates': 2048, 'accidentally': 85, 'birth': 486, 'similarly': 3980, 'focuses': 1768, 'holmes': 2139, 'hyde': 2206, 'davies': 1125, 'cabin': 643, 'zombie': 4997, 'abysmal': 76, 'accident': 84, 'improve': 2254, 'kennedy': 2454, 'property': 3438, 'modesty': 2883, 'wishing': 4907, 'letting': 2583, 'dropped': 1370, 'wounded': 4961, 'soldiers': 4054, 'countless': 1012, 'cried': 1054, 'combat': 882, 'contain': 962, 'teaching': 4377, 'lake': 2509, 'phone': 3255, 'internet': 2327, 'areas': 287, 'born': 544, 'deserve': 1199, 'perfection': 3225, 'cameron': 661, 'spends': 4107, 'apartment': 265, 'possibility': 3349, 'regardless': 3590, 'clues': 865, 'pick': 3265, 'royal': 3746, 'nominated': 3025, 'someones': 4065, 'connected': 945, 'recognize': 3569, 'tim': 4494, 'ingredients': 2289, 'dolls': 1316, 'amitabh': 216, 'carries': 699, 'attached': 336, 'philip': 3252, 'stretch': 4221, 'lumet': 2688, 'masters': 2761, 'kiss': 2483, 'melodramatic': 2798, 'smoke': 4039, 'twelve': 4611, 'highest': 2102, 'scientists': 3819, 'global': 1920, 'media': 2789, 'evidence': 1546, 'horrid': 2165, 'sean': 3840, 'criminals': 1058, 'draws': 1352, 'fourth': 1813, 'department': 1182, 'pat': 3208, 'investigation': 2343, 'jennifer': 2392, 'link': 2613, 'burning': 627, 'offering': 3089, 'continuity': 972, 'directs': 1267, 'joseph': 2419, 'earl': 1398, 'engaging': 1481, 'code': 869, 'philosophy': 3254, 'blend': 504, 'germany': 1898, 'misery': 2865, 'promises': 3432, 'complicated': 925, 'swedish': 4335, 'advice': 133, 'nicely': 3009, 'harvey': 2042, 'partly': 3197, 'teachers': 4376, 'shirt': 3937, 'passes': 3203, 'goal': 1925, 'greater': 1965, 'choose': 799, 'inspiring': 2302, 'grand': 1953, 'providing': 3451, 'unpredictable': 4675, 'rings': 3699, 'eg': 1434, 'loads': 2633, 'dragon': 1344, 'acceptable': 81, 'lab': 2501, 'required': 3641, 'occasion': 3073, 'spanish': 4092, 'quotes': 3497, 'sucks': 4271, 'priceless': 3390, 'ridiculously': 3694, 'beast': 422, 'buddies': 608, 'appalling': 268, 'louise': 2666, 'diana': 1237, 'britain': 588, 'suited': 4286, 'rising': 3703, 'buck': 605, '1933': 12, 'dust': 1388, 'killings': 2473, 'catching': 716, 'cardboard': 682, 'bela': 450, 'lugosi': 2686, 'yellow': 4981, 'advantage': 129, 'variety': 4714, 'climactic': 848, 'scientist': 3818, 'financial': 1725, 'eighties': 1437, '1990': 24, 'competent': 917, 'charismatic': 763, 'overacting': 3149, 'tomatoes': 4515, 'france': 1816, 'minimum': 2856, 'showcase': 3954, 'blade': 495, 'dialogs': 1233, 'mel': 2796, 'stinks': 4192, 'vivid': 4760, 'stones': 4198, 'latin': 2527, 'settle': 3902, 'farm': 1656, 'paying': 3217, 'ashley': 313, 'elegant': 1441, 'catchy': 717, 'comparing': 913, 'undoubtedly': 4648, 'portrait': 3339, 'accused': 91, 'decision': 1151, 'race': 3499, 'racism': 3502, 'womens': 4924, 'choices': 798, 'racist': 3503, 'denzel': 1181, 'midnight': 2834, 'pie': 3271, 'bourne': 554, 'fallen': 1638, 'freak': 1824, 'hart': 2041, 'omen': 3104, 'basketball': 409, 'businessman': 634, 'assigned': 325, 'homer': 2144, 'virginia': 4750, 'laura': 2536, 'prize': 3405, 'craft': 1028, 'doubts': 1333, 'resort': 3650, 'australian': 357, 'sappy': 3784, 'mayor': 2777, '13': 4, 'pride': 3391, '2001': 31, 'lawyer': 2541, 'gothic': 1945, 'southern': 4088, 'object': 3066, 'bollywood': 530, 'twins': 4616, 'copies': 992, 'aliens': 184, 'precious': 3366, 'hysterical': 2208, 'weeks': 4839, 'johnson': 2411, 'linda': 2609, 'tie': 4488, 'ramones': 3512, 'punk': 3468, 'guilty': 1995, 'generated': 1882, 'influenced': 2287, 'belongs': 460, 'gross': 1978, 'struggling': 4236, 'frustration': 1843, 'legend': 2564, 'kicks': 2463, 'lewis': 2586, 'superhero': 4299, 'base': 402, 'moronic': 2907, 'superman': 4301, 'model': 2880, 'unfortunate': 4653, 'exact': 1550, 'popcorn': 3331, 'scientific': 3817, 'stated': 4161, 'eva': 1531, 'satisfy': 3790, 'frustrated': 1842, 'divorce': 1301, 'adam': 111, 'tame': 4363, 'swim': 4337, 'admire': 121, 'craig': 1030, 'inferior': 2285, 'surface': 4310, 'mentioned': 2811, 'bold': 528, 'pays': 3218, 'refreshing': 3586, 'occasionally': 3075, 'host': 2173, 'wells': 4845, 'attempted': 341, 'ought': 3138, 'skin': 4015, 'celluloid': 731, 'noted': 3045, 'wholly': 4874, 'sacrifice': 3766, 'rank': 3518, 'behave': 445, 'faults': 1669, 'teenagers': 4391, 'despair': 1207, 'muslim': 2949, 'restored': 3659, 'court': 1020, 'ken': 2453, 'brilliance': 582, 'confidence': 938, 'columbo': 881, 'bear': 420, 'plague': 3285, 'widmark': 4882, 'sensitive': 3879, 'ruby': 3749, 'liking': 2604, 'attitudes': 347, 'slapstick': 4019, 'blatant': 502, 'worried': 4949, 'jenny': 2393, 'tends': 4402, 'brando': 566, 'raising': 3509, 'doors': 1329, 'guard': 1988, 'newly': 3004, 'table': 4346, 'hop': 2154, 'producing': 3417, 'honesty': 2148, 'cole': 873, 'stylish': 4251, 'spite': 4117, 'homage': 2141, 'forms': 1801, 'olivier': 3103, 'wes': 4851, 'craven': 1034, 'alexander': 180, 'tender': 4401, 'emily': 1456, 'connection': 946, 'mistress': 2874, 'richardson': 3688, 'learning': 2552, 'maggie': 2702, 'schools': 3814, 'afterwards': 145, 'failing': 1627, 'falk': 1636, 'overdone': 3152, 'sunshine': 4294, 'simon': 3982, 'matthau': 2771, 'abc': 63, 'nostalgia': 3038, 'clips': 852, 'clown': 862, 'manhattan': 2726, 'wide': 4880, 'sleeping': 4025, '1972': 18, 'died': 1244, 'definition': 1163, 'describes': 1196, 'size': 4012, 'satisfied': 3789, 'understood': 4647, 'experiments': 1584, 'exposure': 1599, 'guessed': 1990, 'raised': 3508, 'horrors': 2169, 'carpenter': 694, 'dinosaurs': 1256, 'lasted': 2522, 'corpse': 999, 'enterprise': 1495, 'equipment': 1511, 'bringing': 586, 'trek': 4578, 'brazil': 568, 'halloween': 2010, 'shy': 3962, 'determined': 1221, 'website': 4834, 'disappoint': 1272, 'trial': 4580, 'glover': 1923, 'troops': 4591, 'goldberg': 1933, 'festival': 1697, 'titles': 4506, 'clothing': 861, 'triumph': 4590, 'husbands': 2205, 'karen': 2444, 'rocky': 3723, 'virgin': 4749, 'shell': 3927, 'wished': 4905, 'lay': 2542, 'potentially': 3356, 'misses': 2868, 'closing': 859, 'bears': 421, 'underrated': 4642, 'album': 175, 'portion': 3338, 'dracula': 1341, 'awake': 365, 'crowd': 1067, 'closest': 857, 'excited': 1561, 'survival': 4320, 'gory': 1943, 'exploitation': 1592, 'defend': 1158, 'rangers': 3517, 'jumping': 2431, 'ripped': 3701, 'splatter': 4118, 'creation': 1040, 'mountain': 2917, 'dinosaur': 1255, '3d': 46, 'loosely': 2651, 'nowadays': 3055, 'planned': 3290, 'stereotype': 4178, 'instinct': 2308, 'preview': 3386, 'oscars': 3134, 'nazi': 2977, 'authority': 360, 'fulci': 1845, 'excessive': 1560, 'elvis': 1451, 'hippie': 2115, 'pants': 3182, 'advanced': 128, '1968': 16, 'rendition': 3625, 'purchase': 3469, 'atlantis': 332, 'shortly': 3947, 'tiger': 4491, 'melodrama': 2797, 'classics': 837, 'fx': 1858, 'drags': 1345, 'drops': 1372, 'pretending': 3382, 'ralph': 3510, 'barbara': 397, 'pig': 3274, 'todd': 4510, 'suffer': 4275, 'official': 3094, 'nose': 3037, 'knife': 2487, 'worthless': 4954, 'bedroom': 437, '16': 8, 'disjointed': 1287, 'bible': 477, 'sunday': 4293, 'raymond': 3534, 'francis': 1818, 'translation': 4562, 'pulp': 3465, 'reference': 3582, 'americas': 215, 'accepted': 82, 'crying': 1074, 'transfer': 4559, 'fields': 1705, 'stretched': 4222, 'manipulative': 2727, 'handle': 2018, 'le': 2544, 'creep': 1051, 'kissing': 2484, 'nicholson': 3011, 'entertained': 1498, 'dentist': 1180, 'motivation': 2914, 'techniques': 4384, 'hurts': 2203, 'program': 3424, 'canada': 666, 'month': 2896, 'dinner': 1254, 'gordon': 1940, 'ruins': 3752, 'terry': 4415, 'carrie': 697, 'angela': 232, 'eccentric': 1414, 'lately': 2524, 'innovative': 2295, 'models': 2881, 'descent': 1193, 'balance': 387, 'understandable': 4644, 'surrounding': 4319, 'unsettling': 4679, 'beer': 439, 'expressed': 1601, 'stanwyck': 4149, 'chicago': 785, 'erotic': 1515, 'dignity': 1252, 'blues': 519, 'margaret': 2735, 'daring': 1114, 'bay': 416, 'stood': 4199, 'jesus': 2399, 'surprising': 4315, 'spin': 4112, 'chaos': 755, 'extraordinary': 1607, 'plastic': 3294, 'subplots': 4256, 'redemption': 3578, 'jessica': 2398, 'streep': 4215, 'continued': 970, 'currently': 1085, 'neat': 2982, 'gangsters': 1869, 'throwing': 4480, 'banned': 395, 'generic': 1885, 'false': 1641, 'aimed': 162, 'brutally': 604, 'homeless': 2143, 'spending': 4106, 'aids': 161, 'reached': 3537, 'resources': 3651, 'africa': 141, 'lol': 2640, 'pregnant': 3369, 'simmons': 3981, 'hunt': 2198, 'boat': 523, 'streisand': 4218, 'directorial': 1265, 'performing': 3233, 'pops': 3332, 'overwhelming': 3157, 'peters': 3248, 'directly': 1263, 'orange': 3125, 'disaster': 1276, 'disneys': 1290, 'weakest': 4825, 'cinderella': 815, 'backgrounds': 381, 'creatures': 1046, 'ward': 4793, 'drawing': 1350, 'exploration': 1593, 'accompanied': 86, 'medical': 2790, 'noise': 3024, 'patients': 3212, 'photographed': 3258, 'everywhere': 1545, 'smooth': 4041, 'involvement': 2347, 'nazis': 2978, 'poster': 3353, 'complain': 919, 'sloppy': 4030, 'scares': 3806, 'hank': 2024, 'prince': 3396, 'stale': 4141, 'ape': 266, 'thrill': 4471, '13th': 5, '1980s': 21, 'claimed': 829, 'cell': 730, 'trap': 4563, 'ratings': 3530, 'entry': 1504, 'spider': 4109, 'holly': 2136, 'passionate': 3206, 'perform': 3227, 'survivor': 4324, 'karloff': 2445, 'felix': 1689, 'believed': 455, 'gandhi': 1866, 'cities': 823, 'editor': 1423, 'newspaper': 3006, 'border': 539, 'african': 142, 'akshay': 169, 'hype': 2207, 'obscure': 3068, 'stooges': 4200, 'intense': 2316, 'chess': 783, 'sexuality': 3909, 'complexity': 924, 'fury': 1855, 'chased': 770, 'treasure': 4571, 'critic': 1061, 'dennis': 1179, 'talked': 4359, 'morris': 2908, 'consequences': 947, 'species': 4098, 'nuclear': 3057, '2007': 37, 'heston': 2094, 'berlin': 467, 'similarities': 3979, 'travels': 4569, 'possessed': 3347, 'wrestling': 4966, 'thugs': 4484, 'occurred': 3077, 'pulling': 3463, 'bank': 394, 'ya': 4976, 'carter': 703, 'kitchen': 2485, 'wing': 4896, 'hardcore': 2034, 'st': 4137, 'crack': 1027, 'zombies': 4998, 'matches': 2764, 'returned': 3666, 'kane': 2442, 'unoriginal': 4673, 'carl': 692, 'stargate': 4151, 'thumbs': 4485, 'robbins': 3712, 'map': 2733, 'flop': 1760, 'illness': 2230, 'lie': 2590, 'sadness': 3770, 'wolf': 4920, 'ocean': 3079, 'hunters': 2200, 'greed': 1968, 'sentimental': 3882, '60': 53, 'roy': 3745, 'spread': 4133, 'overrated': 3156, 'che': 773, 'scale': 3802, 'del': 1165, 'tedious': 4387, 'pop': 3330, 'iron': 2354, 'forbidden': 1785, 'fbi': 1675, '2003': 33, 'contract': 973, 'errors': 1516, 'realise': 3548, '70': 55, 'pool': 3327, 'widow': 4883, 'aging': 153, 'jazz': 2387, 'displays': 1293, 'loyal': 2679, 'escaped': 1518, 'lawrence': 2539, 'mst3k': 2932, 'werewolf': 4850, 'cases': 708, 'principal': 3398, 'signed': 3971, 'bath': 411, 'boom': 537, 'screens': 3832, 'hopper': 2161, 'motivations': 2915, 'hundreds': 2196, 'haunting': 2051, 'granted': 1957, 'incomprehensible': 2267, 'succeeded': 4263, 'rise': 3702, 'seventies': 3904, 'sits': 4006, 'ellen': 1446, 'spell': 4104, 'taxi': 4371, 'psychic': 3456, 'heat': 2067, 'distinct': 1296, 'terrorists': 4414, 'unit': 4663, 'thrills': 4475, 'dorothy': 1330, 'guilt': 1994, 'performs': 3234, 'wannabe': 4787, 'floating': 1758, 'arnold': 296, 'succeed': 4262, 'pushing': 3479, 'interview': 2329, 'eric': 1514, 'beings': 449, 'tonight': 4519, 'ruth': 3763, 'fix': 1744, 'anne': 246, 'robbery': 3711, 'gerard': 1895, 'hire': 2116, 'doom': 1326, 'larger': 2519, 'figures': 1713, 'cinematographer': 819, 'spike': 4111, 'dramas': 1347, 'comedian': 887, 'embarrassment': 1455, 'cuba': 1075, 'fatal': 1664, 'edition': 1422, 'florida': 1761, 'yelling': 4980, 'maria': 2736, 'ah': 158, 'daddy': 1096, 'afford': 138, 'orders': 3127, 'prom': 3429, 'repetitive': 3633, 'bell': 458, 'witnesses': 4916, 'throat': 4476, 'severe': 3906, 'vast': 4716, 'tarzan': 4367, 'gabriel': 1859, 'kirk': 2482, 'signs': 3973, 'suggested': 4281, 'purposes': 3475, 'opposed': 3122, 'wizard': 4919, 'kingdom': 2480, 'beloved': 461, 'everyones': 1543, 'ethan': 1528, 'uwe': 4703, 'boll': 529, 'virus': 4752, 'generous': 1886, 'wives': 4918, 'seed': 3856, 'disappeared': 1271, 'beliefs': 452, 'checking': 778, 'tribute': 4581, 'duty': 1390, 'blunt': 520, 'giallo': 1904, 'locked': 2637, 'discussion': 1284, 'walker': 4778, 'pearl': 3220, '1996': 26, 'compelled': 915, 'ring': 3698, 'square': 4136, 'slap': 4018, 'suffered': 4276, 'faster': 1662, 'neighbors': 2994, 'guest': 1992, 'psychotic': 3459, 'market': 2740, 'underground': 4640, 'betty': 474, 'hopeless': 2158, 'voight': 4764, 'montana': 2895, 'bottle': 550, 'boxing': 556, 'cliche': 843, 'discovery': 1282, 'stanley': 4148, 'distracting': 1297, 'legal': 2563, 'channels': 754, 'eaten': 1412, 'eyed': 1612, 'lemmon': 2567, 'caine': 647, 'lou': 2663, 'godzilla': 1929, 'humble': 2191, 'winter': 4900, 'laurel': 2537, 'hanks': 2025, 'focusing': 1769, 'corporate': 998, 'ford': 1789, 'oil': 3097, 'conflicts': 940, 'classical': 836, 'sends': 3876, 'cary': 706, 'reaching': 3539, 'mentioning': 2812, 'junior': 2435, 'poem': 3312, 'tad': 4347, 'scores': 3823, 'progresses': 3426, 'bands': 392, 'depicting': 1184, 'integrity': 2311, 'blob': 507, 'contained': 963, 'explaining': 1588, 'gotta': 1946, 'prevent': 3385, 'freeman': 1829, 'waters': 4817, 'gray': 1963, 'september': 3884, '1999': 27, 'lowest': 2678, 'resident': 3647, 'catholic': 720, 'sally': 3776, 'bathroom': 412, 'officers': 3093, 'khan': 2459, 'bacall': 377, 'constructed': 959, 'rebel': 3561, 'operation': 3117, 'cameras': 660, 'lion': 2614, 'mail': 2706, 'gender': 1878, 'suspend': 4329, 'stan': 4142, 'abraham': 69, 'relies': 3606, 'decisions': 1152, 'witches': 4910, 'rambo': 3511, 'invisible': 2344, 'pit': 3278, 'roman': 3731, 'warmth': 4796, 'futuristic': 1857, 'citizen': 824, 'franco': 1820, '1983': 22, 'method': 2824, 'wrap': 4963, 'hal': 2006, 'receives': 3565, 'mall': 2720, 'montage': 2894, '75': 57, 'parties': 3196, 'elm': 1447, 'valuable': 4708, 'molly': 2884, 'curiosity': 1082, 'reasonably': 3559, 'june': 2433, '24': 39, 'restaurant': 3658, 'donna': 1323, 'dutch': 1389, 'alcoholic': 177, 'colonel': 876, 'respected': 3653, 'witnessed': 4915, 'ships': 3935, 'elaborate': 1439, 'jeffrey': 2391, 'motives': 2916, 'prisoner': 3402, 'seagal': 3839, 'miike': 2837, 'april': 284, 'females': 1694, 'crocodile': 1065, 'factory': 1623, 'punishment': 3467, 'ironically': 2356, 'clip': 851, 'pal': 3177, 'valley': 4707, 'kay': 2447, 'amy': 222, 'ireland': 2352, 'bakshi': 386, 'snake': 4042, 'gadget': 1860, 'championship': 745, 'visible': 4753, 'cheek': 779, 'stole': 4194, 'scarecrow': 3804, 'snl': 4044, 'spain': 4091, 'devils': 1229, 'nurse': 3063, 'relatives': 3601, 'access': 83, 'attend': 344, 'dickens': 1240, 'rick': 3689, 'doc': 1303, 'sellers': 3872, 'lincoln': 2608, 'jesse': 2397, 'trashy': 4566, 'stilted': 4190, 'agents': 151, 'marty': 2749, 'domino': 1319, 'elvira': 1450, 'survived': 4322, 'scrooge': 3837, 'grinch': 1975, 'melting': 2799, 'lena': 2568, 'willis': 4890, 'gundam': 1997, 'audio': 354, 'garbo': 1871}\n"
     ]
    }
   ],
   "source": [
    "print(str(vocabulary))"
   ]
  },
  {
   "cell_type": "markdown",
   "metadata": {},
   "source": [
    "Once you have added the endpoint name to the Lambda function, click on **Save**. Your Lambda function is now up and running. Next we need to create a way for our web app to execute the Lambda function."
   ]
  },
  {
   "cell_type": "markdown",
   "metadata": {},
   "source": [
    "### Setting up API Gateway\n",
    "\n",
    "Now that our Lambda function is set up, it is time to create a new API using API Gateway that will trigger the Lambda function we have just created.\n",
    "\n",
    "Using AWS Console, navigate to **Amazon API Gateway** and then click on **Get started**.\n",
    "\n",
    "On the next page, make sure that **New API** is selected and give the new api a name, for example, `sentiment_analysis_web_app`. Then, click on **Create API**.\n",
    "\n",
    "Now we have created an API, however it doesn't currently do anything. What we want it to do is to trigger the Lambda function that we created earlier.\n",
    "\n",
    "Select the **Actions** dropdown menu and click **Create Method**. A new blank method will be created, select its dropdown menu and select **POST**, then click on the check mark beside it.\n",
    "\n",
    "For the integration point, make sure that **Lambda Function** is selected and click on the **Use Lambda Proxy integration**. This option makes sure that the data that is sent to the API is then sent directly to the Lambda function with no processing. It also means that the return value must be a proper response object as it will also not be processed by API Gateway.\n",
    "\n",
    "Type the name of the Lambda function you created earlier into the **Lambda Function** text entry box and then click on **Save**. Click on **OK** in the pop-up box that then appears, giving permission to API Gateway to invoke the Lambda function you created.\n",
    "\n",
    "The last step in creating the API Gateway is to select the **Actions** dropdown and click on **Deploy API**. You will need to create a new Deployment stage and name it anything you like, for example `prod`.\n",
    "\n",
    "You have now successfully set up a public API to access your SageMaker model. Make sure to copy or write down the URL provided to invoke your newly created public API as this will be needed in the next step. This URL can be found at the top of the page, highlighted in blue next to the text **Invoke URL**."
   ]
  },
  {
   "cell_type": "markdown",
   "metadata": {},
   "source": [
    "## Step 7: Deploying our web app\n",
    "\n",
    "Now that we have a publicly available API, we can start using it in a web app. For our purposes, we have provided a simple static html file which can make use of the public api you created earlier.\n",
    "\n",
    "In the `website` folder there should be a file called `index.html`. Download the file to your computer and open that file up in a text editor of your choice. There should be a line which contains **\\*\\*REPLACE WITH PUBLIC API URL\\*\\***. Replace this string with the url that you wrote down in the last step and then save the file.\n",
    "\n",
    "Now, if you open `index.html` on your local computer, your browser will behave as a local web server and you can use the provided site to interact with your SageMaker model.\n",
    "\n",
    "If you'd like to go further, you can host this html file anywhere you'd like, for example using github or hosting a static site on Amazon's S3. Once you have done this you can share the link with anyone you'd like and have them play with it too!\n",
    "\n",
    "> **Important Note** In order for the web app to communicate with the SageMaker endpoint, the endpoint has to actually be deployed and running. This means that you are paying for it. Make sure that the endpoint is running when you want to use the web app but that you shut it down when you don't need it, otherwise you will end up with a surprisingly large AWS bill."
   ]
  },
  {
   "cell_type": "markdown",
   "metadata": {},
   "source": [
    "### Delete the endpoint\n",
    "\n",
    "Remember to always shut down your endpoint if you are no longer using it. You are charged for the length of time that the endpoint is running so if you forget and leave it on you could end up with an unexpectedly large bill."
   ]
  },
  {
   "cell_type": "code",
   "execution_count": 49,
   "metadata": {},
   "outputs": [],
   "source": [
    "xgb_predictor.delete_endpoint()"
   ]
  },
  {
   "cell_type": "markdown",
   "metadata": {},
   "source": [
    "## Optional: Clean up\n",
    "\n",
    "The default notebook instance on SageMaker doesn't have a lot of excess disk space available. As you continue to complete and execute notebooks you will eventually fill up this disk space, leading to errors which can be difficult to diagnose. Once you are completely finished using a notebook it is a good idea to remove the files that you created along the way. Of course, you can do this from the terminal or from the notebook hub if you would like. The cell below contains some commands to clean up the created files from within the notebook."
   ]
  },
  {
   "cell_type": "code",
   "execution_count": 50,
   "metadata": {},
   "outputs": [],
   "source": [
    "# First we will remove all of the files contained in the data_dir directory\n",
    "!rm $data_dir/*\n",
    "\n",
    "# And then we delete the directory itself\n",
    "!rmdir $data_dir\n",
    "\n",
    "# Similarly we remove the files in the cache_dir directory and the directory itself\n",
    "!rm $cache_dir/*\n",
    "!rmdir $cache_dir"
   ]
  },
  {
   "cell_type": "code",
   "execution_count": null,
   "metadata": {},
   "outputs": [],
   "source": []
  }
 ],
 "metadata": {
  "kernelspec": {
   "display_name": "conda_python3",
   "language": "python",
   "name": "conda_python3"
  },
  "language_info": {
   "codemirror_mode": {
    "name": "ipython",
    "version": 3
   },
   "file_extension": ".py",
   "mimetype": "text/x-python",
   "name": "python",
   "nbconvert_exporter": "python",
   "pygments_lexer": "ipython3",
   "version": "3.6.10"
  }
 },
 "nbformat": 4,
 "nbformat_minor": 2
}
